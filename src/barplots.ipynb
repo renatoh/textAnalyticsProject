{
 "cells": [
  {
   "cell_type": "code",
   "execution_count": 1,
   "metadata": {},
   "outputs": [],
   "source": [
    "import pandas as pd\n",
    "import ast\n",
    "import operator"
   ]
  },
  {
   "cell_type": "code",
   "execution_count": 2,
   "metadata": {},
   "outputs": [],
   "source": [
    "df = pd.read_csv(\"../resources/count_vectors_all.csv\")"
   ]
  },
  {
   "cell_type": "code",
   "execution_count": 70,
   "metadata": {},
   "outputs": [],
   "source": [
    "# Refernce: https://www.tutorialspoint.com/How-to-convert-a-string-to-dictionary-in-Python, 15.1.2021.\n",
    "# Reference: https://stackoverflow.com/questions/20577840/python-dictionary-sorting-in-descending-order-based-on-values, 15.1.2021.\n",
    "# Reference: https://www.stechies.com/valueerror-using-scalar-values-must-pass-index/, 15.1.2021.\n",
    "\n",
    "topN = 20 # select the number of top entities\n",
    "df_list = []\n",
    "for i in range(0,df.shape[0]):\n",
    "    df_tmp = ast.literal_eval(df.iloc[i, 1])\n",
    "    df_tmp = sorted(df_tmp.items(), key=operator.itemgetter(1), reverse=True)\n",
    "    df_tmp = dict(df_tmp)\n",
    "    df_tmp = pd.DataFrame(df_tmp, index=[0])\n",
    "    df_tmp = df_tmp.T\n",
    "    df_tmp.columns = ['count']\n",
    "    df_tmp.reset_index(inplace=True)\n",
    "    df_tmp = df_tmp.rename(columns = {'index':'entity'})\n",
    "    df_tmp[\"month\"] = df.iloc[i, 0]\n",
    "    topN_tmp = df_tmp.iloc[:(topN + 1),]\n",
    "    df_list.append(topN_tmp)\n",
    "df_plot = pd.concat(df_list, sort=False)"
   ]
  },
  {
   "cell_type": "code",
   "execution_count": 49,
   "metadata": {},
   "outputs": [],
   "source": [
    "# define a list of clusters (result from clustering step).\n",
    "BrexitCluster = ['2018-07', '2018-11', '2019-03', '2019-06', '2019-07', '2019-08', '2019-09', '2019-10', '2019-11', '2019-12']\n",
    "TonyBlairCluster = ['2001-02', '2001-03', '2001-05', '2004-10', '2005-04', '2005-05', '2005-10', '2006-09', '2006-10', '2007-05', '2007-06', '2007-07']\n",
    "WimbledonCluster = ['2002-05', '2002-06', '2002-07', '2003-06', '2003-07', '2004-06', '2006-06', '2010-06']\n",
    "ObamaCluster = ['2008-02', '2008-10', '2008-11', '2008-12', '2009-01', '2009-02']"
   ]
  },
  {
   "cell_type": "code",
   "execution_count": 71,
   "metadata": {},
   "outputs": [],
   "source": [
    "in_cluster_list = WimbledonCluster"
   ]
  },
  {
   "cell_type": "code",
   "execution_count": 72,
   "metadata": {},
   "outputs": [
    {
     "data": {
      "application/vnd.plotly.v1+json": {
       "config": {
        "plotlyServerURL": "https://plot.ly"
       },
       "data": [
        {
         "alignmentgroup": "True",
         "hovertemplate": "entity=%{x}<br>month=2002-05<br>count=%{y}<extra></extra>",
         "legendgroup": "England",
         "marker": {
          "color": "#636efa"
         },
         "name": "England",
         "offsetgroup": "England",
         "orientation": "v",
         "showlegend": true,
         "textposition": "auto",
         "type": "bar",
         "x": [
          "England"
         ],
         "xaxis": "x8",
         "y": [
          149
         ],
         "yaxis": "y8"
        },
        {
         "alignmentgroup": "True",
         "hovertemplate": "entity=%{x}<br>month=2002-06<br>count=%{y}<extra></extra>",
         "legendgroup": "England",
         "marker": {
          "color": "#636efa"
         },
         "name": "England",
         "offsetgroup": "England",
         "orientation": "v",
         "showlegend": false,
         "textposition": "auto",
         "type": "bar",
         "x": [
          "England"
         ],
         "xaxis": "x7",
         "y": [
          271
         ],
         "yaxis": "y7"
        },
        {
         "alignmentgroup": "True",
         "hovertemplate": "entity=%{x}<br>month=2002-07<br>count=%{y}<extra></extra>",
         "legendgroup": "England",
         "marker": {
          "color": "#636efa"
         },
         "name": "England",
         "offsetgroup": "England",
         "orientation": "v",
         "showlegend": false,
         "textposition": "auto",
         "type": "bar",
         "x": [
          "England"
         ],
         "xaxis": "x6",
         "y": [
          89
         ],
         "yaxis": "y6"
        },
        {
         "alignmentgroup": "True",
         "hovertemplate": "entity=%{x}<br>month=2003-06<br>count=%{y}<extra></extra>",
         "legendgroup": "England",
         "marker": {
          "color": "#636efa"
         },
         "name": "England",
         "offsetgroup": "England",
         "orientation": "v",
         "showlegend": false,
         "textposition": "auto",
         "type": "bar",
         "x": [
          "England"
         ],
         "xaxis": "x5",
         "y": [
          195
         ],
         "yaxis": "y5"
        },
        {
         "alignmentgroup": "True",
         "hovertemplate": "entity=%{x}<br>month=2003-07<br>count=%{y}<extra></extra>",
         "legendgroup": "England",
         "marker": {
          "color": "#636efa"
         },
         "name": "England",
         "offsetgroup": "England",
         "orientation": "v",
         "showlegend": false,
         "textposition": "auto",
         "type": "bar",
         "x": [
          "England"
         ],
         "xaxis": "x4",
         "y": [
          118
         ],
         "yaxis": "y4"
        },
        {
         "alignmentgroup": "True",
         "hovertemplate": "entity=%{x}<br>month=2004-06<br>count=%{y}<extra></extra>",
         "legendgroup": "England",
         "marker": {
          "color": "#636efa"
         },
         "name": "England",
         "offsetgroup": "England",
         "orientation": "v",
         "showlegend": false,
         "textposition": "auto",
         "type": "bar",
         "x": [
          "England"
         ],
         "xaxis": "x3",
         "y": [
          277
         ],
         "yaxis": "y3"
        },
        {
         "alignmentgroup": "True",
         "hovertemplate": "entity=%{x}<br>month=2006-06<br>count=%{y}<extra></extra>",
         "legendgroup": "England",
         "marker": {
          "color": "#636efa"
         },
         "name": "England",
         "offsetgroup": "England",
         "orientation": "v",
         "showlegend": false,
         "textposition": "auto",
         "type": "bar",
         "x": [
          "England"
         ],
         "xaxis": "x2",
         "y": [
          103
         ],
         "yaxis": "y2"
        },
        {
         "alignmentgroup": "True",
         "hovertemplate": "entity=%{x}<br>month=2010-06<br>count=%{y}<extra></extra>",
         "legendgroup": "England",
         "marker": {
          "color": "#636efa"
         },
         "name": "England",
         "offsetgroup": "England",
         "orientation": "v",
         "showlegend": false,
         "textposition": "auto",
         "type": "bar",
         "x": [
          "England"
         ],
         "xaxis": "x",
         "y": [
          253
         ],
         "yaxis": "y"
        },
        {
         "alignmentgroup": "True",
         "hovertemplate": "entity=%{x}<br>month=2002-05<br>count=%{y}<extra></extra>",
         "legendgroup": "London",
         "marker": {
          "color": "#EF553B"
         },
         "name": "London",
         "offsetgroup": "London",
         "orientation": "v",
         "showlegend": true,
         "textposition": "auto",
         "type": "bar",
         "x": [
          "London"
         ],
         "xaxis": "x8",
         "y": [
          72
         ],
         "yaxis": "y8"
        },
        {
         "alignmentgroup": "True",
         "hovertemplate": "entity=%{x}<br>month=2002-06<br>count=%{y}<extra></extra>",
         "legendgroup": "London",
         "marker": {
          "color": "#EF553B"
         },
         "name": "London",
         "offsetgroup": "London",
         "orientation": "v",
         "showlegend": false,
         "textposition": "auto",
         "type": "bar",
         "x": [
          "London"
         ],
         "xaxis": "x7",
         "y": [
          48
         ],
         "yaxis": "y7"
        },
        {
         "alignmentgroup": "True",
         "hovertemplate": "entity=%{x}<br>month=2002-07<br>count=%{y}<extra></extra>",
         "legendgroup": "London",
         "marker": {
          "color": "#EF553B"
         },
         "name": "London",
         "offsetgroup": "London",
         "orientation": "v",
         "showlegend": false,
         "textposition": "auto",
         "type": "bar",
         "x": [
          "London"
         ],
         "xaxis": "x6",
         "y": [
          51
         ],
         "yaxis": "y6"
        },
        {
         "alignmentgroup": "True",
         "hovertemplate": "entity=%{x}<br>month=2003-06<br>count=%{y}<extra></extra>",
         "legendgroup": "London",
         "marker": {
          "color": "#EF553B"
         },
         "name": "London",
         "offsetgroup": "London",
         "orientation": "v",
         "showlegend": false,
         "textposition": "auto",
         "type": "bar",
         "x": [
          "London"
         ],
         "xaxis": "x5",
         "y": [
          68
         ],
         "yaxis": "y5"
        },
        {
         "alignmentgroup": "True",
         "hovertemplate": "entity=%{x}<br>month=2003-07<br>count=%{y}<extra></extra>",
         "legendgroup": "London",
         "marker": {
          "color": "#EF553B"
         },
         "name": "London",
         "offsetgroup": "London",
         "orientation": "v",
         "showlegend": false,
         "textposition": "auto",
         "type": "bar",
         "x": [
          "London"
         ],
         "xaxis": "x4",
         "y": [
          77
         ],
         "yaxis": "y4"
        },
        {
         "alignmentgroup": "True",
         "hovertemplate": "entity=%{x}<br>month=2004-06<br>count=%{y}<extra></extra>",
         "legendgroup": "London",
         "marker": {
          "color": "#EF553B"
         },
         "name": "London",
         "offsetgroup": "London",
         "orientation": "v",
         "showlegend": false,
         "textposition": "auto",
         "type": "bar",
         "x": [
          "London"
         ],
         "xaxis": "x3",
         "y": [
          66
         ],
         "yaxis": "y3"
        },
        {
         "alignmentgroup": "True",
         "hovertemplate": "entity=%{x}<br>month=2006-06<br>count=%{y}<extra></extra>",
         "legendgroup": "London",
         "marker": {
          "color": "#EF553B"
         },
         "name": "London",
         "offsetgroup": "London",
         "orientation": "v",
         "showlegend": false,
         "textposition": "auto",
         "type": "bar",
         "x": [
          "London"
         ],
         "xaxis": "x2",
         "y": [
          76
         ],
         "yaxis": "y2"
        },
        {
         "alignmentgroup": "True",
         "hovertemplate": "entity=%{x}<br>month=2010-06<br>count=%{y}<extra></extra>",
         "legendgroup": "London",
         "marker": {
          "color": "#EF553B"
         },
         "name": "London",
         "offsetgroup": "London",
         "orientation": "v",
         "showlegend": false,
         "textposition": "auto",
         "type": "bar",
         "x": [
          "London"
         ],
         "xaxis": "x",
         "y": [
          39
         ],
         "yaxis": "y"
        },
        {
         "alignmentgroup": "True",
         "hovertemplate": "entity=%{x}<br>month=2002-05<br>count=%{y}<extra></extra>",
         "legendgroup": "Scotland",
         "marker": {
          "color": "#00cc96"
         },
         "name": "Scotland",
         "offsetgroup": "Scotland",
         "orientation": "v",
         "showlegend": true,
         "textposition": "auto",
         "type": "bar",
         "x": [
          "Scotland"
         ],
         "xaxis": "x8",
         "y": [
          55
         ],
         "yaxis": "y8"
        },
        {
         "alignmentgroup": "True",
         "hovertemplate": "entity=%{x}<br>month=2002-05<br>count=%{y}<extra></extra>",
         "legendgroup": "France",
         "marker": {
          "color": "#ab63fa"
         },
         "name": "France",
         "offsetgroup": "France",
         "orientation": "v",
         "showlegend": true,
         "textposition": "auto",
         "type": "bar",
         "x": [
          "France"
         ],
         "xaxis": "x8",
         "y": [
          42
         ],
         "yaxis": "y8"
        },
        {
         "alignmentgroup": "True",
         "hovertemplate": "entity=%{x}<br>month=2002-06<br>count=%{y}<extra></extra>",
         "legendgroup": "France",
         "marker": {
          "color": "#ab63fa"
         },
         "name": "France",
         "offsetgroup": "France",
         "orientation": "v",
         "showlegend": false,
         "textposition": "auto",
         "type": "bar",
         "x": [
          "France"
         ],
         "xaxis": "x7",
         "y": [
          71
         ],
         "yaxis": "y7"
        },
        {
         "alignmentgroup": "True",
         "hovertemplate": "entity=%{x}<br>month=2002-07<br>count=%{y}<extra></extra>",
         "legendgroup": "France",
         "marker": {
          "color": "#ab63fa"
         },
         "name": "France",
         "offsetgroup": "France",
         "orientation": "v",
         "showlegend": false,
         "textposition": "auto",
         "type": "bar",
         "x": [
          "France"
         ],
         "xaxis": "x6",
         "y": [
          29
         ],
         "yaxis": "y6"
        },
        {
         "alignmentgroup": "True",
         "hovertemplate": "entity=%{x}<br>month=2003-06<br>count=%{y}<extra></extra>",
         "legendgroup": "France",
         "marker": {
          "color": "#ab63fa"
         },
         "name": "France",
         "offsetgroup": "France",
         "orientation": "v",
         "showlegend": false,
         "textposition": "auto",
         "type": "bar",
         "x": [
          "France"
         ],
         "xaxis": "x5",
         "y": [
          32
         ],
         "yaxis": "y5"
        },
        {
         "alignmentgroup": "True",
         "hovertemplate": "entity=%{x}<br>month=2004-06<br>count=%{y}<extra></extra>",
         "legendgroup": "France",
         "marker": {
          "color": "#ab63fa"
         },
         "name": "France",
         "offsetgroup": "France",
         "orientation": "v",
         "showlegend": false,
         "textposition": "auto",
         "type": "bar",
         "x": [
          "France"
         ],
         "xaxis": "x3",
         "y": [
          50
         ],
         "yaxis": "y3"
        },
        {
         "alignmentgroup": "True",
         "hovertemplate": "entity=%{x}<br>month=2006-06<br>count=%{y}<extra></extra>",
         "legendgroup": "France",
         "marker": {
          "color": "#ab63fa"
         },
         "name": "France",
         "offsetgroup": "France",
         "orientation": "v",
         "showlegend": false,
         "textposition": "auto",
         "type": "bar",
         "x": [
          "France"
         ],
         "xaxis": "x2",
         "y": [
          48
         ],
         "yaxis": "y2"
        },
        {
         "alignmentgroup": "True",
         "hovertemplate": "entity=%{x}<br>month=2002-05<br>count=%{y}<extra></extra>",
         "legendgroup": "Cuba",
         "marker": {
          "color": "#FFA15A"
         },
         "name": "Cuba",
         "offsetgroup": "Cuba",
         "orientation": "v",
         "showlegend": true,
         "textposition": "auto",
         "type": "bar",
         "x": [
          "Cuba"
         ],
         "xaxis": "x8",
         "y": [
          42
         ],
         "yaxis": "y8"
        },
        {
         "alignmentgroup": "True",
         "hovertemplate": "entity=%{x}<br>month=2002-05<br>count=%{y}<extra></extra>",
         "legendgroup": "Europe",
         "marker": {
          "color": "#19d3f3"
         },
         "name": "Europe",
         "offsetgroup": "Europe",
         "orientation": "v",
         "showlegend": true,
         "textposition": "auto",
         "type": "bar",
         "x": [
          "Europe"
         ],
         "xaxis": "x8",
         "y": [
          42
         ],
         "yaxis": "y8"
        },
        {
         "alignmentgroup": "True",
         "hovertemplate": "entity=%{x}<br>month=2003-06<br>count=%{y}<extra></extra>",
         "legendgroup": "Europe",
         "marker": {
          "color": "#19d3f3"
         },
         "name": "Europe",
         "offsetgroup": "Europe",
         "orientation": "v",
         "showlegend": false,
         "textposition": "auto",
         "type": "bar",
         "x": [
          "Europe"
         ],
         "xaxis": "x5",
         "y": [
          47
         ],
         "yaxis": "y5"
        },
        {
         "alignmentgroup": "True",
         "hovertemplate": "entity=%{x}<br>month=2006-06<br>count=%{y}<extra></extra>",
         "legendgroup": "Europe",
         "marker": {
          "color": "#19d3f3"
         },
         "name": "Europe",
         "offsetgroup": "Europe",
         "orientation": "v",
         "showlegend": false,
         "textposition": "auto",
         "type": "bar",
         "x": [
          "Europe"
         ],
         "xaxis": "x2",
         "y": [
          28
         ],
         "yaxis": "y2"
        },
        {
         "alignmentgroup": "True",
         "hovertemplate": "entity=%{x}<br>month=2010-06<br>count=%{y}<extra></extra>",
         "legendgroup": "Europe",
         "marker": {
          "color": "#19d3f3"
         },
         "name": "Europe",
         "offsetgroup": "Europe",
         "orientation": "v",
         "showlegend": false,
         "textposition": "auto",
         "type": "bar",
         "x": [
          "Europe"
         ],
         "xaxis": "x",
         "y": [
          48
         ],
         "yaxis": "y"
        },
        {
         "alignmentgroup": "True",
         "hovertemplate": "entity=%{x}<br>month=2002-05<br>count=%{y}<extra></extra>",
         "legendgroup": "Eriksson",
         "marker": {
          "color": "#FF6692"
         },
         "name": "Eriksson",
         "offsetgroup": "Eriksson",
         "orientation": "v",
         "showlegend": true,
         "textposition": "auto",
         "type": "bar",
         "x": [
          "Eriksson"
         ],
         "xaxis": "x8",
         "y": [
          41
         ],
         "yaxis": "y8"
        },
        {
         "alignmentgroup": "True",
         "hovertemplate": "entity=%{x}<br>month=2002-06<br>count=%{y}<extra></extra>",
         "legendgroup": "Eriksson",
         "marker": {
          "color": "#FF6692"
         },
         "name": "Eriksson",
         "offsetgroup": "Eriksson",
         "orientation": "v",
         "showlegend": false,
         "textposition": "auto",
         "type": "bar",
         "x": [
          "Eriksson"
         ],
         "xaxis": "x7",
         "y": [
          47
         ],
         "yaxis": "y7"
        },
        {
         "alignmentgroup": "True",
         "hovertemplate": "entity=%{x}<br>month=2002-05<br>count=%{y}<extra></extra>",
         "legendgroup": "BBC",
         "marker": {
          "color": "#B6E880"
         },
         "name": "BBC",
         "offsetgroup": "BBC",
         "orientation": "v",
         "showlegend": true,
         "textposition": "auto",
         "type": "bar",
         "x": [
          "BBC"
         ],
         "xaxis": "x8",
         "y": [
          39
         ],
         "yaxis": "y8"
        },
        {
         "alignmentgroup": "True",
         "hovertemplate": "entity=%{x}<br>month=2002-07<br>count=%{y}<extra></extra>",
         "legendgroup": "BBC",
         "marker": {
          "color": "#B6E880"
         },
         "name": "BBC",
         "offsetgroup": "BBC",
         "orientation": "v",
         "showlegend": false,
         "textposition": "auto",
         "type": "bar",
         "x": [
          "BBC"
         ],
         "xaxis": "x6",
         "y": [
          42
         ],
         "yaxis": "y6"
        },
        {
         "alignmentgroup": "True",
         "hovertemplate": "entity=%{x}<br>month=2003-07<br>count=%{y}<extra></extra>",
         "legendgroup": "BBC",
         "marker": {
          "color": "#B6E880"
         },
         "name": "BBC",
         "offsetgroup": "BBC",
         "orientation": "v",
         "showlegend": false,
         "textposition": "auto",
         "type": "bar",
         "x": [
          "BBC"
         ],
         "xaxis": "x4",
         "y": [
          34
         ],
         "yaxis": "y4"
        },
        {
         "alignmentgroup": "True",
         "hovertemplate": "entity=%{x}<br>month=2004-06<br>count=%{y}<extra></extra>",
         "legendgroup": "BBC",
         "marker": {
          "color": "#B6E880"
         },
         "name": "BBC",
         "offsetgroup": "BBC",
         "orientation": "v",
         "showlegend": false,
         "textposition": "auto",
         "type": "bar",
         "x": [
          "BBC"
         ],
         "xaxis": "x3",
         "y": [
          56
         ],
         "yaxis": "y3"
        },
        {
         "alignmentgroup": "True",
         "hovertemplate": "entity=%{x}<br>month=2006-06<br>count=%{y}<extra></extra>",
         "legendgroup": "BBC",
         "marker": {
          "color": "#B6E880"
         },
         "name": "BBC",
         "offsetgroup": "BBC",
         "orientation": "v",
         "showlegend": false,
         "textposition": "auto",
         "type": "bar",
         "x": [
          "BBC"
         ],
         "xaxis": "x2",
         "y": [
          41
         ],
         "yaxis": "y2"
        },
        {
         "alignmentgroup": "True",
         "hovertemplate": "entity=%{x}<br>month=2002-05<br>count=%{y}<extra></extra>",
         "legendgroup": "British",
         "marker": {
          "color": "#FF97FF"
         },
         "name": "British",
         "offsetgroup": "British",
         "orientation": "v",
         "showlegend": true,
         "textposition": "auto",
         "type": "bar",
         "x": [
          "British"
         ],
         "xaxis": "x8",
         "y": [
          37
         ],
         "yaxis": "y8"
        },
        {
         "alignmentgroup": "True",
         "hovertemplate": "entity=%{x}<br>month=2002-07<br>count=%{y}<extra></extra>",
         "legendgroup": "British",
         "marker": {
          "color": "#FF97FF"
         },
         "name": "British",
         "offsetgroup": "British",
         "orientation": "v",
         "showlegend": false,
         "textposition": "auto",
         "type": "bar",
         "x": [
          "British"
         ],
         "xaxis": "x6",
         "y": [
          59
         ],
         "yaxis": "y6"
        },
        {
         "alignmentgroup": "True",
         "hovertemplate": "entity=%{x}<br>month=2003-06<br>count=%{y}<extra></extra>",
         "legendgroup": "British",
         "marker": {
          "color": "#FF97FF"
         },
         "name": "British",
         "offsetgroup": "British",
         "orientation": "v",
         "showlegend": false,
         "textposition": "auto",
         "type": "bar",
         "x": [
          "British"
         ],
         "xaxis": "x5",
         "y": [
          58
         ],
         "yaxis": "y5"
        },
        {
         "alignmentgroup": "True",
         "hovertemplate": "entity=%{x}<br>month=2003-07<br>count=%{y}<extra></extra>",
         "legendgroup": "British",
         "marker": {
          "color": "#FF97FF"
         },
         "name": "British",
         "offsetgroup": "British",
         "orientation": "v",
         "showlegend": false,
         "textposition": "auto",
         "type": "bar",
         "x": [
          "British"
         ],
         "xaxis": "x4",
         "y": [
          67
         ],
         "yaxis": "y4"
        },
        {
         "alignmentgroup": "True",
         "hovertemplate": "entity=%{x}<br>month=2004-06<br>count=%{y}<extra></extra>",
         "legendgroup": "British",
         "marker": {
          "color": "#FF97FF"
         },
         "name": "British",
         "offsetgroup": "British",
         "orientation": "v",
         "showlegend": false,
         "textposition": "auto",
         "type": "bar",
         "x": [
          "British"
         ],
         "xaxis": "x3",
         "y": [
          59
         ],
         "yaxis": "y3"
        },
        {
         "alignmentgroup": "True",
         "hovertemplate": "entity=%{x}<br>month=2006-06<br>count=%{y}<extra></extra>",
         "legendgroup": "British",
         "marker": {
          "color": "#FF97FF"
         },
         "name": "British",
         "offsetgroup": "British",
         "orientation": "v",
         "showlegend": false,
         "textposition": "auto",
         "type": "bar",
         "x": [
          "British"
         ],
         "xaxis": "x2",
         "y": [
          48
         ],
         "yaxis": "y2"
        },
        {
         "alignmentgroup": "True",
         "hovertemplate": "entity=%{x}<br>month=2010-06<br>count=%{y}<extra></extra>",
         "legendgroup": "British",
         "marker": {
          "color": "#FF97FF"
         },
         "name": "British",
         "offsetgroup": "British",
         "orientation": "v",
         "showlegend": false,
         "textposition": "auto",
         "type": "bar",
         "x": [
          "British"
         ],
         "xaxis": "x",
         "y": [
          49
         ],
         "yaxis": "y"
        },
        {
         "alignmentgroup": "True",
         "hovertemplate": "entity=%{x}<br>month=2002-05<br>count=%{y}<extra></extra>",
         "legendgroup": "World Cup",
         "marker": {
          "color": "#FECB52"
         },
         "name": "World Cup",
         "offsetgroup": "World Cup",
         "orientation": "v",
         "showlegend": true,
         "textposition": "auto",
         "type": "bar",
         "x": [
          "World Cup"
         ],
         "xaxis": "x8",
         "y": [
          37
         ],
         "yaxis": "y8"
        },
        {
         "alignmentgroup": "True",
         "hovertemplate": "entity=%{x}<br>month=2002-06<br>count=%{y}<extra></extra>",
         "legendgroup": "World Cup",
         "marker": {
          "color": "#FECB52"
         },
         "name": "World Cup",
         "offsetgroup": "World Cup",
         "orientation": "v",
         "showlegend": false,
         "textposition": "auto",
         "type": "bar",
         "x": [
          "World Cup"
         ],
         "xaxis": "x7",
         "y": [
          76
         ],
         "yaxis": "y7"
        },
        {
         "alignmentgroup": "True",
         "hovertemplate": "entity=%{x}<br>month=2002-07<br>count=%{y}<extra></extra>",
         "legendgroup": "World Cup",
         "marker": {
          "color": "#FECB52"
         },
         "name": "World Cup",
         "offsetgroup": "World Cup",
         "orientation": "v",
         "showlegend": false,
         "textposition": "auto",
         "type": "bar",
         "x": [
          "World Cup"
         ],
         "xaxis": "x6",
         "y": [
          33
         ],
         "yaxis": "y6"
        },
        {
         "alignmentgroup": "True",
         "hovertemplate": "entity=%{x}<br>month=2006-06<br>count=%{y}<extra></extra>",
         "legendgroup": "World Cup",
         "marker": {
          "color": "#FECB52"
         },
         "name": "World Cup",
         "offsetgroup": "World Cup",
         "orientation": "v",
         "showlegend": false,
         "textposition": "auto",
         "type": "bar",
         "x": [
          "World Cup"
         ],
         "xaxis": "x2",
         "y": [
          28
         ],
         "yaxis": "y2"
        },
        {
         "alignmentgroup": "True",
         "hovertemplate": "entity=%{x}<br>month=2010-06<br>count=%{y}<extra></extra>",
         "legendgroup": "World Cup",
         "marker": {
          "color": "#FECB52"
         },
         "name": "World Cup",
         "offsetgroup": "World Cup",
         "orientation": "v",
         "showlegend": false,
         "textposition": "auto",
         "type": "bar",
         "x": [
          "World Cup"
         ],
         "xaxis": "x",
         "y": [
          80
         ],
         "yaxis": "y"
        },
        {
         "alignmentgroup": "True",
         "hovertemplate": "entity=%{x}<br>month=2002-05<br>count=%{y}<extra></extra>",
         "legendgroup": "Edinburgh",
         "marker": {
          "color": "#636efa"
         },
         "name": "Edinburgh",
         "offsetgroup": "Edinburgh",
         "orientation": "v",
         "showlegend": true,
         "textposition": "auto",
         "type": "bar",
         "x": [
          "Edinburgh"
         ],
         "xaxis": "x8",
         "y": [
          35
         ],
         "yaxis": "y8"
        },
        {
         "alignmentgroup": "True",
         "hovertemplate": "entity=%{x}<br>month=2002-05<br>count=%{y}<extra></extra>",
         "legendgroup": "Keane",
         "marker": {
          "color": "#EF553B"
         },
         "name": "Keane",
         "offsetgroup": "Keane",
         "orientation": "v",
         "showlegend": true,
         "textposition": "auto",
         "type": "bar",
         "x": [
          "Keane"
         ],
         "xaxis": "x8",
         "y": [
          34
         ],
         "yaxis": "y8"
        },
        {
         "alignmentgroup": "True",
         "hovertemplate": "entity=%{x}<br>month=2002-05<br>count=%{y}<extra></extra>",
         "legendgroup": "Nintendo",
         "marker": {
          "color": "#00cc96"
         },
         "name": "Nintendo",
         "offsetgroup": "Nintendo",
         "orientation": "v",
         "showlegend": true,
         "textposition": "auto",
         "type": "bar",
         "x": [
          "Nintendo"
         ],
         "xaxis": "x8",
         "y": [
          33
         ],
         "yaxis": "y8"
        },
        {
         "alignmentgroup": "True",
         "hovertemplate": "entity=%{x}<br>month=2002-05<br>count=%{y}<extra></extra>",
         "legendgroup": "French",
         "marker": {
          "color": "#ab63fa"
         },
         "name": "French",
         "offsetgroup": "French",
         "orientation": "v",
         "showlegend": true,
         "textposition": "auto",
         "type": "bar",
         "x": [
          "French"
         ],
         "xaxis": "x8",
         "y": [
          32
         ],
         "yaxis": "y8"
        },
        {
         "alignmentgroup": "True",
         "hovertemplate": "entity=%{x}<br>month=2002-07<br>count=%{y}<extra></extra>",
         "legendgroup": "French",
         "marker": {
          "color": "#ab63fa"
         },
         "name": "French",
         "offsetgroup": "French",
         "orientation": "v",
         "showlegend": false,
         "textposition": "auto",
         "type": "bar",
         "x": [
          "French"
         ],
         "xaxis": "x6",
         "y": [
          31
         ],
         "yaxis": "y6"
        },
        {
         "alignmentgroup": "True",
         "hovertemplate": "entity=%{x}<br>month=2003-06<br>count=%{y}<extra></extra>",
         "legendgroup": "French",
         "marker": {
          "color": "#ab63fa"
         },
         "name": "French",
         "offsetgroup": "French",
         "orientation": "v",
         "showlegend": false,
         "textposition": "auto",
         "type": "bar",
         "x": [
          "French"
         ],
         "xaxis": "x5",
         "y": [
          47
         ],
         "yaxis": "y5"
        },
        {
         "alignmentgroup": "True",
         "hovertemplate": "entity=%{x}<br>month=2004-06<br>count=%{y}<extra></extra>",
         "legendgroup": "French",
         "marker": {
          "color": "#ab63fa"
         },
         "name": "French",
         "offsetgroup": "French",
         "orientation": "v",
         "showlegend": false,
         "textposition": "auto",
         "type": "bar",
         "x": [
          "French"
         ],
         "xaxis": "x3",
         "y": [
          48
         ],
         "yaxis": "y3"
        },
        {
         "alignmentgroup": "True",
         "hovertemplate": "entity=%{x}<br>month=2002-05<br>count=%{y}<extra></extra>",
         "legendgroup": "Liverpool",
         "marker": {
          "color": "#FFA15A"
         },
         "name": "Liverpool",
         "offsetgroup": "Liverpool",
         "orientation": "v",
         "showlegend": true,
         "textposition": "auto",
         "type": "bar",
         "x": [
          "Liverpool"
         ],
         "xaxis": "x8",
         "y": [
          31
         ],
         "yaxis": "y8"
        },
        {
         "alignmentgroup": "True",
         "hovertemplate": "entity=%{x}<br>month=2002-05<br>count=%{y}<extra></extra>",
         "legendgroup": "Arsenal",
         "marker": {
          "color": "#19d3f3"
         },
         "name": "Arsenal",
         "offsetgroup": "Arsenal",
         "orientation": "v",
         "showlegend": true,
         "textposition": "auto",
         "type": "bar",
         "x": [
          "Arsenal"
         ],
         "xaxis": "x8",
         "y": [
          31
         ],
         "yaxis": "y8"
        },
        {
         "alignmentgroup": "True",
         "hovertemplate": "entity=%{x}<br>month=2002-05<br>count=%{y}<extra></extra>",
         "legendgroup": "UK",
         "marker": {
          "color": "#FF6692"
         },
         "name": "UK",
         "offsetgroup": "UK",
         "orientation": "v",
         "showlegend": true,
         "textposition": "auto",
         "type": "bar",
         "x": [
          "UK"
         ],
         "xaxis": "x8",
         "y": [
          30
         ],
         "yaxis": "y8"
        },
        {
         "alignmentgroup": "True",
         "hovertemplate": "entity=%{x}<br>month=2003-06<br>count=%{y}<extra></extra>",
         "legendgroup": "UK",
         "marker": {
          "color": "#FF6692"
         },
         "name": "UK",
         "offsetgroup": "UK",
         "orientation": "v",
         "showlegend": false,
         "textposition": "auto",
         "type": "bar",
         "x": [
          "UK"
         ],
         "xaxis": "x5",
         "y": [
          46
         ],
         "yaxis": "y5"
        },
        {
         "alignmentgroup": "True",
         "hovertemplate": "entity=%{x}<br>month=2003-07<br>count=%{y}<extra></extra>",
         "legendgroup": "UK",
         "marker": {
          "color": "#FF6692"
         },
         "name": "UK",
         "offsetgroup": "UK",
         "orientation": "v",
         "showlegend": false,
         "textposition": "auto",
         "type": "bar",
         "x": [
          "UK"
         ],
         "xaxis": "x4",
         "y": [
          23
         ],
         "yaxis": "y4"
        },
        {
         "alignmentgroup": "True",
         "hovertemplate": "entity=%{x}<br>month=2004-06<br>count=%{y}<extra></extra>",
         "legendgroup": "UK",
         "marker": {
          "color": "#FF6692"
         },
         "name": "UK",
         "offsetgroup": "UK",
         "orientation": "v",
         "showlegend": false,
         "textposition": "auto",
         "type": "bar",
         "x": [
          "UK"
         ],
         "xaxis": "x3",
         "y": [
          48
         ],
         "yaxis": "y3"
        },
        {
         "alignmentgroup": "True",
         "hovertemplate": "entity=%{x}<br>month=2006-06<br>count=%{y}<extra></extra>",
         "legendgroup": "UK",
         "marker": {
          "color": "#FF6692"
         },
         "name": "UK",
         "offsetgroup": "UK",
         "orientation": "v",
         "showlegend": false,
         "textposition": "auto",
         "type": "bar",
         "x": [
          "UK"
         ],
         "xaxis": "x2",
         "y": [
          67
         ],
         "yaxis": "y2"
        },
        {
         "alignmentgroup": "True",
         "hovertemplate": "entity=%{x}<br>month=2010-06<br>count=%{y}<extra></extra>",
         "legendgroup": "UK",
         "marker": {
          "color": "#FF6692"
         },
         "name": "UK",
         "offsetgroup": "UK",
         "orientation": "v",
         "showlegend": false,
         "textposition": "auto",
         "type": "bar",
         "x": [
          "UK"
         ],
         "xaxis": "x",
         "y": [
          56
         ],
         "yaxis": "y"
        },
        {
         "alignmentgroup": "True",
         "hovertemplate": "entity=%{x}<br>month=2002-05<br>count=%{y}<extra></extra>",
         "legendgroup": "Britain",
         "marker": {
          "color": "#B6E880"
         },
         "name": "Britain",
         "offsetgroup": "Britain",
         "orientation": "v",
         "showlegend": true,
         "textposition": "auto",
         "type": "bar",
         "x": [
          "Britain"
         ],
         "xaxis": "x8",
         "y": [
          29
         ],
         "yaxis": "y8"
        },
        {
         "alignmentgroup": "True",
         "hovertemplate": "entity=%{x}<br>month=2002-07<br>count=%{y}<extra></extra>",
         "legendgroup": "Britain",
         "marker": {
          "color": "#B6E880"
         },
         "name": "Britain",
         "offsetgroup": "Britain",
         "orientation": "v",
         "showlegend": false,
         "textposition": "auto",
         "type": "bar",
         "x": [
          "Britain"
         ],
         "xaxis": "x6",
         "y": [
          32
         ],
         "yaxis": "y6"
        },
        {
         "alignmentgroup": "True",
         "hovertemplate": "entity=%{x}<br>month=2003-06<br>count=%{y}<extra></extra>",
         "legendgroup": "Britain",
         "marker": {
          "color": "#B6E880"
         },
         "name": "Britain",
         "offsetgroup": "Britain",
         "orientation": "v",
         "showlegend": false,
         "textposition": "auto",
         "type": "bar",
         "x": [
          "Britain"
         ],
         "xaxis": "x5",
         "y": [
          45
         ],
         "yaxis": "y5"
        },
        {
         "alignmentgroup": "True",
         "hovertemplate": "entity=%{x}<br>month=2003-07<br>count=%{y}<extra></extra>",
         "legendgroup": "Britain",
         "marker": {
          "color": "#B6E880"
         },
         "name": "Britain",
         "offsetgroup": "Britain",
         "orientation": "v",
         "showlegend": false,
         "textposition": "auto",
         "type": "bar",
         "x": [
          "Britain"
         ],
         "xaxis": "x4",
         "y": [
          58
         ],
         "yaxis": "y4"
        },
        {
         "alignmentgroup": "True",
         "hovertemplate": "entity=%{x}<br>month=2004-06<br>count=%{y}<extra></extra>",
         "legendgroup": "Britain",
         "marker": {
          "color": "#B6E880"
         },
         "name": "Britain",
         "offsetgroup": "Britain",
         "orientation": "v",
         "showlegend": false,
         "textposition": "auto",
         "type": "bar",
         "x": [
          "Britain"
         ],
         "xaxis": "x3",
         "y": [
          43
         ],
         "yaxis": "y3"
        },
        {
         "alignmentgroup": "True",
         "hovertemplate": "entity=%{x}<br>month=2006-06<br>count=%{y}<extra></extra>",
         "legendgroup": "Britain",
         "marker": {
          "color": "#B6E880"
         },
         "name": "Britain",
         "offsetgroup": "Britain",
         "orientation": "v",
         "showlegend": false,
         "textposition": "auto",
         "type": "bar",
         "x": [
          "Britain"
         ],
         "xaxis": "x2",
         "y": [
          67
         ],
         "yaxis": "y2"
        },
        {
         "alignmentgroup": "True",
         "hovertemplate": "entity=%{x}<br>month=2010-06<br>count=%{y}<extra></extra>",
         "legendgroup": "Britain",
         "marker": {
          "color": "#B6E880"
         },
         "name": "Britain",
         "offsetgroup": "Britain",
         "orientation": "v",
         "showlegend": false,
         "textposition": "auto",
         "type": "bar",
         "x": [
          "Britain"
         ],
         "xaxis": "x",
         "y": [
          52
         ],
         "yaxis": "y"
        },
        {
         "alignmentgroup": "True",
         "hovertemplate": "entity=%{x}<br>month=2002-05<br>count=%{y}<extra></extra>",
         "legendgroup": "the World Cup",
         "marker": {
          "color": "#FF97FF"
         },
         "name": "the World Cup",
         "offsetgroup": "the World Cup",
         "orientation": "v",
         "showlegend": true,
         "textposition": "auto",
         "type": "bar",
         "x": [
          "the World Cup"
         ],
         "xaxis": "x8",
         "y": [
          28
         ],
         "yaxis": "y8"
        },
        {
         "alignmentgroup": "True",
         "hovertemplate": "entity=%{x}<br>month=2002-06<br>count=%{y}<extra></extra>",
         "legendgroup": "the World Cup",
         "marker": {
          "color": "#FF97FF"
         },
         "name": "the World Cup",
         "offsetgroup": "the World Cup",
         "orientation": "v",
         "showlegend": false,
         "textposition": "auto",
         "type": "bar",
         "x": [
          "the World Cup"
         ],
         "xaxis": "x7",
         "y": [
          87
         ],
         "yaxis": "y7"
        },
        {
         "alignmentgroup": "True",
         "hovertemplate": "entity=%{x}<br>month=2002-07<br>count=%{y}<extra></extra>",
         "legendgroup": "the World Cup",
         "marker": {
          "color": "#FF97FF"
         },
         "name": "the World Cup",
         "offsetgroup": "the World Cup",
         "orientation": "v",
         "showlegend": false,
         "textposition": "auto",
         "type": "bar",
         "x": [
          "the World Cup"
         ],
         "xaxis": "x6",
         "y": [
          28
         ],
         "yaxis": "y6"
        },
        {
         "alignmentgroup": "True",
         "hovertemplate": "entity=%{x}<br>month=2006-06<br>count=%{y}<extra></extra>",
         "legendgroup": "the World Cup",
         "marker": {
          "color": "#FF97FF"
         },
         "name": "the World Cup",
         "offsetgroup": "the World Cup",
         "orientation": "v",
         "showlegend": false,
         "textposition": "auto",
         "type": "bar",
         "x": [
          "the World Cup"
         ],
         "xaxis": "x2",
         "y": [
          28
         ],
         "yaxis": "y2"
        },
        {
         "alignmentgroup": "True",
         "hovertemplate": "entity=%{x}<br>month=2010-06<br>count=%{y}<extra></extra>",
         "legendgroup": "the World Cup",
         "marker": {
          "color": "#FF97FF"
         },
         "name": "the World Cup",
         "offsetgroup": "the World Cup",
         "orientation": "v",
         "showlegend": false,
         "textposition": "auto",
         "type": "bar",
         "x": [
          "the World Cup"
         ],
         "xaxis": "x",
         "y": [
          77
         ],
         "yaxis": "y"
        },
        {
         "alignmentgroup": "True",
         "hovertemplate": "entity=%{x}<br>month=2002-05<br>count=%{y}<extra></extra>",
         "legendgroup": "Lords",
         "marker": {
          "color": "#FECB52"
         },
         "name": "Lords",
         "offsetgroup": "Lords",
         "orientation": "v",
         "showlegend": true,
         "textposition": "auto",
         "type": "bar",
         "x": [
          "Lords"
         ],
         "xaxis": "x8",
         "y": [
          28
         ],
         "yaxis": "y8"
        },
        {
         "alignmentgroup": "True",
         "hovertemplate": "entity=%{x}<br>month=2002-05<br>count=%{y}<extra></extra>",
         "legendgroup": "Roy",
         "marker": {
          "color": "#636efa"
         },
         "name": "Roy",
         "offsetgroup": "Roy",
         "orientation": "v",
         "showlegend": true,
         "textposition": "auto",
         "type": "bar",
         "x": [
          "Roy"
         ],
         "xaxis": "x8",
         "y": [
          28
         ],
         "yaxis": "y8"
        },
        {
         "alignmentgroup": "True",
         "hovertemplate": "entity=%{x}<br>month=2002-06<br>count=%{y}<extra></extra>",
         "legendgroup": "Brazil",
         "marker": {
          "color": "#EF553B"
         },
         "name": "Brazil",
         "offsetgroup": "Brazil",
         "orientation": "v",
         "showlegend": true,
         "textposition": "auto",
         "type": "bar",
         "x": [
          "Brazil"
         ],
         "xaxis": "x7",
         "y": [
          73
         ],
         "yaxis": "y7"
        },
        {
         "alignmentgroup": "True",
         "hovertemplate": "entity=%{x}<br>month=2002-07<br>count=%{y}<extra></extra>",
         "legendgroup": "Brazil",
         "marker": {
          "color": "#EF553B"
         },
         "name": "Brazil",
         "offsetgroup": "Brazil",
         "orientation": "v",
         "showlegend": false,
         "textposition": "auto",
         "type": "bar",
         "x": [
          "Brazil"
         ],
         "xaxis": "x6",
         "y": [
          89
         ],
         "yaxis": "y6"
        },
        {
         "alignmentgroup": "True",
         "hovertemplate": "entity=%{x}<br>month=2006-06<br>count=%{y}<extra></extra>",
         "legendgroup": "Brazil",
         "marker": {
          "color": "#EF553B"
         },
         "name": "Brazil",
         "offsetgroup": "Brazil",
         "orientation": "v",
         "showlegend": false,
         "textposition": "auto",
         "type": "bar",
         "x": [
          "Brazil"
         ],
         "xaxis": "x2",
         "y": [
          24
         ],
         "yaxis": "y2"
        },
        {
         "alignmentgroup": "True",
         "hovertemplate": "entity=%{x}<br>month=2010-06<br>count=%{y}<extra></extra>",
         "legendgroup": "Brazil",
         "marker": {
          "color": "#EF553B"
         },
         "name": "Brazil",
         "offsetgroup": "Brazil",
         "orientation": "v",
         "showlegend": false,
         "textposition": "auto",
         "type": "bar",
         "x": [
          "Brazil"
         ],
         "xaxis": "x",
         "y": [
          71
         ],
         "yaxis": "y"
        },
        {
         "alignmentgroup": "True",
         "hovertemplate": "entity=%{x}<br>month=2002-06<br>count=%{y}<extra></extra>",
         "legendgroup": "Argentina",
         "marker": {
          "color": "#00cc96"
         },
         "name": "Argentina",
         "offsetgroup": "Argentina",
         "orientation": "v",
         "showlegend": true,
         "textposition": "auto",
         "type": "bar",
         "x": [
          "Argentina"
         ],
         "xaxis": "x7",
         "y": [
          70
         ],
         "yaxis": "y7"
        },
        {
         "alignmentgroup": "True",
         "hovertemplate": "entity=%{x}<br>month=2002-06<br>count=%{y}<extra></extra>",
         "legendgroup": "Wimbledon",
         "marker": {
          "color": "#ab63fa"
         },
         "name": "Wimbledon",
         "offsetgroup": "Wimbledon",
         "orientation": "v",
         "showlegend": true,
         "textposition": "auto",
         "type": "bar",
         "x": [
          "Wimbledon"
         ],
         "xaxis": "x7",
         "y": [
          67
         ],
         "yaxis": "y7"
        },
        {
         "alignmentgroup": "True",
         "hovertemplate": "entity=%{x}<br>month=2003-06<br>count=%{y}<extra></extra>",
         "legendgroup": "Wimbledon",
         "marker": {
          "color": "#ab63fa"
         },
         "name": "Wimbledon",
         "offsetgroup": "Wimbledon",
         "orientation": "v",
         "showlegend": false,
         "textposition": "auto",
         "type": "bar",
         "x": [
          "Wimbledon"
         ],
         "xaxis": "x5",
         "y": [
          54
         ],
         "yaxis": "y5"
        },
        {
         "alignmentgroup": "True",
         "hovertemplate": "entity=%{x}<br>month=2006-06<br>count=%{y}<extra></extra>",
         "legendgroup": "Wimbledon",
         "marker": {
          "color": "#ab63fa"
         },
         "name": "Wimbledon",
         "offsetgroup": "Wimbledon",
         "orientation": "v",
         "showlegend": false,
         "textposition": "auto",
         "type": "bar",
         "x": [
          "Wimbledon"
         ],
         "xaxis": "x2",
         "y": [
          28
         ],
         "yaxis": "y2"
        },
        {
         "alignmentgroup": "True",
         "hovertemplate": "entity=%{x}<br>month=2010-06<br>count=%{y}<extra></extra>",
         "legendgroup": "Wimbledon",
         "marker": {
          "color": "#ab63fa"
         },
         "name": "Wimbledon",
         "offsetgroup": "Wimbledon",
         "orientation": "v",
         "showlegend": false,
         "textposition": "auto",
         "type": "bar",
         "x": [
          "Wimbledon"
         ],
         "xaxis": "x",
         "y": [
          35
         ],
         "yaxis": "y"
        },
        {
         "alignmentgroup": "True",
         "hovertemplate": "entity=%{x}<br>month=2002-06<br>count=%{y}<extra></extra>",
         "legendgroup": "Japan",
         "marker": {
          "color": "#FFA15A"
         },
         "name": "Japan",
         "offsetgroup": "Japan",
         "orientation": "v",
         "showlegend": true,
         "textposition": "auto",
         "type": "bar",
         "x": [
          "Japan"
         ],
         "xaxis": "x7",
         "y": [
          64
         ],
         "yaxis": "y7"
        },
        {
         "alignmentgroup": "True",
         "hovertemplate": "entity=%{x}<br>month=2002-07<br>count=%{y}<extra></extra>",
         "legendgroup": "Japan",
         "marker": {
          "color": "#FFA15A"
         },
         "name": "Japan",
         "offsetgroup": "Japan",
         "orientation": "v",
         "showlegend": false,
         "textposition": "auto",
         "type": "bar",
         "x": [
          "Japan"
         ],
         "xaxis": "x6",
         "y": [
          33
         ],
         "yaxis": "y6"
        },
        {
         "alignmentgroup": "True",
         "hovertemplate": "entity=%{x}<br>month=2002-06<br>count=%{y}<extra></extra>",
         "legendgroup": "US",
         "marker": {
          "color": "#19d3f3"
         },
         "name": "US",
         "offsetgroup": "US",
         "orientation": "v",
         "showlegend": true,
         "textposition": "auto",
         "type": "bar",
         "x": [
          "US"
         ],
         "xaxis": "x7",
         "y": [
          57
         ],
         "yaxis": "y7"
        },
        {
         "alignmentgroup": "True",
         "hovertemplate": "entity=%{x}<br>month=2002-07<br>count=%{y}<extra></extra>",
         "legendgroup": "US",
         "marker": {
          "color": "#19d3f3"
         },
         "name": "US",
         "offsetgroup": "US",
         "orientation": "v",
         "showlegend": false,
         "textposition": "auto",
         "type": "bar",
         "x": [
          "US"
         ],
         "xaxis": "x6",
         "y": [
          175
         ],
         "yaxis": "y6"
        },
        {
         "alignmentgroup": "True",
         "hovertemplate": "entity=%{x}<br>month=2003-06<br>count=%{y}<extra></extra>",
         "legendgroup": "US",
         "marker": {
          "color": "#19d3f3"
         },
         "name": "US",
         "offsetgroup": "US",
         "orientation": "v",
         "showlegend": false,
         "textposition": "auto",
         "type": "bar",
         "x": [
          "US"
         ],
         "xaxis": "x5",
         "y": [
          72
         ],
         "yaxis": "y5"
        },
        {
         "alignmentgroup": "True",
         "hovertemplate": "entity=%{x}<br>month=2003-07<br>count=%{y}<extra></extra>",
         "legendgroup": "US",
         "marker": {
          "color": "#19d3f3"
         },
         "name": "US",
         "offsetgroup": "US",
         "orientation": "v",
         "showlegend": false,
         "textposition": "auto",
         "type": "bar",
         "x": [
          "US"
         ],
         "xaxis": "x4",
         "y": [
          86
         ],
         "yaxis": "y4"
        },
        {
         "alignmentgroup": "True",
         "hovertemplate": "entity=%{x}<br>month=2004-06<br>count=%{y}<extra></extra>",
         "legendgroup": "US",
         "marker": {
          "color": "#19d3f3"
         },
         "name": "US",
         "offsetgroup": "US",
         "orientation": "v",
         "showlegend": false,
         "textposition": "auto",
         "type": "bar",
         "x": [
          "US"
         ],
         "xaxis": "x3",
         "y": [
          104
         ],
         "yaxis": "y3"
        },
        {
         "alignmentgroup": "True",
         "hovertemplate": "entity=%{x}<br>month=2006-06<br>count=%{y}<extra></extra>",
         "legendgroup": "US",
         "marker": {
          "color": "#19d3f3"
         },
         "name": "US",
         "offsetgroup": "US",
         "orientation": "v",
         "showlegend": false,
         "textposition": "auto",
         "type": "bar",
         "x": [
          "US"
         ],
         "xaxis": "x2",
         "y": [
          61
         ],
         "yaxis": "y2"
        },
        {
         "alignmentgroup": "True",
         "hovertemplate": "entity=%{x}<br>month=2010-06<br>count=%{y}<extra></extra>",
         "legendgroup": "US",
         "marker": {
          "color": "#19d3f3"
         },
         "name": "US",
         "offsetgroup": "US",
         "orientation": "v",
         "showlegend": false,
         "textposition": "auto",
         "type": "bar",
         "x": [
          "US"
         ],
         "xaxis": "x",
         "y": [
          62
         ],
         "yaxis": "y"
        },
        {
         "alignmentgroup": "True",
         "hovertemplate": "entity=%{x}<br>month=2002-06<br>count=%{y}<extra></extra>",
         "legendgroup": "Spain",
         "marker": {
          "color": "#FF6692"
         },
         "name": "Spain",
         "offsetgroup": "Spain",
         "orientation": "v",
         "showlegend": true,
         "textposition": "auto",
         "type": "bar",
         "x": [
          "Spain"
         ],
         "xaxis": "x7",
         "y": [
          57
         ],
         "yaxis": "y7"
        },
        {
         "alignmentgroup": "True",
         "hovertemplate": "entity=%{x}<br>month=2004-06<br>count=%{y}<extra></extra>",
         "legendgroup": "Spain",
         "marker": {
          "color": "#FF6692"
         },
         "name": "Spain",
         "offsetgroup": "Spain",
         "orientation": "v",
         "showlegend": false,
         "textposition": "auto",
         "type": "bar",
         "x": [
          "Spain"
         ],
         "xaxis": "x3",
         "y": [
          70
         ],
         "yaxis": "y3"
        },
        {
         "alignmentgroup": "True",
         "hovertemplate": "entity=%{x}<br>month=2010-06<br>count=%{y}<extra></extra>",
         "legendgroup": "Spain",
         "marker": {
          "color": "#FF6692"
         },
         "name": "Spain",
         "offsetgroup": "Spain",
         "orientation": "v",
         "showlegend": false,
         "textposition": "auto",
         "type": "bar",
         "x": [
          "Spain"
         ],
         "xaxis": "x",
         "y": [
          31
         ],
         "yaxis": "y"
        },
        {
         "alignmentgroup": "True",
         "hovertemplate": "entity=%{x}<br>month=2002-06<br>count=%{y}<extra></extra>",
         "legendgroup": "Italy",
         "marker": {
          "color": "#B6E880"
         },
         "name": "Italy",
         "offsetgroup": "Italy",
         "orientation": "v",
         "showlegend": true,
         "textposition": "auto",
         "type": "bar",
         "x": [
          "Italy"
         ],
         "xaxis": "x7",
         "y": [
          55
         ],
         "yaxis": "y7"
        },
        {
         "alignmentgroup": "True",
         "hovertemplate": "entity=%{x}<br>month=2002-06<br>count=%{y}<extra></extra>",
         "legendgroup": "Japanese",
         "marker": {
          "color": "#FF97FF"
         },
         "name": "Japanese",
         "offsetgroup": "Japanese",
         "orientation": "v",
         "showlegend": true,
         "textposition": "auto",
         "type": "bar",
         "x": [
          "Japanese"
         ],
         "xaxis": "x7",
         "y": [
          53
         ],
         "yaxis": "y7"
        },
        {
         "alignmentgroup": "True",
         "hovertemplate": "entity=%{x}<br>month=2002-06<br>count=%{y}<extra></extra>",
         "legendgroup": "English",
         "marker": {
          "color": "#FECB52"
         },
         "name": "English",
         "offsetgroup": "English",
         "orientation": "v",
         "showlegend": true,
         "textposition": "auto",
         "type": "bar",
         "x": [
          "English"
         ],
         "xaxis": "x7",
         "y": [
          51
         ],
         "yaxis": "y7"
        },
        {
         "alignmentgroup": "True",
         "hovertemplate": "entity=%{x}<br>month=2003-06<br>count=%{y}<extra></extra>",
         "legendgroup": "English",
         "marker": {
          "color": "#FECB52"
         },
         "name": "English",
         "offsetgroup": "English",
         "orientation": "v",
         "showlegend": false,
         "textposition": "auto",
         "type": "bar",
         "x": [
          "English"
         ],
         "xaxis": "x5",
         "y": [
          35
         ],
         "yaxis": "y5"
        },
        {
         "alignmentgroup": "True",
         "hovertemplate": "entity=%{x}<br>month=2003-07<br>count=%{y}<extra></extra>",
         "legendgroup": "English",
         "marker": {
          "color": "#FECB52"
         },
         "name": "English",
         "offsetgroup": "English",
         "orientation": "v",
         "showlegend": false,
         "textposition": "auto",
         "type": "bar",
         "x": [
          "English"
         ],
         "xaxis": "x4",
         "y": [
          39
         ],
         "yaxis": "y4"
        },
        {
         "alignmentgroup": "True",
         "hovertemplate": "entity=%{x}<br>month=2004-06<br>count=%{y}<extra></extra>",
         "legendgroup": "English",
         "marker": {
          "color": "#FECB52"
         },
         "name": "English",
         "offsetgroup": "English",
         "orientation": "v",
         "showlegend": false,
         "textposition": "auto",
         "type": "bar",
         "x": [
          "English"
         ],
         "xaxis": "x3",
         "y": [
          57
         ],
         "yaxis": "y3"
        },
        {
         "alignmentgroup": "True",
         "hovertemplate": "entity=%{x}<br>month=2010-06<br>count=%{y}<extra></extra>",
         "legendgroup": "English",
         "marker": {
          "color": "#FECB52"
         },
         "name": "English",
         "offsetgroup": "English",
         "orientation": "v",
         "showlegend": false,
         "textposition": "auto",
         "type": "bar",
         "x": [
          "English"
         ],
         "xaxis": "x",
         "y": [
          38
         ],
         "yaxis": "y"
        },
        {
         "alignmentgroup": "True",
         "hovertemplate": "entity=%{x}<br>month=2002-06<br>count=%{y}<extra></extra>",
         "legendgroup": "Germany",
         "marker": {
          "color": "#636efa"
         },
         "name": "Germany",
         "offsetgroup": "Germany",
         "orientation": "v",
         "showlegend": true,
         "textposition": "auto",
         "type": "bar",
         "x": [
          "Germany"
         ],
         "xaxis": "x7",
         "y": [
          47
         ],
         "yaxis": "y7"
        },
        {
         "alignmentgroup": "True",
         "hovertemplate": "entity=%{x}<br>month=2002-07<br>count=%{y}<extra></extra>",
         "legendgroup": "Germany",
         "marker": {
          "color": "#636efa"
         },
         "name": "Germany",
         "offsetgroup": "Germany",
         "orientation": "v",
         "showlegend": false,
         "textposition": "auto",
         "type": "bar",
         "x": [
          "Germany"
         ],
         "xaxis": "x6",
         "y": [
          53
         ],
         "yaxis": "y6"
        },
        {
         "alignmentgroup": "True",
         "hovertemplate": "entity=%{x}<br>month=2006-06<br>count=%{y}<extra></extra>",
         "legendgroup": "Germany",
         "marker": {
          "color": "#636efa"
         },
         "name": "Germany",
         "offsetgroup": "Germany",
         "orientation": "v",
         "showlegend": false,
         "textposition": "auto",
         "type": "bar",
         "x": [
          "Germany"
         ],
         "xaxis": "x2",
         "y": [
          58
         ],
         "yaxis": "y2"
        },
        {
         "alignmentgroup": "True",
         "hovertemplate": "entity=%{x}<br>month=2010-06<br>count=%{y}<extra></extra>",
         "legendgroup": "Germany",
         "marker": {
          "color": "#636efa"
         },
         "name": "Germany",
         "offsetgroup": "Germany",
         "orientation": "v",
         "showlegend": false,
         "textposition": "auto",
         "type": "bar",
         "x": [
          "Germany"
         ],
         "xaxis": "x",
         "y": [
          55
         ],
         "yaxis": "y"
        },
        {
         "alignmentgroup": "True",
         "hovertemplate": "entity=%{x}<br>month=2002-06<br>count=%{y}<extra></extra>",
         "legendgroup": "Senegal",
         "marker": {
          "color": "#EF553B"
         },
         "name": "Senegal",
         "offsetgroup": "Senegal",
         "orientation": "v",
         "showlegend": true,
         "textposition": "auto",
         "type": "bar",
         "x": [
          "Senegal"
         ],
         "xaxis": "x7",
         "y": [
          45
         ],
         "yaxis": "y7"
        },
        {
         "alignmentgroup": "True",
         "hovertemplate": "entity=%{x}<br>month=2002-06<br>count=%{y}<extra></extra>",
         "legendgroup": "Lewis",
         "marker": {
          "color": "#00cc96"
         },
         "name": "Lewis",
         "offsetgroup": "Lewis",
         "orientation": "v",
         "showlegend": true,
         "textposition": "auto",
         "type": "bar",
         "x": [
          "Lewis"
         ],
         "xaxis": "x7",
         "y": [
          44
         ],
         "yaxis": "y7"
        },
        {
         "alignmentgroup": "True",
         "hovertemplate": "entity=%{x}<br>month=2002-06<br>count=%{y}<extra></extra>",
         "legendgroup": "Ireland",
         "marker": {
          "color": "#ab63fa"
         },
         "name": "Ireland",
         "offsetgroup": "Ireland",
         "orientation": "v",
         "showlegend": true,
         "textposition": "auto",
         "type": "bar",
         "x": [
          "Ireland"
         ],
         "xaxis": "x7",
         "y": [
          42
         ],
         "yaxis": "y7"
        },
        {
         "alignmentgroup": "True",
         "hovertemplate": "entity=%{x}<br>month=2002-06<br>count=%{y}<extra></extra>",
         "legendgroup": "Sweden",
         "marker": {
          "color": "#FFA15A"
         },
         "name": "Sweden",
         "offsetgroup": "Sweden",
         "orientation": "v",
         "showlegend": true,
         "textposition": "auto",
         "type": "bar",
         "x": [
          "Sweden"
         ],
         "xaxis": "x7",
         "y": [
          42
         ],
         "yaxis": "y7"
        },
        {
         "alignmentgroup": "True",
         "hovertemplate": "entity=%{x}<br>month=2006-06<br>count=%{y}<extra></extra>",
         "legendgroup": "Sweden",
         "marker": {
          "color": "#FFA15A"
         },
         "name": "Sweden",
         "offsetgroup": "Sweden",
         "orientation": "v",
         "showlegend": false,
         "textposition": "auto",
         "type": "bar",
         "x": [
          "Sweden"
         ],
         "xaxis": "x2",
         "y": [
          30
         ],
         "yaxis": "y2"
        },
        {
         "alignmentgroup": "True",
         "hovertemplate": "entity=%{x}<br>month=2002-06<br>count=%{y}<extra></extra>",
         "legendgroup": "Beckham",
         "marker": {
          "color": "#19d3f3"
         },
         "name": "Beckham",
         "offsetgroup": "Beckham",
         "orientation": "v",
         "showlegend": true,
         "textposition": "auto",
         "type": "bar",
         "x": [
          "Beckham"
         ],
         "xaxis": "x7",
         "y": [
          41
         ],
         "yaxis": "y7"
        },
        {
         "alignmentgroup": "True",
         "hovertemplate": "entity=%{x}<br>month=2003-06<br>count=%{y}<extra></extra>",
         "legendgroup": "Beckham",
         "marker": {
          "color": "#19d3f3"
         },
         "name": "Beckham",
         "offsetgroup": "Beckham",
         "orientation": "v",
         "showlegend": false,
         "textposition": "auto",
         "type": "bar",
         "x": [
          "Beckham"
         ],
         "xaxis": "x5",
         "y": [
          95
         ],
         "yaxis": "y5"
        },
        {
         "alignmentgroup": "True",
         "hovertemplate": "entity=%{x}<br>month=2004-06<br>count=%{y}<extra></extra>",
         "legendgroup": "Beckham",
         "marker": {
          "color": "#19d3f3"
         },
         "name": "Beckham",
         "offsetgroup": "Beckham",
         "orientation": "v",
         "showlegend": false,
         "textposition": "auto",
         "type": "bar",
         "x": [
          "Beckham"
         ],
         "xaxis": "x3",
         "y": [
          34
         ],
         "yaxis": "y3"
        },
        {
         "alignmentgroup": "True",
         "hovertemplate": "entity=%{x}<br>month=2002-07<br>count=%{y}<extra></extra>",
         "legendgroup": "Ronaldo",
         "marker": {
          "color": "#FF6692"
         },
         "name": "Ronaldo",
         "offsetgroup": "Ronaldo",
         "orientation": "v",
         "showlegend": true,
         "textposition": "auto",
         "type": "bar",
         "x": [
          "Ronaldo"
         ],
         "xaxis": "x6",
         "y": [
          54
         ],
         "yaxis": "y6"
        },
        {
         "alignmentgroup": "True",
         "hovertemplate": "entity=%{x}<br>month=2002-07<br>count=%{y}<extra></extra>",
         "legendgroup": "American",
         "marker": {
          "color": "#B6E880"
         },
         "name": "American",
         "offsetgroup": "American",
         "orientation": "v",
         "showlegend": true,
         "textposition": "auto",
         "type": "bar",
         "x": [
          "American"
         ],
         "xaxis": "x6",
         "y": [
          42
         ],
         "yaxis": "y6"
        },
        {
         "alignmentgroup": "True",
         "hovertemplate": "entity=%{x}<br>month=2003-06<br>count=%{y}<extra></extra>",
         "legendgroup": "American",
         "marker": {
          "color": "#B6E880"
         },
         "name": "American",
         "offsetgroup": "American",
         "orientation": "v",
         "showlegend": false,
         "textposition": "auto",
         "type": "bar",
         "x": [
          "American"
         ],
         "xaxis": "x5",
         "y": [
          31
         ],
         "yaxis": "y5"
        },
        {
         "alignmentgroup": "True",
         "hovertemplate": "entity=%{x}<br>month=2003-07<br>count=%{y}<extra></extra>",
         "legendgroup": "American",
         "marker": {
          "color": "#B6E880"
         },
         "name": "American",
         "offsetgroup": "American",
         "orientation": "v",
         "showlegend": false,
         "textposition": "auto",
         "type": "bar",
         "x": [
          "American"
         ],
         "xaxis": "x4",
         "y": [
          55
         ],
         "yaxis": "y4"
        },
        {
         "alignmentgroup": "True",
         "hovertemplate": "entity=%{x}<br>month=2004-06<br>count=%{y}<extra></extra>",
         "legendgroup": "American",
         "marker": {
          "color": "#B6E880"
         },
         "name": "American",
         "offsetgroup": "American",
         "orientation": "v",
         "showlegend": false,
         "textposition": "auto",
         "type": "bar",
         "x": [
          "American"
         ],
         "xaxis": "x3",
         "y": [
          33
         ],
         "yaxis": "y3"
        },
        {
         "alignmentgroup": "True",
         "hovertemplate": "entity=%{x}<br>month=2006-06<br>count=%{y}<extra></extra>",
         "legendgroup": "American",
         "marker": {
          "color": "#B6E880"
         },
         "name": "American",
         "offsetgroup": "American",
         "orientation": "v",
         "showlegend": false,
         "textposition": "auto",
         "type": "bar",
         "x": [
          "American"
         ],
         "xaxis": "x2",
         "y": [
          25
         ],
         "yaxis": "y2"
        },
        {
         "alignmentgroup": "True",
         "hovertemplate": "entity=%{x}<br>month=2002-07<br>count=%{y}<extra></extra>",
         "legendgroup": "India",
         "marker": {
          "color": "#FF97FF"
         },
         "name": "India",
         "offsetgroup": "India",
         "orientation": "v",
         "showlegend": true,
         "textposition": "auto",
         "type": "bar",
         "x": [
          "India"
         ],
         "xaxis": "x6",
         "y": [
          40
         ],
         "yaxis": "y6"
        },
        {
         "alignmentgroup": "True",
         "hovertemplate": "entity=%{x}<br>month=2002-07<br>count=%{y}<extra></extra>",
         "legendgroup": "Australia",
         "marker": {
          "color": "#FECB52"
         },
         "name": "Australia",
         "offsetgroup": "Australia",
         "orientation": "v",
         "showlegend": true,
         "textposition": "auto",
         "type": "bar",
         "x": [
          "Australia"
         ],
         "xaxis": "x6",
         "y": [
          36
         ],
         "yaxis": "y6"
        },
        {
         "alignmentgroup": "True",
         "hovertemplate": "entity=%{x}<br>month=2003-07<br>count=%{y}<extra></extra>",
         "legendgroup": "Australia",
         "marker": {
          "color": "#FECB52"
         },
         "name": "Australia",
         "offsetgroup": "Australia",
         "orientation": "v",
         "showlegend": false,
         "textposition": "auto",
         "type": "bar",
         "x": [
          "Australia"
         ],
         "xaxis": "x4",
         "y": [
          33
         ],
         "yaxis": "y4"
        },
        {
         "alignmentgroup": "True",
         "hovertemplate": "entity=%{x}<br>month=2002-07<br>count=%{y}<extra></extra>",
         "legendgroup": "Tour",
         "marker": {
          "color": "#636efa"
         },
         "name": "Tour",
         "offsetgroup": "Tour",
         "orientation": "v",
         "showlegend": true,
         "textposition": "auto",
         "type": "bar",
         "x": [
          "Tour"
         ],
         "xaxis": "x6",
         "y": [
          31
         ],
         "yaxis": "y6"
        },
        {
         "alignmentgroup": "True",
         "hovertemplate": "entity=%{x}<br>month=2002-07<br>count=%{y}<extra></extra>",
         "legendgroup": "Gates",
         "marker": {
          "color": "#EF553B"
         },
         "name": "Gates",
         "offsetgroup": "Gates",
         "orientation": "v",
         "showlegend": true,
         "textposition": "auto",
         "type": "bar",
         "x": [
          "Gates"
         ],
         "xaxis": "x6",
         "y": [
          29
         ],
         "yaxis": "y6"
        },
        {
         "alignmentgroup": "True",
         "hovertemplate": "entity=%{x}<br>month=2002-07<br>count=%{y}<extra></extra>",
         "legendgroup": "New Zealand",
         "marker": {
          "color": "#00cc96"
         },
         "name": "New Zealand",
         "offsetgroup": "New Zealand",
         "orientation": "v",
         "showlegend": true,
         "textposition": "auto",
         "type": "bar",
         "x": [
          "New Zealand"
         ],
         "xaxis": "x6",
         "y": [
          28
         ],
         "yaxis": "y6"
        },
        {
         "alignmentgroup": "True",
         "hovertemplate": "entity=%{x}<br>month=2002-07<br>count=%{y}<extra></extra>",
         "legendgroup": "Ferdinand",
         "marker": {
          "color": "#ab63fa"
         },
         "name": "Ferdinand",
         "offsetgroup": "Ferdinand",
         "orientation": "v",
         "showlegend": true,
         "textposition": "auto",
         "type": "bar",
         "x": [
          "Ferdinand"
         ],
         "xaxis": "x6",
         "y": [
          26
         ],
         "yaxis": "y6"
        },
        {
         "alignmentgroup": "True",
         "hovertemplate": "entity=%{x}<br>month=2003-06<br>count=%{y}<extra></extra>",
         "legendgroup": "Pakistan",
         "marker": {
          "color": "#FFA15A"
         },
         "name": "Pakistan",
         "offsetgroup": "Pakistan",
         "orientation": "v",
         "showlegend": true,
         "textposition": "auto",
         "type": "bar",
         "x": [
          "Pakistan"
         ],
         "xaxis": "x5",
         "y": [
          65
         ],
         "yaxis": "y5"
        },
        {
         "alignmentgroup": "True",
         "hovertemplate": "entity=%{x}<br>month=2003-06<br>count=%{y}<extra></extra>",
         "legendgroup": "Times",
         "marker": {
          "color": "#19d3f3"
         },
         "name": "Times",
         "offsetgroup": "Times",
         "orientation": "v",
         "showlegend": true,
         "textposition": "auto",
         "type": "bar",
         "x": [
          "Times"
         ],
         "xaxis": "x5",
         "y": [
          56
         ],
         "yaxis": "y5"
        },
        {
         "alignmentgroup": "True",
         "hovertemplate": "entity=%{x}<br>month=2003-06<br>count=%{y}<extra></extra>",
         "legendgroup": "United",
         "marker": {
          "color": "#FF6692"
         },
         "name": "United",
         "offsetgroup": "United",
         "orientation": "v",
         "showlegend": true,
         "textposition": "auto",
         "type": "bar",
         "x": [
          "United"
         ],
         "xaxis": "x5",
         "y": [
          44
         ],
         "yaxis": "y5"
        },
        {
         "alignmentgroup": "True",
         "hovertemplate": "entity=%{x}<br>month=2003-06<br>count=%{y}<extra></extra>",
         "legendgroup": "European",
         "marker": {
          "color": "#B6E880"
         },
         "name": "European",
         "offsetgroup": "European",
         "orientation": "v",
         "showlegend": true,
         "textposition": "auto",
         "type": "bar",
         "x": [
          "European"
         ],
         "xaxis": "x5",
         "y": [
          40
         ],
         "yaxis": "y5"
        },
        {
         "alignmentgroup": "True",
         "hovertemplate": "entity=%{x}<br>month=2003-07<br>count=%{y}<extra></extra>",
         "legendgroup": "European",
         "marker": {
          "color": "#B6E880"
         },
         "name": "European",
         "offsetgroup": "European",
         "orientation": "v",
         "showlegend": false,
         "textposition": "auto",
         "type": "bar",
         "x": [
          "European"
         ],
         "xaxis": "x4",
         "y": [
          32
         ],
         "yaxis": "y4"
        },
        {
         "alignmentgroup": "True",
         "hovertemplate": "entity=%{x}<br>month=2010-06<br>count=%{y}<extra></extra>",
         "legendgroup": "European",
         "marker": {
          "color": "#B6E880"
         },
         "name": "European",
         "offsetgroup": "European",
         "orientation": "v",
         "showlegend": false,
         "textposition": "auto",
         "type": "bar",
         "x": [
          "European"
         ],
         "xaxis": "x",
         "y": [
          30
         ],
         "yaxis": "y"
        },
        {
         "alignmentgroup": "True",
         "hovertemplate": "entity=%{x}<br>month=2003-06<br>count=%{y}<extra></extra>",
         "legendgroup": "Madrid",
         "marker": {
          "color": "#FF97FF"
         },
         "name": "Madrid",
         "offsetgroup": "Madrid",
         "orientation": "v",
         "showlegend": true,
         "textposition": "auto",
         "type": "bar",
         "x": [
          "Madrid"
         ],
         "xaxis": "x5",
         "y": [
          39
         ],
         "yaxis": "y5"
        },
        {
         "alignmentgroup": "True",
         "hovertemplate": "entity=%{x}<br>month=2003-06<br>count=%{y}<extra></extra>",
         "legendgroup": "EU",
         "marker": {
          "color": "#FECB52"
         },
         "name": "EU",
         "offsetgroup": "EU",
         "orientation": "v",
         "showlegend": true,
         "textposition": "auto",
         "type": "bar",
         "x": [
          "EU"
         ],
         "xaxis": "x5",
         "y": [
          37
         ],
         "yaxis": "y5"
        },
        {
         "alignmentgroup": "True",
         "hovertemplate": "entity=%{x}<br>month=2003-06<br>count=%{y}<extra></extra>",
         "legendgroup": "Blair",
         "marker": {
          "color": "#636efa"
         },
         "name": "Blair",
         "offsetgroup": "Blair",
         "orientation": "v",
         "showlegend": true,
         "textposition": "auto",
         "type": "bar",
         "x": [
          "Blair"
         ],
         "xaxis": "x5",
         "y": [
          35
         ],
         "yaxis": "y5"
        },
        {
         "alignmentgroup": "True",
         "hovertemplate": "entity=%{x}<br>month=2003-07<br>count=%{y}<extra></extra>",
         "legendgroup": "Blair",
         "marker": {
          "color": "#636efa"
         },
         "name": "Blair",
         "offsetgroup": "Blair",
         "orientation": "v",
         "showlegend": false,
         "textposition": "auto",
         "type": "bar",
         "x": [
          "Blair"
         ],
         "xaxis": "x4",
         "y": [
          66
         ],
         "yaxis": "y4"
        },
        {
         "alignmentgroup": "True",
         "hovertemplate": "entity=%{x}<br>month=2003-06<br>count=%{y}<extra></extra>",
         "legendgroup": "Labour",
         "marker": {
          "color": "#EF553B"
         },
         "name": "Labour",
         "offsetgroup": "Labour",
         "orientation": "v",
         "showlegend": true,
         "textposition": "auto",
         "type": "bar",
         "x": [
          "Labour"
         ],
         "xaxis": "x5",
         "y": [
          31
         ],
         "yaxis": "y5"
        },
        {
         "alignmentgroup": "True",
         "hovertemplate": "entity=%{x}<br>month=2004-06<br>count=%{y}<extra></extra>",
         "legendgroup": "Labour",
         "marker": {
          "color": "#EF553B"
         },
         "name": "Labour",
         "offsetgroup": "Labour",
         "orientation": "v",
         "showlegend": false,
         "textposition": "auto",
         "type": "bar",
         "x": [
          "Labour"
         ],
         "xaxis": "x3",
         "y": [
          58
         ],
         "yaxis": "y3"
        },
        {
         "alignmentgroup": "True",
         "hovertemplate": "entity=%{x}<br>month=2006-06<br>count=%{y}<extra></extra>",
         "legendgroup": "Labour",
         "marker": {
          "color": "#EF553B"
         },
         "name": "Labour",
         "offsetgroup": "Labour",
         "orientation": "v",
         "showlegend": false,
         "textposition": "auto",
         "type": "bar",
         "x": [
          "Labour"
         ],
         "xaxis": "x2",
         "y": [
          45
         ],
         "yaxis": "y2"
        },
        {
         "alignmentgroup": "True",
         "hovertemplate": "entity=%{x}<br>month=2010-06<br>count=%{y}<extra></extra>",
         "legendgroup": "Labour",
         "marker": {
          "color": "#EF553B"
         },
         "name": "Labour",
         "offsetgroup": "Labour",
         "orientation": "v",
         "showlegend": false,
         "textposition": "auto",
         "type": "bar",
         "x": [
          "Labour"
         ],
         "xaxis": "x",
         "y": [
          41
         ],
         "yaxis": "y"
        },
        {
         "alignmentgroup": "True",
         "hovertemplate": "entity=%{x}<br>month=2003-07<br>count=%{y}<extra></extra>",
         "legendgroup": "South Africa",
         "marker": {
          "color": "#00cc96"
         },
         "name": "South Africa",
         "offsetgroup": "South Africa",
         "orientation": "v",
         "showlegend": true,
         "textposition": "auto",
         "type": "bar",
         "x": [
          "South Africa"
         ],
         "xaxis": "x4",
         "y": [
          86
         ],
         "yaxis": "y4"
        },
        {
         "alignmentgroup": "True",
         "hovertemplate": "entity=%{x}<br>month=2010-06<br>count=%{y}<extra></extra>",
         "legendgroup": "South Africa",
         "marker": {
          "color": "#00cc96"
         },
         "name": "South Africa",
         "offsetgroup": "South Africa",
         "orientation": "v",
         "showlegend": false,
         "textposition": "auto",
         "type": "bar",
         "x": [
          "South Africa"
         ],
         "xaxis": "x",
         "y": [
          81
         ],
         "yaxis": "y"
        },
        {
         "alignmentgroup": "True",
         "hovertemplate": "entity=%{x}<br>month=2003-07<br>count=%{y}<extra></extra>",
         "legendgroup": "Smith",
         "marker": {
          "color": "#ab63fa"
         },
         "name": "Smith",
         "offsetgroup": "Smith",
         "orientation": "v",
         "showlegend": true,
         "textposition": "auto",
         "type": "bar",
         "x": [
          "Smith"
         ],
         "xaxis": "x4",
         "y": [
          54
         ],
         "yaxis": "y4"
        },
        {
         "alignmentgroup": "True",
         "hovertemplate": "entity=%{x}<br>month=2003-07<br>count=%{y}<extra></extra>",
         "legendgroup": "Iraq",
         "marker": {
          "color": "#FFA15A"
         },
         "name": "Iraq",
         "offsetgroup": "Iraq",
         "orientation": "v",
         "showlegend": true,
         "textposition": "auto",
         "type": "bar",
         "x": [
          "Iraq"
         ],
         "xaxis": "x4",
         "y": [
          50
         ],
         "yaxis": "y4"
        },
        {
         "alignmentgroup": "True",
         "hovertemplate": "entity=%{x}<br>month=2004-06<br>count=%{y}<extra></extra>",
         "legendgroup": "Iraq",
         "marker": {
          "color": "#FFA15A"
         },
         "name": "Iraq",
         "offsetgroup": "Iraq",
         "orientation": "v",
         "showlegend": false,
         "textposition": "auto",
         "type": "bar",
         "x": [
          "Iraq"
         ],
         "xaxis": "x3",
         "y": [
          60
         ],
         "yaxis": "y3"
        },
        {
         "alignmentgroup": "True",
         "hovertemplate": "entity=%{x}<br>month=2003-07<br>count=%{y}<extra></extra>",
         "legendgroup": "Australian",
         "marker": {
          "color": "#19d3f3"
         },
         "name": "Australian",
         "offsetgroup": "Australian",
         "orientation": "v",
         "showlegend": true,
         "textposition": "auto",
         "type": "bar",
         "x": [
          "Australian"
         ],
         "xaxis": "x4",
         "y": [
          32
         ],
         "yaxis": "y4"
        },
        {
         "alignmentgroup": "True",
         "hovertemplate": "entity=%{x}<br>month=2003-07<br>count=%{y}<extra></extra>",
         "legendgroup": "Williams",
         "marker": {
          "color": "#FF6692"
         },
         "name": "Williams",
         "offsetgroup": "Williams",
         "orientation": "v",
         "showlegend": true,
         "textposition": "auto",
         "type": "bar",
         "x": [
          "Williams"
         ],
         "xaxis": "x4",
         "y": [
          30
         ],
         "yaxis": "y4"
        },
        {
         "alignmentgroup": "True",
         "hovertemplate": "entity=%{x}<br>month=2003-07<br>count=%{y}<extra></extra>",
         "legendgroup": "ATP",
         "marker": {
          "color": "#B6E880"
         },
         "name": "ATP",
         "offsetgroup": "ATP",
         "orientation": "v",
         "showlegend": true,
         "textposition": "auto",
         "type": "bar",
         "x": [
          "ATP"
         ],
         "xaxis": "x4",
         "y": [
          26
         ],
         "yaxis": "y4"
        },
        {
         "alignmentgroup": "True",
         "hovertemplate": "entity=%{x}<br>month=2003-07<br>count=%{y}<extra></extra>",
         "legendgroup": "Russian",
         "marker": {
          "color": "#FF97FF"
         },
         "name": "Russian",
         "offsetgroup": "Russian",
         "orientation": "v",
         "showlegend": true,
         "textposition": "auto",
         "type": "bar",
         "x": [
          "Russian"
         ],
         "xaxis": "x4",
         "y": [
          25
         ],
         "yaxis": "y4"
        },
        {
         "alignmentgroup": "True",
         "hovertemplate": "entity=%{x}<br>month=2003-07<br>count=%{y}<extra></extra>",
         "legendgroup": "Henman",
         "marker": {
          "color": "#FECB52"
         },
         "name": "Henman",
         "offsetgroup": "Henman",
         "orientation": "v",
         "showlegend": true,
         "textposition": "auto",
         "type": "bar",
         "x": [
          "Henman"
         ],
         "xaxis": "x4",
         "y": [
          24
         ],
         "yaxis": "y4"
        },
        {
         "alignmentgroup": "True",
         "hovertemplate": "entity=%{x}<br>month=2004-06<br>count=%{y}<extra></extra>",
         "legendgroup": "Henman",
         "marker": {
          "color": "#FECB52"
         },
         "name": "Henman",
         "offsetgroup": "Henman",
         "orientation": "v",
         "showlegend": false,
         "textposition": "auto",
         "type": "bar",
         "x": [
          "Henman"
         ],
         "xaxis": "x3",
         "y": [
          62
         ],
         "yaxis": "y3"
        },
        {
         "alignmentgroup": "True",
         "hovertemplate": "entity=%{x}<br>month=2003-07<br>count=%{y}<extra></extra>",
         "legendgroup": "Woods",
         "marker": {
          "color": "#636efa"
         },
         "name": "Woods",
         "offsetgroup": "Woods",
         "orientation": "v",
         "showlegend": true,
         "textposition": "auto",
         "type": "bar",
         "x": [
          "Woods"
         ],
         "xaxis": "x4",
         "y": [
          23
         ],
         "yaxis": "y4"
        },
        {
         "alignmentgroup": "True",
         "hovertemplate": "entity=%{x}<br>month=2004-06<br>count=%{y}<extra></extra>",
         "legendgroup": "Portugal",
         "marker": {
          "color": "#EF553B"
         },
         "name": "Portugal",
         "offsetgroup": "Portugal",
         "orientation": "v",
         "showlegend": true,
         "textposition": "auto",
         "type": "bar",
         "x": [
          "Portugal"
         ],
         "xaxis": "x3",
         "y": [
          138
         ],
         "yaxis": "y3"
        },
        {
         "alignmentgroup": "True",
         "hovertemplate": "entity=%{x}<br>month=2010-06<br>count=%{y}<extra></extra>",
         "legendgroup": "Portugal",
         "marker": {
          "color": "#EF553B"
         },
         "name": "Portugal",
         "offsetgroup": "Portugal",
         "orientation": "v",
         "showlegend": false,
         "textposition": "auto",
         "type": "bar",
         "x": [
          "Portugal"
         ],
         "xaxis": "x",
         "y": [
          40
         ],
         "yaxis": "y"
        },
        {
         "alignmentgroup": "True",
         "hovertemplate": "entity=%{x}<br>month=2004-06<br>count=%{y}<extra></extra>",
         "legendgroup": "Russia",
         "marker": {
          "color": "#00cc96"
         },
         "name": "Russia",
         "offsetgroup": "Russia",
         "orientation": "v",
         "showlegend": true,
         "textposition": "auto",
         "type": "bar",
         "x": [
          "Russia"
         ],
         "xaxis": "x3",
         "y": [
          52
         ],
         "yaxis": "y3"
        },
        {
         "alignmentgroup": "True",
         "hovertemplate": "entity=%{x}<br>month=2004-06<br>count=%{y}<extra></extra>",
         "legendgroup": "Greece",
         "marker": {
          "color": "#ab63fa"
         },
         "name": "Greece",
         "offsetgroup": "Greece",
         "orientation": "v",
         "showlegend": true,
         "textposition": "auto",
         "type": "bar",
         "x": [
          "Greece"
         ],
         "xaxis": "x3",
         "y": [
          48
         ],
         "yaxis": "y3"
        },
        {
         "alignmentgroup": "True",
         "hovertemplate": "entity=%{x}<br>month=2004-06<br>count=%{y}<extra></extra>",
         "legendgroup": "Euro 2004",
         "marker": {
          "color": "#FFA15A"
         },
         "name": "Euro 2004",
         "offsetgroup": "Euro 2004",
         "orientation": "v",
         "showlegend": true,
         "textposition": "auto",
         "type": "bar",
         "x": [
          "Euro 2004"
         ],
         "xaxis": "x3",
         "y": [
          36
         ],
         "yaxis": "y3"
        },
        {
         "alignmentgroup": "True",
         "hovertemplate": "entity=%{x}<br>month=2004-06<br>count=%{y}<extra></extra>",
         "legendgroup": "Deco",
         "marker": {
          "color": "#19d3f3"
         },
         "name": "Deco",
         "offsetgroup": "Deco",
         "orientation": "v",
         "showlegend": true,
         "textposition": "auto",
         "type": "bar",
         "x": [
          "Deco"
         ],
         "xaxis": "x3",
         "y": [
          30
         ],
         "yaxis": "y3"
        },
        {
         "alignmentgroup": "True",
         "hovertemplate": "entity=%{x}<br>month=2006-06<br>count=%{y}<extra></extra>",
         "legendgroup": "NHS",
         "marker": {
          "color": "#FF6692"
         },
         "name": "NHS",
         "offsetgroup": "NHS",
         "orientation": "v",
         "showlegend": true,
         "textposition": "auto",
         "type": "bar",
         "x": [
          "NHS"
         ],
         "xaxis": "x2",
         "y": [
          50
         ],
         "yaxis": "y2"
        },
        {
         "alignmentgroup": "True",
         "hovertemplate": "entity=%{x}<br>month=2006-06<br>count=%{y}<extra></extra>",
         "legendgroup": "Microsoft",
         "marker": {
          "color": "#B6E880"
         },
         "name": "Microsoft",
         "offsetgroup": "Microsoft",
         "orientation": "v",
         "showlegend": true,
         "textposition": "auto",
         "type": "bar",
         "x": [
          "Microsoft"
         ],
         "xaxis": "x2",
         "y": [
          36
         ],
         "yaxis": "y2"
        },
        {
         "alignmentgroup": "True",
         "hovertemplate": "entity=%{x}<br>month=2006-06<br>count=%{y}<extra></extra>",
         "legendgroup": "Iran",
         "marker": {
          "color": "#FF97FF"
         },
         "name": "Iran",
         "offsetgroup": "Iran",
         "orientation": "v",
         "showlegend": true,
         "textposition": "auto",
         "type": "bar",
         "x": [
          "Iran"
         ],
         "xaxis": "x2",
         "y": [
          27
         ],
         "yaxis": "y2"
        },
        {
         "alignmentgroup": "True",
         "hovertemplate": "entity=%{x}<br>month=2006-06<br>count=%{y}<extra></extra>",
         "legendgroup": "WinFS",
         "marker": {
          "color": "#FECB52"
         },
         "name": "WinFS",
         "offsetgroup": "WinFS",
         "orientation": "v",
         "showlegend": true,
         "textposition": "auto",
         "type": "bar",
         "x": [
          "WinFS"
         ],
         "xaxis": "x2",
         "y": [
          23
         ],
         "yaxis": "y2"
        },
        {
         "alignmentgroup": "True",
         "hovertemplate": "entity=%{x}<br>month=2010-06<br>count=%{y}<extra></extra>",
         "legendgroup": "Capello",
         "marker": {
          "color": "#636efa"
         },
         "name": "Capello",
         "offsetgroup": "Capello",
         "orientation": "v",
         "showlegend": true,
         "textposition": "auto",
         "type": "bar",
         "x": [
          "Capello"
         ],
         "xaxis": "x",
         "y": [
          84
         ],
         "yaxis": "y"
        },
        {
         "alignmentgroup": "True",
         "hovertemplate": "entity=%{x}<br>month=2010-06<br>count=%{y}<extra></extra>",
         "legendgroup": "Murray",
         "marker": {
          "color": "#EF553B"
         },
         "name": "Murray",
         "offsetgroup": "Murray",
         "orientation": "v",
         "showlegend": true,
         "textposition": "auto",
         "type": "bar",
         "x": [
          "Murray"
         ],
         "xaxis": "x",
         "y": [
          44
         ],
         "yaxis": "y"
        },
        {
         "alignmentgroup": "True",
         "hovertemplate": "entity=%{x}<br>month=2010-06<br>count=%{y}<extra></extra>",
         "legendgroup": "USA",
         "marker": {
          "color": "#00cc96"
         },
         "name": "USA",
         "offsetgroup": "USA",
         "orientation": "v",
         "showlegend": true,
         "textposition": "auto",
         "type": "bar",
         "x": [
          "USA"
         ],
         "xaxis": "x",
         "y": [
          33
         ],
         "yaxis": "y"
        }
       ],
       "layout": {
        "annotations": [
         {
          "showarrow": false,
          "text": "2010-06",
          "textangle": 90,
          "x": 0.98,
          "xanchor": "left",
          "xref": "paper",
          "y": 0.049375,
          "yanchor": "middle",
          "yref": "paper"
         },
         {
          "showarrow": false,
          "text": "2006-06",
          "textangle": 90,
          "x": 0.98,
          "xanchor": "left",
          "xref": "paper",
          "y": 0.178125,
          "yanchor": "middle",
          "yref": "paper"
         },
         {
          "showarrow": false,
          "text": "2004-06",
          "textangle": 90,
          "x": 0.98,
          "xanchor": "left",
          "xref": "paper",
          "y": 0.306875,
          "yanchor": "middle",
          "yref": "paper"
         },
         {
          "showarrow": false,
          "text": "2003-07",
          "textangle": 90,
          "x": 0.98,
          "xanchor": "left",
          "xref": "paper",
          "y": 0.435625,
          "yanchor": "middle",
          "yref": "paper"
         },
         {
          "showarrow": false,
          "text": "2003-06",
          "textangle": 90,
          "x": 0.98,
          "xanchor": "left",
          "xref": "paper",
          "y": 0.5643750000000001,
          "yanchor": "middle",
          "yref": "paper"
         },
         {
          "showarrow": false,
          "text": "2002-07",
          "textangle": 90,
          "x": 0.98,
          "xanchor": "left",
          "xref": "paper",
          "y": 0.693125,
          "yanchor": "middle",
          "yref": "paper"
         },
         {
          "showarrow": false,
          "text": "2002-06",
          "textangle": 90,
          "x": 0.98,
          "xanchor": "left",
          "xref": "paper",
          "y": 0.8218749999999999,
          "yanchor": "middle",
          "yref": "paper"
         },
         {
          "showarrow": false,
          "text": "2002-05",
          "textangle": 90,
          "x": 0.98,
          "xanchor": "left",
          "xref": "paper",
          "y": 0.950625,
          "yanchor": "middle",
          "yref": "paper"
         },
         {
          "font": {
           "color": "black",
           "size": 14
          },
          "showarrow": false,
          "text": "Counts",
          "textangle": -90,
          "x": -0.07,
          "xref": "paper",
          "y": 0.5,
          "yref": "paper"
         },
         {
          "font": {
           "color": "black",
           "size": 14
          },
          "showarrow": false,
          "text": "Entities",
          "textangle": 0,
          "x": 0.5,
          "xref": "paper",
          "y": -0.2,
          "yref": "paper"
         }
        ],
        "barmode": "relative",
        "font": {
         "size": 8
        },
        "legend": {
         "title": {
          "text": "entity"
         },
         "tracegroupgap": 0
        },
        "margin": {
         "t": 60
        },
        "showlegend": false,
        "template": {
         "data": {
          "bar": [
           {
            "error_x": {
             "color": "#2a3f5f"
            },
            "error_y": {
             "color": "#2a3f5f"
            },
            "marker": {
             "line": {
              "color": "#E5ECF6",
              "width": 0.5
             }
            },
            "type": "bar"
           }
          ],
          "barpolar": [
           {
            "marker": {
             "line": {
              "color": "#E5ECF6",
              "width": 0.5
             }
            },
            "type": "barpolar"
           }
          ],
          "carpet": [
           {
            "aaxis": {
             "endlinecolor": "#2a3f5f",
             "gridcolor": "white",
             "linecolor": "white",
             "minorgridcolor": "white",
             "startlinecolor": "#2a3f5f"
            },
            "baxis": {
             "endlinecolor": "#2a3f5f",
             "gridcolor": "white",
             "linecolor": "white",
             "minorgridcolor": "white",
             "startlinecolor": "#2a3f5f"
            },
            "type": "carpet"
           }
          ],
          "choropleth": [
           {
            "colorbar": {
             "outlinewidth": 0,
             "ticks": ""
            },
            "type": "choropleth"
           }
          ],
          "contour": [
           {
            "colorbar": {
             "outlinewidth": 0,
             "ticks": ""
            },
            "colorscale": [
             [
              0,
              "#0d0887"
             ],
             [
              0.1111111111111111,
              "#46039f"
             ],
             [
              0.2222222222222222,
              "#7201a8"
             ],
             [
              0.3333333333333333,
              "#9c179e"
             ],
             [
              0.4444444444444444,
              "#bd3786"
             ],
             [
              0.5555555555555556,
              "#d8576b"
             ],
             [
              0.6666666666666666,
              "#ed7953"
             ],
             [
              0.7777777777777778,
              "#fb9f3a"
             ],
             [
              0.8888888888888888,
              "#fdca26"
             ],
             [
              1,
              "#f0f921"
             ]
            ],
            "type": "contour"
           }
          ],
          "contourcarpet": [
           {
            "colorbar": {
             "outlinewidth": 0,
             "ticks": ""
            },
            "type": "contourcarpet"
           }
          ],
          "heatmap": [
           {
            "colorbar": {
             "outlinewidth": 0,
             "ticks": ""
            },
            "colorscale": [
             [
              0,
              "#0d0887"
             ],
             [
              0.1111111111111111,
              "#46039f"
             ],
             [
              0.2222222222222222,
              "#7201a8"
             ],
             [
              0.3333333333333333,
              "#9c179e"
             ],
             [
              0.4444444444444444,
              "#bd3786"
             ],
             [
              0.5555555555555556,
              "#d8576b"
             ],
             [
              0.6666666666666666,
              "#ed7953"
             ],
             [
              0.7777777777777778,
              "#fb9f3a"
             ],
             [
              0.8888888888888888,
              "#fdca26"
             ],
             [
              1,
              "#f0f921"
             ]
            ],
            "type": "heatmap"
           }
          ],
          "heatmapgl": [
           {
            "colorbar": {
             "outlinewidth": 0,
             "ticks": ""
            },
            "colorscale": [
             [
              0,
              "#0d0887"
             ],
             [
              0.1111111111111111,
              "#46039f"
             ],
             [
              0.2222222222222222,
              "#7201a8"
             ],
             [
              0.3333333333333333,
              "#9c179e"
             ],
             [
              0.4444444444444444,
              "#bd3786"
             ],
             [
              0.5555555555555556,
              "#d8576b"
             ],
             [
              0.6666666666666666,
              "#ed7953"
             ],
             [
              0.7777777777777778,
              "#fb9f3a"
             ],
             [
              0.8888888888888888,
              "#fdca26"
             ],
             [
              1,
              "#f0f921"
             ]
            ],
            "type": "heatmapgl"
           }
          ],
          "histogram": [
           {
            "marker": {
             "colorbar": {
              "outlinewidth": 0,
              "ticks": ""
             }
            },
            "type": "histogram"
           }
          ],
          "histogram2d": [
           {
            "colorbar": {
             "outlinewidth": 0,
             "ticks": ""
            },
            "colorscale": [
             [
              0,
              "#0d0887"
             ],
             [
              0.1111111111111111,
              "#46039f"
             ],
             [
              0.2222222222222222,
              "#7201a8"
             ],
             [
              0.3333333333333333,
              "#9c179e"
             ],
             [
              0.4444444444444444,
              "#bd3786"
             ],
             [
              0.5555555555555556,
              "#d8576b"
             ],
             [
              0.6666666666666666,
              "#ed7953"
             ],
             [
              0.7777777777777778,
              "#fb9f3a"
             ],
             [
              0.8888888888888888,
              "#fdca26"
             ],
             [
              1,
              "#f0f921"
             ]
            ],
            "type": "histogram2d"
           }
          ],
          "histogram2dcontour": [
           {
            "colorbar": {
             "outlinewidth": 0,
             "ticks": ""
            },
            "colorscale": [
             [
              0,
              "#0d0887"
             ],
             [
              0.1111111111111111,
              "#46039f"
             ],
             [
              0.2222222222222222,
              "#7201a8"
             ],
             [
              0.3333333333333333,
              "#9c179e"
             ],
             [
              0.4444444444444444,
              "#bd3786"
             ],
             [
              0.5555555555555556,
              "#d8576b"
             ],
             [
              0.6666666666666666,
              "#ed7953"
             ],
             [
              0.7777777777777778,
              "#fb9f3a"
             ],
             [
              0.8888888888888888,
              "#fdca26"
             ],
             [
              1,
              "#f0f921"
             ]
            ],
            "type": "histogram2dcontour"
           }
          ],
          "mesh3d": [
           {
            "colorbar": {
             "outlinewidth": 0,
             "ticks": ""
            },
            "type": "mesh3d"
           }
          ],
          "parcoords": [
           {
            "line": {
             "colorbar": {
              "outlinewidth": 0,
              "ticks": ""
             }
            },
            "type": "parcoords"
           }
          ],
          "pie": [
           {
            "automargin": true,
            "type": "pie"
           }
          ],
          "scatter": [
           {
            "marker": {
             "colorbar": {
              "outlinewidth": 0,
              "ticks": ""
             }
            },
            "type": "scatter"
           }
          ],
          "scatter3d": [
           {
            "line": {
             "colorbar": {
              "outlinewidth": 0,
              "ticks": ""
             }
            },
            "marker": {
             "colorbar": {
              "outlinewidth": 0,
              "ticks": ""
             }
            },
            "type": "scatter3d"
           }
          ],
          "scattercarpet": [
           {
            "marker": {
             "colorbar": {
              "outlinewidth": 0,
              "ticks": ""
             }
            },
            "type": "scattercarpet"
           }
          ],
          "scattergeo": [
           {
            "marker": {
             "colorbar": {
              "outlinewidth": 0,
              "ticks": ""
             }
            },
            "type": "scattergeo"
           }
          ],
          "scattergl": [
           {
            "marker": {
             "colorbar": {
              "outlinewidth": 0,
              "ticks": ""
             }
            },
            "type": "scattergl"
           }
          ],
          "scattermapbox": [
           {
            "marker": {
             "colorbar": {
              "outlinewidth": 0,
              "ticks": ""
             }
            },
            "type": "scattermapbox"
           }
          ],
          "scatterpolar": [
           {
            "marker": {
             "colorbar": {
              "outlinewidth": 0,
              "ticks": ""
             }
            },
            "type": "scatterpolar"
           }
          ],
          "scatterpolargl": [
           {
            "marker": {
             "colorbar": {
              "outlinewidth": 0,
              "ticks": ""
             }
            },
            "type": "scatterpolargl"
           }
          ],
          "scatterternary": [
           {
            "marker": {
             "colorbar": {
              "outlinewidth": 0,
              "ticks": ""
             }
            },
            "type": "scatterternary"
           }
          ],
          "surface": [
           {
            "colorbar": {
             "outlinewidth": 0,
             "ticks": ""
            },
            "colorscale": [
             [
              0,
              "#0d0887"
             ],
             [
              0.1111111111111111,
              "#46039f"
             ],
             [
              0.2222222222222222,
              "#7201a8"
             ],
             [
              0.3333333333333333,
              "#9c179e"
             ],
             [
              0.4444444444444444,
              "#bd3786"
             ],
             [
              0.5555555555555556,
              "#d8576b"
             ],
             [
              0.6666666666666666,
              "#ed7953"
             ],
             [
              0.7777777777777778,
              "#fb9f3a"
             ],
             [
              0.8888888888888888,
              "#fdca26"
             ],
             [
              1,
              "#f0f921"
             ]
            ],
            "type": "surface"
           }
          ],
          "table": [
           {
            "cells": {
             "fill": {
              "color": "#EBF0F8"
             },
             "line": {
              "color": "white"
             }
            },
            "header": {
             "fill": {
              "color": "#C8D4E3"
             },
             "line": {
              "color": "white"
             }
            },
            "type": "table"
           }
          ]
         },
         "layout": {
          "annotationdefaults": {
           "arrowcolor": "#2a3f5f",
           "arrowhead": 0,
           "arrowwidth": 1
          },
          "autotypenumbers": "strict",
          "coloraxis": {
           "colorbar": {
            "outlinewidth": 0,
            "ticks": ""
           }
          },
          "colorscale": {
           "diverging": [
            [
             0,
             "#8e0152"
            ],
            [
             0.1,
             "#c51b7d"
            ],
            [
             0.2,
             "#de77ae"
            ],
            [
             0.3,
             "#f1b6da"
            ],
            [
             0.4,
             "#fde0ef"
            ],
            [
             0.5,
             "#f7f7f7"
            ],
            [
             0.6,
             "#e6f5d0"
            ],
            [
             0.7,
             "#b8e186"
            ],
            [
             0.8,
             "#7fbc41"
            ],
            [
             0.9,
             "#4d9221"
            ],
            [
             1,
             "#276419"
            ]
           ],
           "sequential": [
            [
             0,
             "#0d0887"
            ],
            [
             0.1111111111111111,
             "#46039f"
            ],
            [
             0.2222222222222222,
             "#7201a8"
            ],
            [
             0.3333333333333333,
             "#9c179e"
            ],
            [
             0.4444444444444444,
             "#bd3786"
            ],
            [
             0.5555555555555556,
             "#d8576b"
            ],
            [
             0.6666666666666666,
             "#ed7953"
            ],
            [
             0.7777777777777778,
             "#fb9f3a"
            ],
            [
             0.8888888888888888,
             "#fdca26"
            ],
            [
             1,
             "#f0f921"
            ]
           ],
           "sequentialminus": [
            [
             0,
             "#0d0887"
            ],
            [
             0.1111111111111111,
             "#46039f"
            ],
            [
             0.2222222222222222,
             "#7201a8"
            ],
            [
             0.3333333333333333,
             "#9c179e"
            ],
            [
             0.4444444444444444,
             "#bd3786"
            ],
            [
             0.5555555555555556,
             "#d8576b"
            ],
            [
             0.6666666666666666,
             "#ed7953"
            ],
            [
             0.7777777777777778,
             "#fb9f3a"
            ],
            [
             0.8888888888888888,
             "#fdca26"
            ],
            [
             1,
             "#f0f921"
            ]
           ]
          },
          "colorway": [
           "#636efa",
           "#EF553B",
           "#00cc96",
           "#ab63fa",
           "#FFA15A",
           "#19d3f3",
           "#FF6692",
           "#B6E880",
           "#FF97FF",
           "#FECB52"
          ],
          "font": {
           "color": "#2a3f5f"
          },
          "geo": {
           "bgcolor": "white",
           "lakecolor": "white",
           "landcolor": "#E5ECF6",
           "showlakes": true,
           "showland": true,
           "subunitcolor": "white"
          },
          "hoverlabel": {
           "align": "left"
          },
          "hovermode": "closest",
          "mapbox": {
           "style": "light"
          },
          "paper_bgcolor": "white",
          "plot_bgcolor": "#E5ECF6",
          "polar": {
           "angularaxis": {
            "gridcolor": "white",
            "linecolor": "white",
            "ticks": ""
           },
           "bgcolor": "#E5ECF6",
           "radialaxis": {
            "gridcolor": "white",
            "linecolor": "white",
            "ticks": ""
           }
          },
          "scene": {
           "xaxis": {
            "backgroundcolor": "#E5ECF6",
            "gridcolor": "white",
            "gridwidth": 2,
            "linecolor": "white",
            "showbackground": true,
            "ticks": "",
            "zerolinecolor": "white"
           },
           "yaxis": {
            "backgroundcolor": "#E5ECF6",
            "gridcolor": "white",
            "gridwidth": 2,
            "linecolor": "white",
            "showbackground": true,
            "ticks": "",
            "zerolinecolor": "white"
           },
           "zaxis": {
            "backgroundcolor": "#E5ECF6",
            "gridcolor": "white",
            "gridwidth": 2,
            "linecolor": "white",
            "showbackground": true,
            "ticks": "",
            "zerolinecolor": "white"
           }
          },
          "shapedefaults": {
           "line": {
            "color": "#2a3f5f"
           }
          },
          "ternary": {
           "aaxis": {
            "gridcolor": "white",
            "linecolor": "white",
            "ticks": ""
           },
           "baxis": {
            "gridcolor": "white",
            "linecolor": "white",
            "ticks": ""
           },
           "bgcolor": "#E5ECF6",
           "caxis": {
            "gridcolor": "white",
            "linecolor": "white",
            "ticks": ""
           }
          },
          "title": {
           "x": 0.05
          },
          "xaxis": {
           "automargin": true,
           "gridcolor": "white",
           "linecolor": "white",
           "ticks": "",
           "title": {
            "standoff": 15
           },
           "zerolinecolor": "white",
           "zerolinewidth": 2
          },
          "yaxis": {
           "automargin": true,
           "gridcolor": "white",
           "linecolor": "white",
           "ticks": "",
           "title": {
            "standoff": 15
           },
           "zerolinecolor": "white",
           "zerolinewidth": 2
          }
         }
        },
        "xaxis": {
         "anchor": "y",
         "categoryarray": [
          "England",
          "London",
          "Scotland",
          "France",
          "Cuba",
          "Europe",
          "Eriksson",
          "BBC",
          "British",
          "World Cup",
          "Edinburgh",
          "Keane",
          "Nintendo",
          "French",
          "Liverpool",
          "Arsenal",
          "UK",
          "Britain",
          "the World Cup",
          "Lords",
          "Roy",
          "Brazil",
          "Argentina",
          "Wimbledon",
          "Japan",
          "US",
          "Spain",
          "Italy",
          "Japanese",
          "English",
          "Germany",
          "Senegal",
          "Lewis",
          "Ireland",
          "Sweden",
          "Beckham",
          "Ronaldo",
          "American",
          "India",
          "Australia",
          "Tour",
          "Gates",
          "New Zealand",
          "Ferdinand",
          "Pakistan",
          "Times",
          "United",
          "European",
          "Madrid",
          "EU",
          "Blair",
          "Labour",
          "South Africa",
          "Smith",
          "Iraq",
          "Australian",
          "Williams",
          "ATP",
          "Russian",
          "Henman",
          "Woods",
          "Portugal",
          "Russia",
          "Greece",
          "Euro 2004",
          "Deco",
          "NHS",
          "Microsoft",
          "Iran",
          "WinFS",
          "Capello",
          "Murray",
          "USA"
         ],
         "categoryorder": "array",
         "domain": [
          0,
          0.98
         ],
         "title": {
          "text": ""
         }
        },
        "xaxis2": {
         "anchor": "y2",
         "domain": [
          0,
          0.98
         ],
         "matches": "x",
         "showticklabels": false,
         "title": {
          "text": ""
         }
        },
        "xaxis3": {
         "anchor": "y3",
         "domain": [
          0,
          0.98
         ],
         "matches": "x",
         "showticklabels": false,
         "title": {
          "text": ""
         }
        },
        "xaxis4": {
         "anchor": "y4",
         "domain": [
          0,
          0.98
         ],
         "matches": "x",
         "showticklabels": false,
         "title": {
          "text": ""
         }
        },
        "xaxis5": {
         "anchor": "y5",
         "domain": [
          0,
          0.98
         ],
         "matches": "x",
         "showticklabels": false,
         "title": {
          "text": ""
         }
        },
        "xaxis6": {
         "anchor": "y6",
         "domain": [
          0,
          0.98
         ],
         "matches": "x",
         "showticklabels": false,
         "title": {
          "text": ""
         }
        },
        "xaxis7": {
         "anchor": "y7",
         "domain": [
          0,
          0.98
         ],
         "matches": "x",
         "showticklabels": false,
         "title": {
          "text": ""
         }
        },
        "xaxis8": {
         "anchor": "y8",
         "domain": [
          0,
          0.98
         ],
         "matches": "x",
         "showticklabels": false,
         "title": {
          "text": ""
         }
        },
        "yaxis": {
         "anchor": "x",
         "domain": [
          0,
          0.09875
         ],
         "title": {
          "text": ""
         }
        },
        "yaxis2": {
         "anchor": "x2",
         "domain": [
          0.12875,
          0.2275
         ],
         "matches": "y",
         "title": {
          "text": ""
         }
        },
        "yaxis3": {
         "anchor": "x3",
         "domain": [
          0.2575,
          0.35625
         ],
         "matches": "y",
         "title": {
          "text": ""
         }
        },
        "yaxis4": {
         "anchor": "x4",
         "domain": [
          0.38625,
          0.485
         ],
         "matches": "y",
         "title": {
          "text": ""
         }
        },
        "yaxis5": {
         "anchor": "x5",
         "domain": [
          0.515,
          0.61375
         ],
         "matches": "y",
         "title": {
          "text": ""
         }
        },
        "yaxis6": {
         "anchor": "x6",
         "domain": [
          0.64375,
          0.7425
         ],
         "matches": "y",
         "title": {
          "text": ""
         }
        },
        "yaxis7": {
         "anchor": "x7",
         "domain": [
          0.7725,
          0.87125
         ],
         "matches": "y",
         "title": {
          "text": ""
         }
        },
        "yaxis8": {
         "anchor": "x8",
         "domain": [
          0.90125,
          1
         ],
         "matches": "y",
         "title": {
          "text": ""
         }
        }
       }
      },
      "text/html": [
       "<div>                            <div id=\"9271cd3a-28b6-460f-b8e2-89719379f6f3\" class=\"plotly-graph-div\" style=\"height:525px; width:100%;\"></div>            <script type=\"text/javascript\">                require([\"plotly\"], function(Plotly) {                    window.PLOTLYENV=window.PLOTLYENV || {};                                    if (document.getElementById(\"9271cd3a-28b6-460f-b8e2-89719379f6f3\")) {                    Plotly.newPlot(                        \"9271cd3a-28b6-460f-b8e2-89719379f6f3\",                        [{\"alignmentgroup\": \"True\", \"hovertemplate\": \"entity=%{x}<br>month=2002-05<br>count=%{y}<extra></extra>\", \"legendgroup\": \"England\", \"marker\": {\"color\": \"#636efa\"}, \"name\": \"England\", \"offsetgroup\": \"England\", \"orientation\": \"v\", \"showlegend\": true, \"textposition\": \"auto\", \"type\": \"bar\", \"x\": [\"England\"], \"xaxis\": \"x8\", \"y\": [149], \"yaxis\": \"y8\"}, {\"alignmentgroup\": \"True\", \"hovertemplate\": \"entity=%{x}<br>month=2002-06<br>count=%{y}<extra></extra>\", \"legendgroup\": \"England\", \"marker\": {\"color\": \"#636efa\"}, \"name\": \"England\", \"offsetgroup\": \"England\", \"orientation\": \"v\", \"showlegend\": false, \"textposition\": \"auto\", \"type\": \"bar\", \"x\": [\"England\"], \"xaxis\": \"x7\", \"y\": [271], \"yaxis\": \"y7\"}, {\"alignmentgroup\": \"True\", \"hovertemplate\": \"entity=%{x}<br>month=2002-07<br>count=%{y}<extra></extra>\", \"legendgroup\": \"England\", \"marker\": {\"color\": \"#636efa\"}, \"name\": \"England\", \"offsetgroup\": \"England\", \"orientation\": \"v\", \"showlegend\": false, \"textposition\": \"auto\", \"type\": \"bar\", \"x\": [\"England\"], \"xaxis\": \"x6\", \"y\": [89], \"yaxis\": \"y6\"}, {\"alignmentgroup\": \"True\", \"hovertemplate\": \"entity=%{x}<br>month=2003-06<br>count=%{y}<extra></extra>\", \"legendgroup\": \"England\", \"marker\": {\"color\": \"#636efa\"}, \"name\": \"England\", \"offsetgroup\": \"England\", \"orientation\": \"v\", \"showlegend\": false, \"textposition\": \"auto\", \"type\": \"bar\", \"x\": [\"England\"], \"xaxis\": \"x5\", \"y\": [195], \"yaxis\": \"y5\"}, {\"alignmentgroup\": \"True\", \"hovertemplate\": \"entity=%{x}<br>month=2003-07<br>count=%{y}<extra></extra>\", \"legendgroup\": \"England\", \"marker\": {\"color\": \"#636efa\"}, \"name\": \"England\", \"offsetgroup\": \"England\", \"orientation\": \"v\", \"showlegend\": false, \"textposition\": \"auto\", \"type\": \"bar\", \"x\": [\"England\"], \"xaxis\": \"x4\", \"y\": [118], \"yaxis\": \"y4\"}, {\"alignmentgroup\": \"True\", \"hovertemplate\": \"entity=%{x}<br>month=2004-06<br>count=%{y}<extra></extra>\", \"legendgroup\": \"England\", \"marker\": {\"color\": \"#636efa\"}, \"name\": \"England\", \"offsetgroup\": \"England\", \"orientation\": \"v\", \"showlegend\": false, \"textposition\": \"auto\", \"type\": \"bar\", \"x\": [\"England\"], \"xaxis\": \"x3\", \"y\": [277], \"yaxis\": \"y3\"}, {\"alignmentgroup\": \"True\", \"hovertemplate\": \"entity=%{x}<br>month=2006-06<br>count=%{y}<extra></extra>\", \"legendgroup\": \"England\", \"marker\": {\"color\": \"#636efa\"}, \"name\": \"England\", \"offsetgroup\": \"England\", \"orientation\": \"v\", \"showlegend\": false, \"textposition\": \"auto\", \"type\": \"bar\", \"x\": [\"England\"], \"xaxis\": \"x2\", \"y\": [103], \"yaxis\": \"y2\"}, {\"alignmentgroup\": \"True\", \"hovertemplate\": \"entity=%{x}<br>month=2010-06<br>count=%{y}<extra></extra>\", \"legendgroup\": \"England\", \"marker\": {\"color\": \"#636efa\"}, \"name\": \"England\", \"offsetgroup\": \"England\", \"orientation\": \"v\", \"showlegend\": false, \"textposition\": \"auto\", \"type\": \"bar\", \"x\": [\"England\"], \"xaxis\": \"x\", \"y\": [253], \"yaxis\": \"y\"}, {\"alignmentgroup\": \"True\", \"hovertemplate\": \"entity=%{x}<br>month=2002-05<br>count=%{y}<extra></extra>\", \"legendgroup\": \"London\", \"marker\": {\"color\": \"#EF553B\"}, \"name\": \"London\", \"offsetgroup\": \"London\", \"orientation\": \"v\", \"showlegend\": true, \"textposition\": \"auto\", \"type\": \"bar\", \"x\": [\"London\"], \"xaxis\": \"x8\", \"y\": [72], \"yaxis\": \"y8\"}, {\"alignmentgroup\": \"True\", \"hovertemplate\": \"entity=%{x}<br>month=2002-06<br>count=%{y}<extra></extra>\", \"legendgroup\": \"London\", \"marker\": {\"color\": \"#EF553B\"}, \"name\": \"London\", \"offsetgroup\": \"London\", \"orientation\": \"v\", \"showlegend\": false, \"textposition\": \"auto\", \"type\": \"bar\", \"x\": [\"London\"], \"xaxis\": \"x7\", \"y\": [48], \"yaxis\": \"y7\"}, {\"alignmentgroup\": \"True\", \"hovertemplate\": \"entity=%{x}<br>month=2002-07<br>count=%{y}<extra></extra>\", \"legendgroup\": \"London\", \"marker\": {\"color\": \"#EF553B\"}, \"name\": \"London\", \"offsetgroup\": \"London\", \"orientation\": \"v\", \"showlegend\": false, \"textposition\": \"auto\", \"type\": \"bar\", \"x\": [\"London\"], \"xaxis\": \"x6\", \"y\": [51], \"yaxis\": \"y6\"}, {\"alignmentgroup\": \"True\", \"hovertemplate\": \"entity=%{x}<br>month=2003-06<br>count=%{y}<extra></extra>\", \"legendgroup\": \"London\", \"marker\": {\"color\": \"#EF553B\"}, \"name\": \"London\", \"offsetgroup\": \"London\", \"orientation\": \"v\", \"showlegend\": false, \"textposition\": \"auto\", \"type\": \"bar\", \"x\": [\"London\"], \"xaxis\": \"x5\", \"y\": [68], \"yaxis\": \"y5\"}, {\"alignmentgroup\": \"True\", \"hovertemplate\": \"entity=%{x}<br>month=2003-07<br>count=%{y}<extra></extra>\", \"legendgroup\": \"London\", \"marker\": {\"color\": \"#EF553B\"}, \"name\": \"London\", \"offsetgroup\": \"London\", \"orientation\": \"v\", \"showlegend\": false, \"textposition\": \"auto\", \"type\": \"bar\", \"x\": [\"London\"], \"xaxis\": \"x4\", \"y\": [77], \"yaxis\": \"y4\"}, {\"alignmentgroup\": \"True\", \"hovertemplate\": \"entity=%{x}<br>month=2004-06<br>count=%{y}<extra></extra>\", \"legendgroup\": \"London\", \"marker\": {\"color\": \"#EF553B\"}, \"name\": \"London\", \"offsetgroup\": \"London\", \"orientation\": \"v\", \"showlegend\": false, \"textposition\": \"auto\", \"type\": \"bar\", \"x\": [\"London\"], \"xaxis\": \"x3\", \"y\": [66], \"yaxis\": \"y3\"}, {\"alignmentgroup\": \"True\", \"hovertemplate\": \"entity=%{x}<br>month=2006-06<br>count=%{y}<extra></extra>\", \"legendgroup\": \"London\", \"marker\": {\"color\": \"#EF553B\"}, \"name\": \"London\", \"offsetgroup\": \"London\", \"orientation\": \"v\", \"showlegend\": false, \"textposition\": \"auto\", \"type\": \"bar\", \"x\": [\"London\"], \"xaxis\": \"x2\", \"y\": [76], \"yaxis\": \"y2\"}, {\"alignmentgroup\": \"True\", \"hovertemplate\": \"entity=%{x}<br>month=2010-06<br>count=%{y}<extra></extra>\", \"legendgroup\": \"London\", \"marker\": {\"color\": \"#EF553B\"}, \"name\": \"London\", \"offsetgroup\": \"London\", \"orientation\": \"v\", \"showlegend\": false, \"textposition\": \"auto\", \"type\": \"bar\", \"x\": [\"London\"], \"xaxis\": \"x\", \"y\": [39], \"yaxis\": \"y\"}, {\"alignmentgroup\": \"True\", \"hovertemplate\": \"entity=%{x}<br>month=2002-05<br>count=%{y}<extra></extra>\", \"legendgroup\": \"Scotland\", \"marker\": {\"color\": \"#00cc96\"}, \"name\": \"Scotland\", \"offsetgroup\": \"Scotland\", \"orientation\": \"v\", \"showlegend\": true, \"textposition\": \"auto\", \"type\": \"bar\", \"x\": [\"Scotland\"], \"xaxis\": \"x8\", \"y\": [55], \"yaxis\": \"y8\"}, {\"alignmentgroup\": \"True\", \"hovertemplate\": \"entity=%{x}<br>month=2002-05<br>count=%{y}<extra></extra>\", \"legendgroup\": \"France\", \"marker\": {\"color\": \"#ab63fa\"}, \"name\": \"France\", \"offsetgroup\": \"France\", \"orientation\": \"v\", \"showlegend\": true, \"textposition\": \"auto\", \"type\": \"bar\", \"x\": [\"France\"], \"xaxis\": \"x8\", \"y\": [42], \"yaxis\": \"y8\"}, {\"alignmentgroup\": \"True\", \"hovertemplate\": \"entity=%{x}<br>month=2002-06<br>count=%{y}<extra></extra>\", \"legendgroup\": \"France\", \"marker\": {\"color\": \"#ab63fa\"}, \"name\": \"France\", \"offsetgroup\": \"France\", \"orientation\": \"v\", \"showlegend\": false, \"textposition\": \"auto\", \"type\": \"bar\", \"x\": [\"France\"], \"xaxis\": \"x7\", \"y\": [71], \"yaxis\": \"y7\"}, {\"alignmentgroup\": \"True\", \"hovertemplate\": \"entity=%{x}<br>month=2002-07<br>count=%{y}<extra></extra>\", \"legendgroup\": \"France\", \"marker\": {\"color\": \"#ab63fa\"}, \"name\": \"France\", \"offsetgroup\": \"France\", \"orientation\": \"v\", \"showlegend\": false, \"textposition\": \"auto\", \"type\": \"bar\", \"x\": [\"France\"], \"xaxis\": \"x6\", \"y\": [29], \"yaxis\": \"y6\"}, {\"alignmentgroup\": \"True\", \"hovertemplate\": \"entity=%{x}<br>month=2003-06<br>count=%{y}<extra></extra>\", \"legendgroup\": \"France\", \"marker\": {\"color\": \"#ab63fa\"}, \"name\": \"France\", \"offsetgroup\": \"France\", \"orientation\": \"v\", \"showlegend\": false, \"textposition\": \"auto\", \"type\": \"bar\", \"x\": [\"France\"], \"xaxis\": \"x5\", \"y\": [32], \"yaxis\": \"y5\"}, {\"alignmentgroup\": \"True\", \"hovertemplate\": \"entity=%{x}<br>month=2004-06<br>count=%{y}<extra></extra>\", \"legendgroup\": \"France\", \"marker\": {\"color\": \"#ab63fa\"}, \"name\": \"France\", \"offsetgroup\": \"France\", \"orientation\": \"v\", \"showlegend\": false, \"textposition\": \"auto\", \"type\": \"bar\", \"x\": [\"France\"], \"xaxis\": \"x3\", \"y\": [50], \"yaxis\": \"y3\"}, {\"alignmentgroup\": \"True\", \"hovertemplate\": \"entity=%{x}<br>month=2006-06<br>count=%{y}<extra></extra>\", \"legendgroup\": \"France\", \"marker\": {\"color\": \"#ab63fa\"}, \"name\": \"France\", \"offsetgroup\": \"France\", \"orientation\": \"v\", \"showlegend\": false, \"textposition\": \"auto\", \"type\": \"bar\", \"x\": [\"France\"], \"xaxis\": \"x2\", \"y\": [48], \"yaxis\": \"y2\"}, {\"alignmentgroup\": \"True\", \"hovertemplate\": \"entity=%{x}<br>month=2002-05<br>count=%{y}<extra></extra>\", \"legendgroup\": \"Cuba\", \"marker\": {\"color\": \"#FFA15A\"}, \"name\": \"Cuba\", \"offsetgroup\": \"Cuba\", \"orientation\": \"v\", \"showlegend\": true, \"textposition\": \"auto\", \"type\": \"bar\", \"x\": [\"Cuba\"], \"xaxis\": \"x8\", \"y\": [42], \"yaxis\": \"y8\"}, {\"alignmentgroup\": \"True\", \"hovertemplate\": \"entity=%{x}<br>month=2002-05<br>count=%{y}<extra></extra>\", \"legendgroup\": \"Europe\", \"marker\": {\"color\": \"#19d3f3\"}, \"name\": \"Europe\", \"offsetgroup\": \"Europe\", \"orientation\": \"v\", \"showlegend\": true, \"textposition\": \"auto\", \"type\": \"bar\", \"x\": [\"Europe\"], \"xaxis\": \"x8\", \"y\": [42], \"yaxis\": \"y8\"}, {\"alignmentgroup\": \"True\", \"hovertemplate\": \"entity=%{x}<br>month=2003-06<br>count=%{y}<extra></extra>\", \"legendgroup\": \"Europe\", \"marker\": {\"color\": \"#19d3f3\"}, \"name\": \"Europe\", \"offsetgroup\": \"Europe\", \"orientation\": \"v\", \"showlegend\": false, \"textposition\": \"auto\", \"type\": \"bar\", \"x\": [\"Europe\"], \"xaxis\": \"x5\", \"y\": [47], \"yaxis\": \"y5\"}, {\"alignmentgroup\": \"True\", \"hovertemplate\": \"entity=%{x}<br>month=2006-06<br>count=%{y}<extra></extra>\", \"legendgroup\": \"Europe\", \"marker\": {\"color\": \"#19d3f3\"}, \"name\": \"Europe\", \"offsetgroup\": \"Europe\", \"orientation\": \"v\", \"showlegend\": false, \"textposition\": \"auto\", \"type\": \"bar\", \"x\": [\"Europe\"], \"xaxis\": \"x2\", \"y\": [28], \"yaxis\": \"y2\"}, {\"alignmentgroup\": \"True\", \"hovertemplate\": \"entity=%{x}<br>month=2010-06<br>count=%{y}<extra></extra>\", \"legendgroup\": \"Europe\", \"marker\": {\"color\": \"#19d3f3\"}, \"name\": \"Europe\", \"offsetgroup\": \"Europe\", \"orientation\": \"v\", \"showlegend\": false, \"textposition\": \"auto\", \"type\": \"bar\", \"x\": [\"Europe\"], \"xaxis\": \"x\", \"y\": [48], \"yaxis\": \"y\"}, {\"alignmentgroup\": \"True\", \"hovertemplate\": \"entity=%{x}<br>month=2002-05<br>count=%{y}<extra></extra>\", \"legendgroup\": \"Eriksson\", \"marker\": {\"color\": \"#FF6692\"}, \"name\": \"Eriksson\", \"offsetgroup\": \"Eriksson\", \"orientation\": \"v\", \"showlegend\": true, \"textposition\": \"auto\", \"type\": \"bar\", \"x\": [\"Eriksson\"], \"xaxis\": \"x8\", \"y\": [41], \"yaxis\": \"y8\"}, {\"alignmentgroup\": \"True\", \"hovertemplate\": \"entity=%{x}<br>month=2002-06<br>count=%{y}<extra></extra>\", \"legendgroup\": \"Eriksson\", \"marker\": {\"color\": \"#FF6692\"}, \"name\": \"Eriksson\", \"offsetgroup\": \"Eriksson\", \"orientation\": \"v\", \"showlegend\": false, \"textposition\": \"auto\", \"type\": \"bar\", \"x\": [\"Eriksson\"], \"xaxis\": \"x7\", \"y\": [47], \"yaxis\": \"y7\"}, {\"alignmentgroup\": \"True\", \"hovertemplate\": \"entity=%{x}<br>month=2002-05<br>count=%{y}<extra></extra>\", \"legendgroup\": \"BBC\", \"marker\": {\"color\": \"#B6E880\"}, \"name\": \"BBC\", \"offsetgroup\": \"BBC\", \"orientation\": \"v\", \"showlegend\": true, \"textposition\": \"auto\", \"type\": \"bar\", \"x\": [\"BBC\"], \"xaxis\": \"x8\", \"y\": [39], \"yaxis\": \"y8\"}, {\"alignmentgroup\": \"True\", \"hovertemplate\": \"entity=%{x}<br>month=2002-07<br>count=%{y}<extra></extra>\", \"legendgroup\": \"BBC\", \"marker\": {\"color\": \"#B6E880\"}, \"name\": \"BBC\", \"offsetgroup\": \"BBC\", \"orientation\": \"v\", \"showlegend\": false, \"textposition\": \"auto\", \"type\": \"bar\", \"x\": [\"BBC\"], \"xaxis\": \"x6\", \"y\": [42], \"yaxis\": \"y6\"}, {\"alignmentgroup\": \"True\", \"hovertemplate\": \"entity=%{x}<br>month=2003-07<br>count=%{y}<extra></extra>\", \"legendgroup\": \"BBC\", \"marker\": {\"color\": \"#B6E880\"}, \"name\": \"BBC\", \"offsetgroup\": \"BBC\", \"orientation\": \"v\", \"showlegend\": false, \"textposition\": \"auto\", \"type\": \"bar\", \"x\": [\"BBC\"], \"xaxis\": \"x4\", \"y\": [34], \"yaxis\": \"y4\"}, {\"alignmentgroup\": \"True\", \"hovertemplate\": \"entity=%{x}<br>month=2004-06<br>count=%{y}<extra></extra>\", \"legendgroup\": \"BBC\", \"marker\": {\"color\": \"#B6E880\"}, \"name\": \"BBC\", \"offsetgroup\": \"BBC\", \"orientation\": \"v\", \"showlegend\": false, \"textposition\": \"auto\", \"type\": \"bar\", \"x\": [\"BBC\"], \"xaxis\": \"x3\", \"y\": [56], \"yaxis\": \"y3\"}, {\"alignmentgroup\": \"True\", \"hovertemplate\": \"entity=%{x}<br>month=2006-06<br>count=%{y}<extra></extra>\", \"legendgroup\": \"BBC\", \"marker\": {\"color\": \"#B6E880\"}, \"name\": \"BBC\", \"offsetgroup\": \"BBC\", \"orientation\": \"v\", \"showlegend\": false, \"textposition\": \"auto\", \"type\": \"bar\", \"x\": [\"BBC\"], \"xaxis\": \"x2\", \"y\": [41], \"yaxis\": \"y2\"}, {\"alignmentgroup\": \"True\", \"hovertemplate\": \"entity=%{x}<br>month=2002-05<br>count=%{y}<extra></extra>\", \"legendgroup\": \"British\", \"marker\": {\"color\": \"#FF97FF\"}, \"name\": \"British\", \"offsetgroup\": \"British\", \"orientation\": \"v\", \"showlegend\": true, \"textposition\": \"auto\", \"type\": \"bar\", \"x\": [\"British\"], \"xaxis\": \"x8\", \"y\": [37], \"yaxis\": \"y8\"}, {\"alignmentgroup\": \"True\", \"hovertemplate\": \"entity=%{x}<br>month=2002-07<br>count=%{y}<extra></extra>\", \"legendgroup\": \"British\", \"marker\": {\"color\": \"#FF97FF\"}, \"name\": \"British\", \"offsetgroup\": \"British\", \"orientation\": \"v\", \"showlegend\": false, \"textposition\": \"auto\", \"type\": \"bar\", \"x\": [\"British\"], \"xaxis\": \"x6\", \"y\": [59], \"yaxis\": \"y6\"}, {\"alignmentgroup\": \"True\", \"hovertemplate\": \"entity=%{x}<br>month=2003-06<br>count=%{y}<extra></extra>\", \"legendgroup\": \"British\", \"marker\": {\"color\": \"#FF97FF\"}, \"name\": \"British\", \"offsetgroup\": \"British\", \"orientation\": \"v\", \"showlegend\": false, \"textposition\": \"auto\", \"type\": \"bar\", \"x\": [\"British\"], \"xaxis\": \"x5\", \"y\": [58], \"yaxis\": \"y5\"}, {\"alignmentgroup\": \"True\", \"hovertemplate\": \"entity=%{x}<br>month=2003-07<br>count=%{y}<extra></extra>\", \"legendgroup\": \"British\", \"marker\": {\"color\": \"#FF97FF\"}, \"name\": \"British\", \"offsetgroup\": \"British\", \"orientation\": \"v\", \"showlegend\": false, \"textposition\": \"auto\", \"type\": \"bar\", \"x\": [\"British\"], \"xaxis\": \"x4\", \"y\": [67], \"yaxis\": \"y4\"}, {\"alignmentgroup\": \"True\", \"hovertemplate\": \"entity=%{x}<br>month=2004-06<br>count=%{y}<extra></extra>\", \"legendgroup\": \"British\", \"marker\": {\"color\": \"#FF97FF\"}, \"name\": \"British\", \"offsetgroup\": \"British\", \"orientation\": \"v\", \"showlegend\": false, \"textposition\": \"auto\", \"type\": \"bar\", \"x\": [\"British\"], \"xaxis\": \"x3\", \"y\": [59], \"yaxis\": \"y3\"}, {\"alignmentgroup\": \"True\", \"hovertemplate\": \"entity=%{x}<br>month=2006-06<br>count=%{y}<extra></extra>\", \"legendgroup\": \"British\", \"marker\": {\"color\": \"#FF97FF\"}, \"name\": \"British\", \"offsetgroup\": \"British\", \"orientation\": \"v\", \"showlegend\": false, \"textposition\": \"auto\", \"type\": \"bar\", \"x\": [\"British\"], \"xaxis\": \"x2\", \"y\": [48], \"yaxis\": \"y2\"}, {\"alignmentgroup\": \"True\", \"hovertemplate\": \"entity=%{x}<br>month=2010-06<br>count=%{y}<extra></extra>\", \"legendgroup\": \"British\", \"marker\": {\"color\": \"#FF97FF\"}, \"name\": \"British\", \"offsetgroup\": \"British\", \"orientation\": \"v\", \"showlegend\": false, \"textposition\": \"auto\", \"type\": \"bar\", \"x\": [\"British\"], \"xaxis\": \"x\", \"y\": [49], \"yaxis\": \"y\"}, {\"alignmentgroup\": \"True\", \"hovertemplate\": \"entity=%{x}<br>month=2002-05<br>count=%{y}<extra></extra>\", \"legendgroup\": \"World Cup\", \"marker\": {\"color\": \"#FECB52\"}, \"name\": \"World Cup\", \"offsetgroup\": \"World Cup\", \"orientation\": \"v\", \"showlegend\": true, \"textposition\": \"auto\", \"type\": \"bar\", \"x\": [\"World Cup\"], \"xaxis\": \"x8\", \"y\": [37], \"yaxis\": \"y8\"}, {\"alignmentgroup\": \"True\", \"hovertemplate\": \"entity=%{x}<br>month=2002-06<br>count=%{y}<extra></extra>\", \"legendgroup\": \"World Cup\", \"marker\": {\"color\": \"#FECB52\"}, \"name\": \"World Cup\", \"offsetgroup\": \"World Cup\", \"orientation\": \"v\", \"showlegend\": false, \"textposition\": \"auto\", \"type\": \"bar\", \"x\": [\"World Cup\"], \"xaxis\": \"x7\", \"y\": [76], \"yaxis\": \"y7\"}, {\"alignmentgroup\": \"True\", \"hovertemplate\": \"entity=%{x}<br>month=2002-07<br>count=%{y}<extra></extra>\", \"legendgroup\": \"World Cup\", \"marker\": {\"color\": \"#FECB52\"}, \"name\": \"World Cup\", \"offsetgroup\": \"World Cup\", \"orientation\": \"v\", \"showlegend\": false, \"textposition\": \"auto\", \"type\": \"bar\", \"x\": [\"World Cup\"], \"xaxis\": \"x6\", \"y\": [33], \"yaxis\": \"y6\"}, {\"alignmentgroup\": \"True\", \"hovertemplate\": \"entity=%{x}<br>month=2006-06<br>count=%{y}<extra></extra>\", \"legendgroup\": \"World Cup\", \"marker\": {\"color\": \"#FECB52\"}, \"name\": \"World Cup\", \"offsetgroup\": \"World Cup\", \"orientation\": \"v\", \"showlegend\": false, \"textposition\": \"auto\", \"type\": \"bar\", \"x\": [\"World Cup\"], \"xaxis\": \"x2\", \"y\": [28], \"yaxis\": \"y2\"}, {\"alignmentgroup\": \"True\", \"hovertemplate\": \"entity=%{x}<br>month=2010-06<br>count=%{y}<extra></extra>\", \"legendgroup\": \"World Cup\", \"marker\": {\"color\": \"#FECB52\"}, \"name\": \"World Cup\", \"offsetgroup\": \"World Cup\", \"orientation\": \"v\", \"showlegend\": false, \"textposition\": \"auto\", \"type\": \"bar\", \"x\": [\"World Cup\"], \"xaxis\": \"x\", \"y\": [80], \"yaxis\": \"y\"}, {\"alignmentgroup\": \"True\", \"hovertemplate\": \"entity=%{x}<br>month=2002-05<br>count=%{y}<extra></extra>\", \"legendgroup\": \"Edinburgh\", \"marker\": {\"color\": \"#636efa\"}, \"name\": \"Edinburgh\", \"offsetgroup\": \"Edinburgh\", \"orientation\": \"v\", \"showlegend\": true, \"textposition\": \"auto\", \"type\": \"bar\", \"x\": [\"Edinburgh\"], \"xaxis\": \"x8\", \"y\": [35], \"yaxis\": \"y8\"}, {\"alignmentgroup\": \"True\", \"hovertemplate\": \"entity=%{x}<br>month=2002-05<br>count=%{y}<extra></extra>\", \"legendgroup\": \"Keane\", \"marker\": {\"color\": \"#EF553B\"}, \"name\": \"Keane\", \"offsetgroup\": \"Keane\", \"orientation\": \"v\", \"showlegend\": true, \"textposition\": \"auto\", \"type\": \"bar\", \"x\": [\"Keane\"], \"xaxis\": \"x8\", \"y\": [34], \"yaxis\": \"y8\"}, {\"alignmentgroup\": \"True\", \"hovertemplate\": \"entity=%{x}<br>month=2002-05<br>count=%{y}<extra></extra>\", \"legendgroup\": \"Nintendo\", \"marker\": {\"color\": \"#00cc96\"}, \"name\": \"Nintendo\", \"offsetgroup\": \"Nintendo\", \"orientation\": \"v\", \"showlegend\": true, \"textposition\": \"auto\", \"type\": \"bar\", \"x\": [\"Nintendo\"], \"xaxis\": \"x8\", \"y\": [33], \"yaxis\": \"y8\"}, {\"alignmentgroup\": \"True\", \"hovertemplate\": \"entity=%{x}<br>month=2002-05<br>count=%{y}<extra></extra>\", \"legendgroup\": \"French\", \"marker\": {\"color\": \"#ab63fa\"}, \"name\": \"French\", \"offsetgroup\": \"French\", \"orientation\": \"v\", \"showlegend\": true, \"textposition\": \"auto\", \"type\": \"bar\", \"x\": [\"French\"], \"xaxis\": \"x8\", \"y\": [32], \"yaxis\": \"y8\"}, {\"alignmentgroup\": \"True\", \"hovertemplate\": \"entity=%{x}<br>month=2002-07<br>count=%{y}<extra></extra>\", \"legendgroup\": \"French\", \"marker\": {\"color\": \"#ab63fa\"}, \"name\": \"French\", \"offsetgroup\": \"French\", \"orientation\": \"v\", \"showlegend\": false, \"textposition\": \"auto\", \"type\": \"bar\", \"x\": [\"French\"], \"xaxis\": \"x6\", \"y\": [31], \"yaxis\": \"y6\"}, {\"alignmentgroup\": \"True\", \"hovertemplate\": \"entity=%{x}<br>month=2003-06<br>count=%{y}<extra></extra>\", \"legendgroup\": \"French\", \"marker\": {\"color\": \"#ab63fa\"}, \"name\": \"French\", \"offsetgroup\": \"French\", \"orientation\": \"v\", \"showlegend\": false, \"textposition\": \"auto\", \"type\": \"bar\", \"x\": [\"French\"], \"xaxis\": \"x5\", \"y\": [47], \"yaxis\": \"y5\"}, {\"alignmentgroup\": \"True\", \"hovertemplate\": \"entity=%{x}<br>month=2004-06<br>count=%{y}<extra></extra>\", \"legendgroup\": \"French\", \"marker\": {\"color\": \"#ab63fa\"}, \"name\": \"French\", \"offsetgroup\": \"French\", \"orientation\": \"v\", \"showlegend\": false, \"textposition\": \"auto\", \"type\": \"bar\", \"x\": [\"French\"], \"xaxis\": \"x3\", \"y\": [48], \"yaxis\": \"y3\"}, {\"alignmentgroup\": \"True\", \"hovertemplate\": \"entity=%{x}<br>month=2002-05<br>count=%{y}<extra></extra>\", \"legendgroup\": \"Liverpool\", \"marker\": {\"color\": \"#FFA15A\"}, \"name\": \"Liverpool\", \"offsetgroup\": \"Liverpool\", \"orientation\": \"v\", \"showlegend\": true, \"textposition\": \"auto\", \"type\": \"bar\", \"x\": [\"Liverpool\"], \"xaxis\": \"x8\", \"y\": [31], \"yaxis\": \"y8\"}, {\"alignmentgroup\": \"True\", \"hovertemplate\": \"entity=%{x}<br>month=2002-05<br>count=%{y}<extra></extra>\", \"legendgroup\": \"Arsenal\", \"marker\": {\"color\": \"#19d3f3\"}, \"name\": \"Arsenal\", \"offsetgroup\": \"Arsenal\", \"orientation\": \"v\", \"showlegend\": true, \"textposition\": \"auto\", \"type\": \"bar\", \"x\": [\"Arsenal\"], \"xaxis\": \"x8\", \"y\": [31], \"yaxis\": \"y8\"}, {\"alignmentgroup\": \"True\", \"hovertemplate\": \"entity=%{x}<br>month=2002-05<br>count=%{y}<extra></extra>\", \"legendgroup\": \"UK\", \"marker\": {\"color\": \"#FF6692\"}, \"name\": \"UK\", \"offsetgroup\": \"UK\", \"orientation\": \"v\", \"showlegend\": true, \"textposition\": \"auto\", \"type\": \"bar\", \"x\": [\"UK\"], \"xaxis\": \"x8\", \"y\": [30], \"yaxis\": \"y8\"}, {\"alignmentgroup\": \"True\", \"hovertemplate\": \"entity=%{x}<br>month=2003-06<br>count=%{y}<extra></extra>\", \"legendgroup\": \"UK\", \"marker\": {\"color\": \"#FF6692\"}, \"name\": \"UK\", \"offsetgroup\": \"UK\", \"orientation\": \"v\", \"showlegend\": false, \"textposition\": \"auto\", \"type\": \"bar\", \"x\": [\"UK\"], \"xaxis\": \"x5\", \"y\": [46], \"yaxis\": \"y5\"}, {\"alignmentgroup\": \"True\", \"hovertemplate\": \"entity=%{x}<br>month=2003-07<br>count=%{y}<extra></extra>\", \"legendgroup\": \"UK\", \"marker\": {\"color\": \"#FF6692\"}, \"name\": \"UK\", \"offsetgroup\": \"UK\", \"orientation\": \"v\", \"showlegend\": false, \"textposition\": \"auto\", \"type\": \"bar\", \"x\": [\"UK\"], \"xaxis\": \"x4\", \"y\": [23], \"yaxis\": \"y4\"}, {\"alignmentgroup\": \"True\", \"hovertemplate\": \"entity=%{x}<br>month=2004-06<br>count=%{y}<extra></extra>\", \"legendgroup\": \"UK\", \"marker\": {\"color\": \"#FF6692\"}, \"name\": \"UK\", \"offsetgroup\": \"UK\", \"orientation\": \"v\", \"showlegend\": false, \"textposition\": \"auto\", \"type\": \"bar\", \"x\": [\"UK\"], \"xaxis\": \"x3\", \"y\": [48], \"yaxis\": \"y3\"}, {\"alignmentgroup\": \"True\", \"hovertemplate\": \"entity=%{x}<br>month=2006-06<br>count=%{y}<extra></extra>\", \"legendgroup\": \"UK\", \"marker\": {\"color\": \"#FF6692\"}, \"name\": \"UK\", \"offsetgroup\": \"UK\", \"orientation\": \"v\", \"showlegend\": false, \"textposition\": \"auto\", \"type\": \"bar\", \"x\": [\"UK\"], \"xaxis\": \"x2\", \"y\": [67], \"yaxis\": \"y2\"}, {\"alignmentgroup\": \"True\", \"hovertemplate\": \"entity=%{x}<br>month=2010-06<br>count=%{y}<extra></extra>\", \"legendgroup\": \"UK\", \"marker\": {\"color\": \"#FF6692\"}, \"name\": \"UK\", \"offsetgroup\": \"UK\", \"orientation\": \"v\", \"showlegend\": false, \"textposition\": \"auto\", \"type\": \"bar\", \"x\": [\"UK\"], \"xaxis\": \"x\", \"y\": [56], \"yaxis\": \"y\"}, {\"alignmentgroup\": \"True\", \"hovertemplate\": \"entity=%{x}<br>month=2002-05<br>count=%{y}<extra></extra>\", \"legendgroup\": \"Britain\", \"marker\": {\"color\": \"#B6E880\"}, \"name\": \"Britain\", \"offsetgroup\": \"Britain\", \"orientation\": \"v\", \"showlegend\": true, \"textposition\": \"auto\", \"type\": \"bar\", \"x\": [\"Britain\"], \"xaxis\": \"x8\", \"y\": [29], \"yaxis\": \"y8\"}, {\"alignmentgroup\": \"True\", \"hovertemplate\": \"entity=%{x}<br>month=2002-07<br>count=%{y}<extra></extra>\", \"legendgroup\": \"Britain\", \"marker\": {\"color\": \"#B6E880\"}, \"name\": \"Britain\", \"offsetgroup\": \"Britain\", \"orientation\": \"v\", \"showlegend\": false, \"textposition\": \"auto\", \"type\": \"bar\", \"x\": [\"Britain\"], \"xaxis\": \"x6\", \"y\": [32], \"yaxis\": \"y6\"}, {\"alignmentgroup\": \"True\", \"hovertemplate\": \"entity=%{x}<br>month=2003-06<br>count=%{y}<extra></extra>\", \"legendgroup\": \"Britain\", \"marker\": {\"color\": \"#B6E880\"}, \"name\": \"Britain\", \"offsetgroup\": \"Britain\", \"orientation\": \"v\", \"showlegend\": false, \"textposition\": \"auto\", \"type\": \"bar\", \"x\": [\"Britain\"], \"xaxis\": \"x5\", \"y\": [45], \"yaxis\": \"y5\"}, {\"alignmentgroup\": \"True\", \"hovertemplate\": \"entity=%{x}<br>month=2003-07<br>count=%{y}<extra></extra>\", \"legendgroup\": \"Britain\", \"marker\": {\"color\": \"#B6E880\"}, \"name\": \"Britain\", \"offsetgroup\": \"Britain\", \"orientation\": \"v\", \"showlegend\": false, \"textposition\": \"auto\", \"type\": \"bar\", \"x\": [\"Britain\"], \"xaxis\": \"x4\", \"y\": [58], \"yaxis\": \"y4\"}, {\"alignmentgroup\": \"True\", \"hovertemplate\": \"entity=%{x}<br>month=2004-06<br>count=%{y}<extra></extra>\", \"legendgroup\": \"Britain\", \"marker\": {\"color\": \"#B6E880\"}, \"name\": \"Britain\", \"offsetgroup\": \"Britain\", \"orientation\": \"v\", \"showlegend\": false, \"textposition\": \"auto\", \"type\": \"bar\", \"x\": [\"Britain\"], \"xaxis\": \"x3\", \"y\": [43], \"yaxis\": \"y3\"}, {\"alignmentgroup\": \"True\", \"hovertemplate\": \"entity=%{x}<br>month=2006-06<br>count=%{y}<extra></extra>\", \"legendgroup\": \"Britain\", \"marker\": {\"color\": \"#B6E880\"}, \"name\": \"Britain\", \"offsetgroup\": \"Britain\", \"orientation\": \"v\", \"showlegend\": false, \"textposition\": \"auto\", \"type\": \"bar\", \"x\": [\"Britain\"], \"xaxis\": \"x2\", \"y\": [67], \"yaxis\": \"y2\"}, {\"alignmentgroup\": \"True\", \"hovertemplate\": \"entity=%{x}<br>month=2010-06<br>count=%{y}<extra></extra>\", \"legendgroup\": \"Britain\", \"marker\": {\"color\": \"#B6E880\"}, \"name\": \"Britain\", \"offsetgroup\": \"Britain\", \"orientation\": \"v\", \"showlegend\": false, \"textposition\": \"auto\", \"type\": \"bar\", \"x\": [\"Britain\"], \"xaxis\": \"x\", \"y\": [52], \"yaxis\": \"y\"}, {\"alignmentgroup\": \"True\", \"hovertemplate\": \"entity=%{x}<br>month=2002-05<br>count=%{y}<extra></extra>\", \"legendgroup\": \"the World Cup\", \"marker\": {\"color\": \"#FF97FF\"}, \"name\": \"the World Cup\", \"offsetgroup\": \"the World Cup\", \"orientation\": \"v\", \"showlegend\": true, \"textposition\": \"auto\", \"type\": \"bar\", \"x\": [\"the World Cup\"], \"xaxis\": \"x8\", \"y\": [28], \"yaxis\": \"y8\"}, {\"alignmentgroup\": \"True\", \"hovertemplate\": \"entity=%{x}<br>month=2002-06<br>count=%{y}<extra></extra>\", \"legendgroup\": \"the World Cup\", \"marker\": {\"color\": \"#FF97FF\"}, \"name\": \"the World Cup\", \"offsetgroup\": \"the World Cup\", \"orientation\": \"v\", \"showlegend\": false, \"textposition\": \"auto\", \"type\": \"bar\", \"x\": [\"the World Cup\"], \"xaxis\": \"x7\", \"y\": [87], \"yaxis\": \"y7\"}, {\"alignmentgroup\": \"True\", \"hovertemplate\": \"entity=%{x}<br>month=2002-07<br>count=%{y}<extra></extra>\", \"legendgroup\": \"the World Cup\", \"marker\": {\"color\": \"#FF97FF\"}, \"name\": \"the World Cup\", \"offsetgroup\": \"the World Cup\", \"orientation\": \"v\", \"showlegend\": false, \"textposition\": \"auto\", \"type\": \"bar\", \"x\": [\"the World Cup\"], \"xaxis\": \"x6\", \"y\": [28], \"yaxis\": \"y6\"}, {\"alignmentgroup\": \"True\", \"hovertemplate\": \"entity=%{x}<br>month=2006-06<br>count=%{y}<extra></extra>\", \"legendgroup\": \"the World Cup\", \"marker\": {\"color\": \"#FF97FF\"}, \"name\": \"the World Cup\", \"offsetgroup\": \"the World Cup\", \"orientation\": \"v\", \"showlegend\": false, \"textposition\": \"auto\", \"type\": \"bar\", \"x\": [\"the World Cup\"], \"xaxis\": \"x2\", \"y\": [28], \"yaxis\": \"y2\"}, {\"alignmentgroup\": \"True\", \"hovertemplate\": \"entity=%{x}<br>month=2010-06<br>count=%{y}<extra></extra>\", \"legendgroup\": \"the World Cup\", \"marker\": {\"color\": \"#FF97FF\"}, \"name\": \"the World Cup\", \"offsetgroup\": \"the World Cup\", \"orientation\": \"v\", \"showlegend\": false, \"textposition\": \"auto\", \"type\": \"bar\", \"x\": [\"the World Cup\"], \"xaxis\": \"x\", \"y\": [77], \"yaxis\": \"y\"}, {\"alignmentgroup\": \"True\", \"hovertemplate\": \"entity=%{x}<br>month=2002-05<br>count=%{y}<extra></extra>\", \"legendgroup\": \"Lords\", \"marker\": {\"color\": \"#FECB52\"}, \"name\": \"Lords\", \"offsetgroup\": \"Lords\", \"orientation\": \"v\", \"showlegend\": true, \"textposition\": \"auto\", \"type\": \"bar\", \"x\": [\"Lords\"], \"xaxis\": \"x8\", \"y\": [28], \"yaxis\": \"y8\"}, {\"alignmentgroup\": \"True\", \"hovertemplate\": \"entity=%{x}<br>month=2002-05<br>count=%{y}<extra></extra>\", \"legendgroup\": \"Roy\", \"marker\": {\"color\": \"#636efa\"}, \"name\": \"Roy\", \"offsetgroup\": \"Roy\", \"orientation\": \"v\", \"showlegend\": true, \"textposition\": \"auto\", \"type\": \"bar\", \"x\": [\"Roy\"], \"xaxis\": \"x8\", \"y\": [28], \"yaxis\": \"y8\"}, {\"alignmentgroup\": \"True\", \"hovertemplate\": \"entity=%{x}<br>month=2002-06<br>count=%{y}<extra></extra>\", \"legendgroup\": \"Brazil\", \"marker\": {\"color\": \"#EF553B\"}, \"name\": \"Brazil\", \"offsetgroup\": \"Brazil\", \"orientation\": \"v\", \"showlegend\": true, \"textposition\": \"auto\", \"type\": \"bar\", \"x\": [\"Brazil\"], \"xaxis\": \"x7\", \"y\": [73], \"yaxis\": \"y7\"}, {\"alignmentgroup\": \"True\", \"hovertemplate\": \"entity=%{x}<br>month=2002-07<br>count=%{y}<extra></extra>\", \"legendgroup\": \"Brazil\", \"marker\": {\"color\": \"#EF553B\"}, \"name\": \"Brazil\", \"offsetgroup\": \"Brazil\", \"orientation\": \"v\", \"showlegend\": false, \"textposition\": \"auto\", \"type\": \"bar\", \"x\": [\"Brazil\"], \"xaxis\": \"x6\", \"y\": [89], \"yaxis\": \"y6\"}, {\"alignmentgroup\": \"True\", \"hovertemplate\": \"entity=%{x}<br>month=2006-06<br>count=%{y}<extra></extra>\", \"legendgroup\": \"Brazil\", \"marker\": {\"color\": \"#EF553B\"}, \"name\": \"Brazil\", \"offsetgroup\": \"Brazil\", \"orientation\": \"v\", \"showlegend\": false, \"textposition\": \"auto\", \"type\": \"bar\", \"x\": [\"Brazil\"], \"xaxis\": \"x2\", \"y\": [24], \"yaxis\": \"y2\"}, {\"alignmentgroup\": \"True\", \"hovertemplate\": \"entity=%{x}<br>month=2010-06<br>count=%{y}<extra></extra>\", \"legendgroup\": \"Brazil\", \"marker\": {\"color\": \"#EF553B\"}, \"name\": \"Brazil\", \"offsetgroup\": \"Brazil\", \"orientation\": \"v\", \"showlegend\": false, \"textposition\": \"auto\", \"type\": \"bar\", \"x\": [\"Brazil\"], \"xaxis\": \"x\", \"y\": [71], \"yaxis\": \"y\"}, {\"alignmentgroup\": \"True\", \"hovertemplate\": \"entity=%{x}<br>month=2002-06<br>count=%{y}<extra></extra>\", \"legendgroup\": \"Argentina\", \"marker\": {\"color\": \"#00cc96\"}, \"name\": \"Argentina\", \"offsetgroup\": \"Argentina\", \"orientation\": \"v\", \"showlegend\": true, \"textposition\": \"auto\", \"type\": \"bar\", \"x\": [\"Argentina\"], \"xaxis\": \"x7\", \"y\": [70], \"yaxis\": \"y7\"}, {\"alignmentgroup\": \"True\", \"hovertemplate\": \"entity=%{x}<br>month=2002-06<br>count=%{y}<extra></extra>\", \"legendgroup\": \"Wimbledon\", \"marker\": {\"color\": \"#ab63fa\"}, \"name\": \"Wimbledon\", \"offsetgroup\": \"Wimbledon\", \"orientation\": \"v\", \"showlegend\": true, \"textposition\": \"auto\", \"type\": \"bar\", \"x\": [\"Wimbledon\"], \"xaxis\": \"x7\", \"y\": [67], \"yaxis\": \"y7\"}, {\"alignmentgroup\": \"True\", \"hovertemplate\": \"entity=%{x}<br>month=2003-06<br>count=%{y}<extra></extra>\", \"legendgroup\": \"Wimbledon\", \"marker\": {\"color\": \"#ab63fa\"}, \"name\": \"Wimbledon\", \"offsetgroup\": \"Wimbledon\", \"orientation\": \"v\", \"showlegend\": false, \"textposition\": \"auto\", \"type\": \"bar\", \"x\": [\"Wimbledon\"], \"xaxis\": \"x5\", \"y\": [54], \"yaxis\": \"y5\"}, {\"alignmentgroup\": \"True\", \"hovertemplate\": \"entity=%{x}<br>month=2006-06<br>count=%{y}<extra></extra>\", \"legendgroup\": \"Wimbledon\", \"marker\": {\"color\": \"#ab63fa\"}, \"name\": \"Wimbledon\", \"offsetgroup\": \"Wimbledon\", \"orientation\": \"v\", \"showlegend\": false, \"textposition\": \"auto\", \"type\": \"bar\", \"x\": [\"Wimbledon\"], \"xaxis\": \"x2\", \"y\": [28], \"yaxis\": \"y2\"}, {\"alignmentgroup\": \"True\", \"hovertemplate\": \"entity=%{x}<br>month=2010-06<br>count=%{y}<extra></extra>\", \"legendgroup\": \"Wimbledon\", \"marker\": {\"color\": \"#ab63fa\"}, \"name\": \"Wimbledon\", \"offsetgroup\": \"Wimbledon\", \"orientation\": \"v\", \"showlegend\": false, \"textposition\": \"auto\", \"type\": \"bar\", \"x\": [\"Wimbledon\"], \"xaxis\": \"x\", \"y\": [35], \"yaxis\": \"y\"}, {\"alignmentgroup\": \"True\", \"hovertemplate\": \"entity=%{x}<br>month=2002-06<br>count=%{y}<extra></extra>\", \"legendgroup\": \"Japan\", \"marker\": {\"color\": \"#FFA15A\"}, \"name\": \"Japan\", \"offsetgroup\": \"Japan\", \"orientation\": \"v\", \"showlegend\": true, \"textposition\": \"auto\", \"type\": \"bar\", \"x\": [\"Japan\"], \"xaxis\": \"x7\", \"y\": [64], \"yaxis\": \"y7\"}, {\"alignmentgroup\": \"True\", \"hovertemplate\": \"entity=%{x}<br>month=2002-07<br>count=%{y}<extra></extra>\", \"legendgroup\": \"Japan\", \"marker\": {\"color\": \"#FFA15A\"}, \"name\": \"Japan\", \"offsetgroup\": \"Japan\", \"orientation\": \"v\", \"showlegend\": false, \"textposition\": \"auto\", \"type\": \"bar\", \"x\": [\"Japan\"], \"xaxis\": \"x6\", \"y\": [33], \"yaxis\": \"y6\"}, {\"alignmentgroup\": \"True\", \"hovertemplate\": \"entity=%{x}<br>month=2002-06<br>count=%{y}<extra></extra>\", \"legendgroup\": \"US\", \"marker\": {\"color\": \"#19d3f3\"}, \"name\": \"US\", \"offsetgroup\": \"US\", \"orientation\": \"v\", \"showlegend\": true, \"textposition\": \"auto\", \"type\": \"bar\", \"x\": [\"US\"], \"xaxis\": \"x7\", \"y\": [57], \"yaxis\": \"y7\"}, {\"alignmentgroup\": \"True\", \"hovertemplate\": \"entity=%{x}<br>month=2002-07<br>count=%{y}<extra></extra>\", \"legendgroup\": \"US\", \"marker\": {\"color\": \"#19d3f3\"}, \"name\": \"US\", \"offsetgroup\": \"US\", \"orientation\": \"v\", \"showlegend\": false, \"textposition\": \"auto\", \"type\": \"bar\", \"x\": [\"US\"], \"xaxis\": \"x6\", \"y\": [175], \"yaxis\": \"y6\"}, {\"alignmentgroup\": \"True\", \"hovertemplate\": \"entity=%{x}<br>month=2003-06<br>count=%{y}<extra></extra>\", \"legendgroup\": \"US\", \"marker\": {\"color\": \"#19d3f3\"}, \"name\": \"US\", \"offsetgroup\": \"US\", \"orientation\": \"v\", \"showlegend\": false, \"textposition\": \"auto\", \"type\": \"bar\", \"x\": [\"US\"], \"xaxis\": \"x5\", \"y\": [72], \"yaxis\": \"y5\"}, {\"alignmentgroup\": \"True\", \"hovertemplate\": \"entity=%{x}<br>month=2003-07<br>count=%{y}<extra></extra>\", \"legendgroup\": \"US\", \"marker\": {\"color\": \"#19d3f3\"}, \"name\": \"US\", \"offsetgroup\": \"US\", \"orientation\": \"v\", \"showlegend\": false, \"textposition\": \"auto\", \"type\": \"bar\", \"x\": [\"US\"], \"xaxis\": \"x4\", \"y\": [86], \"yaxis\": \"y4\"}, {\"alignmentgroup\": \"True\", \"hovertemplate\": \"entity=%{x}<br>month=2004-06<br>count=%{y}<extra></extra>\", \"legendgroup\": \"US\", \"marker\": {\"color\": \"#19d3f3\"}, \"name\": \"US\", \"offsetgroup\": \"US\", \"orientation\": \"v\", \"showlegend\": false, \"textposition\": \"auto\", \"type\": \"bar\", \"x\": [\"US\"], \"xaxis\": \"x3\", \"y\": [104], \"yaxis\": \"y3\"}, {\"alignmentgroup\": \"True\", \"hovertemplate\": \"entity=%{x}<br>month=2006-06<br>count=%{y}<extra></extra>\", \"legendgroup\": \"US\", \"marker\": {\"color\": \"#19d3f3\"}, \"name\": \"US\", \"offsetgroup\": \"US\", \"orientation\": \"v\", \"showlegend\": false, \"textposition\": \"auto\", \"type\": \"bar\", \"x\": [\"US\"], \"xaxis\": \"x2\", \"y\": [61], \"yaxis\": \"y2\"}, {\"alignmentgroup\": \"True\", \"hovertemplate\": \"entity=%{x}<br>month=2010-06<br>count=%{y}<extra></extra>\", \"legendgroup\": \"US\", \"marker\": {\"color\": \"#19d3f3\"}, \"name\": \"US\", \"offsetgroup\": \"US\", \"orientation\": \"v\", \"showlegend\": false, \"textposition\": \"auto\", \"type\": \"bar\", \"x\": [\"US\"], \"xaxis\": \"x\", \"y\": [62], \"yaxis\": \"y\"}, {\"alignmentgroup\": \"True\", \"hovertemplate\": \"entity=%{x}<br>month=2002-06<br>count=%{y}<extra></extra>\", \"legendgroup\": \"Spain\", \"marker\": {\"color\": \"#FF6692\"}, \"name\": \"Spain\", \"offsetgroup\": \"Spain\", \"orientation\": \"v\", \"showlegend\": true, \"textposition\": \"auto\", \"type\": \"bar\", \"x\": [\"Spain\"], \"xaxis\": \"x7\", \"y\": [57], \"yaxis\": \"y7\"}, {\"alignmentgroup\": \"True\", \"hovertemplate\": \"entity=%{x}<br>month=2004-06<br>count=%{y}<extra></extra>\", \"legendgroup\": \"Spain\", \"marker\": {\"color\": \"#FF6692\"}, \"name\": \"Spain\", \"offsetgroup\": \"Spain\", \"orientation\": \"v\", \"showlegend\": false, \"textposition\": \"auto\", \"type\": \"bar\", \"x\": [\"Spain\"], \"xaxis\": \"x3\", \"y\": [70], \"yaxis\": \"y3\"}, {\"alignmentgroup\": \"True\", \"hovertemplate\": \"entity=%{x}<br>month=2010-06<br>count=%{y}<extra></extra>\", \"legendgroup\": \"Spain\", \"marker\": {\"color\": \"#FF6692\"}, \"name\": \"Spain\", \"offsetgroup\": \"Spain\", \"orientation\": \"v\", \"showlegend\": false, \"textposition\": \"auto\", \"type\": \"bar\", \"x\": [\"Spain\"], \"xaxis\": \"x\", \"y\": [31], \"yaxis\": \"y\"}, {\"alignmentgroup\": \"True\", \"hovertemplate\": \"entity=%{x}<br>month=2002-06<br>count=%{y}<extra></extra>\", \"legendgroup\": \"Italy\", \"marker\": {\"color\": \"#B6E880\"}, \"name\": \"Italy\", \"offsetgroup\": \"Italy\", \"orientation\": \"v\", \"showlegend\": true, \"textposition\": \"auto\", \"type\": \"bar\", \"x\": [\"Italy\"], \"xaxis\": \"x7\", \"y\": [55], \"yaxis\": \"y7\"}, {\"alignmentgroup\": \"True\", \"hovertemplate\": \"entity=%{x}<br>month=2002-06<br>count=%{y}<extra></extra>\", \"legendgroup\": \"Japanese\", \"marker\": {\"color\": \"#FF97FF\"}, \"name\": \"Japanese\", \"offsetgroup\": \"Japanese\", \"orientation\": \"v\", \"showlegend\": true, \"textposition\": \"auto\", \"type\": \"bar\", \"x\": [\"Japanese\"], \"xaxis\": \"x7\", \"y\": [53], \"yaxis\": \"y7\"}, {\"alignmentgroup\": \"True\", \"hovertemplate\": \"entity=%{x}<br>month=2002-06<br>count=%{y}<extra></extra>\", \"legendgroup\": \"English\", \"marker\": {\"color\": \"#FECB52\"}, \"name\": \"English\", \"offsetgroup\": \"English\", \"orientation\": \"v\", \"showlegend\": true, \"textposition\": \"auto\", \"type\": \"bar\", \"x\": [\"English\"], \"xaxis\": \"x7\", \"y\": [51], \"yaxis\": \"y7\"}, {\"alignmentgroup\": \"True\", \"hovertemplate\": \"entity=%{x}<br>month=2003-06<br>count=%{y}<extra></extra>\", \"legendgroup\": \"English\", \"marker\": {\"color\": \"#FECB52\"}, \"name\": \"English\", \"offsetgroup\": \"English\", \"orientation\": \"v\", \"showlegend\": false, \"textposition\": \"auto\", \"type\": \"bar\", \"x\": [\"English\"], \"xaxis\": \"x5\", \"y\": [35], \"yaxis\": \"y5\"}, {\"alignmentgroup\": \"True\", \"hovertemplate\": \"entity=%{x}<br>month=2003-07<br>count=%{y}<extra></extra>\", \"legendgroup\": \"English\", \"marker\": {\"color\": \"#FECB52\"}, \"name\": \"English\", \"offsetgroup\": \"English\", \"orientation\": \"v\", \"showlegend\": false, \"textposition\": \"auto\", \"type\": \"bar\", \"x\": [\"English\"], \"xaxis\": \"x4\", \"y\": [39], \"yaxis\": \"y4\"}, {\"alignmentgroup\": \"True\", \"hovertemplate\": \"entity=%{x}<br>month=2004-06<br>count=%{y}<extra></extra>\", \"legendgroup\": \"English\", \"marker\": {\"color\": \"#FECB52\"}, \"name\": \"English\", \"offsetgroup\": \"English\", \"orientation\": \"v\", \"showlegend\": false, \"textposition\": \"auto\", \"type\": \"bar\", \"x\": [\"English\"], \"xaxis\": \"x3\", \"y\": [57], \"yaxis\": \"y3\"}, {\"alignmentgroup\": \"True\", \"hovertemplate\": \"entity=%{x}<br>month=2010-06<br>count=%{y}<extra></extra>\", \"legendgroup\": \"English\", \"marker\": {\"color\": \"#FECB52\"}, \"name\": \"English\", \"offsetgroup\": \"English\", \"orientation\": \"v\", \"showlegend\": false, \"textposition\": \"auto\", \"type\": \"bar\", \"x\": [\"English\"], \"xaxis\": \"x\", \"y\": [38], \"yaxis\": \"y\"}, {\"alignmentgroup\": \"True\", \"hovertemplate\": \"entity=%{x}<br>month=2002-06<br>count=%{y}<extra></extra>\", \"legendgroup\": \"Germany\", \"marker\": {\"color\": \"#636efa\"}, \"name\": \"Germany\", \"offsetgroup\": \"Germany\", \"orientation\": \"v\", \"showlegend\": true, \"textposition\": \"auto\", \"type\": \"bar\", \"x\": [\"Germany\"], \"xaxis\": \"x7\", \"y\": [47], \"yaxis\": \"y7\"}, {\"alignmentgroup\": \"True\", \"hovertemplate\": \"entity=%{x}<br>month=2002-07<br>count=%{y}<extra></extra>\", \"legendgroup\": \"Germany\", \"marker\": {\"color\": \"#636efa\"}, \"name\": \"Germany\", \"offsetgroup\": \"Germany\", \"orientation\": \"v\", \"showlegend\": false, \"textposition\": \"auto\", \"type\": \"bar\", \"x\": [\"Germany\"], \"xaxis\": \"x6\", \"y\": [53], \"yaxis\": \"y6\"}, {\"alignmentgroup\": \"True\", \"hovertemplate\": \"entity=%{x}<br>month=2006-06<br>count=%{y}<extra></extra>\", \"legendgroup\": \"Germany\", \"marker\": {\"color\": \"#636efa\"}, \"name\": \"Germany\", \"offsetgroup\": \"Germany\", \"orientation\": \"v\", \"showlegend\": false, \"textposition\": \"auto\", \"type\": \"bar\", \"x\": [\"Germany\"], \"xaxis\": \"x2\", \"y\": [58], \"yaxis\": \"y2\"}, {\"alignmentgroup\": \"True\", \"hovertemplate\": \"entity=%{x}<br>month=2010-06<br>count=%{y}<extra></extra>\", \"legendgroup\": \"Germany\", \"marker\": {\"color\": \"#636efa\"}, \"name\": \"Germany\", \"offsetgroup\": \"Germany\", \"orientation\": \"v\", \"showlegend\": false, \"textposition\": \"auto\", \"type\": \"bar\", \"x\": [\"Germany\"], \"xaxis\": \"x\", \"y\": [55], \"yaxis\": \"y\"}, {\"alignmentgroup\": \"True\", \"hovertemplate\": \"entity=%{x}<br>month=2002-06<br>count=%{y}<extra></extra>\", \"legendgroup\": \"Senegal\", \"marker\": {\"color\": \"#EF553B\"}, \"name\": \"Senegal\", \"offsetgroup\": \"Senegal\", \"orientation\": \"v\", \"showlegend\": true, \"textposition\": \"auto\", \"type\": \"bar\", \"x\": [\"Senegal\"], \"xaxis\": \"x7\", \"y\": [45], \"yaxis\": \"y7\"}, {\"alignmentgroup\": \"True\", \"hovertemplate\": \"entity=%{x}<br>month=2002-06<br>count=%{y}<extra></extra>\", \"legendgroup\": \"Lewis\", \"marker\": {\"color\": \"#00cc96\"}, \"name\": \"Lewis\", \"offsetgroup\": \"Lewis\", \"orientation\": \"v\", \"showlegend\": true, \"textposition\": \"auto\", \"type\": \"bar\", \"x\": [\"Lewis\"], \"xaxis\": \"x7\", \"y\": [44], \"yaxis\": \"y7\"}, {\"alignmentgroup\": \"True\", \"hovertemplate\": \"entity=%{x}<br>month=2002-06<br>count=%{y}<extra></extra>\", \"legendgroup\": \"Ireland\", \"marker\": {\"color\": \"#ab63fa\"}, \"name\": \"Ireland\", \"offsetgroup\": \"Ireland\", \"orientation\": \"v\", \"showlegend\": true, \"textposition\": \"auto\", \"type\": \"bar\", \"x\": [\"Ireland\"], \"xaxis\": \"x7\", \"y\": [42], \"yaxis\": \"y7\"}, {\"alignmentgroup\": \"True\", \"hovertemplate\": \"entity=%{x}<br>month=2002-06<br>count=%{y}<extra></extra>\", \"legendgroup\": \"Sweden\", \"marker\": {\"color\": \"#FFA15A\"}, \"name\": \"Sweden\", \"offsetgroup\": \"Sweden\", \"orientation\": \"v\", \"showlegend\": true, \"textposition\": \"auto\", \"type\": \"bar\", \"x\": [\"Sweden\"], \"xaxis\": \"x7\", \"y\": [42], \"yaxis\": \"y7\"}, {\"alignmentgroup\": \"True\", \"hovertemplate\": \"entity=%{x}<br>month=2006-06<br>count=%{y}<extra></extra>\", \"legendgroup\": \"Sweden\", \"marker\": {\"color\": \"#FFA15A\"}, \"name\": \"Sweden\", \"offsetgroup\": \"Sweden\", \"orientation\": \"v\", \"showlegend\": false, \"textposition\": \"auto\", \"type\": \"bar\", \"x\": [\"Sweden\"], \"xaxis\": \"x2\", \"y\": [30], \"yaxis\": \"y2\"}, {\"alignmentgroup\": \"True\", \"hovertemplate\": \"entity=%{x}<br>month=2002-06<br>count=%{y}<extra></extra>\", \"legendgroup\": \"Beckham\", \"marker\": {\"color\": \"#19d3f3\"}, \"name\": \"Beckham\", \"offsetgroup\": \"Beckham\", \"orientation\": \"v\", \"showlegend\": true, \"textposition\": \"auto\", \"type\": \"bar\", \"x\": [\"Beckham\"], \"xaxis\": \"x7\", \"y\": [41], \"yaxis\": \"y7\"}, {\"alignmentgroup\": \"True\", \"hovertemplate\": \"entity=%{x}<br>month=2003-06<br>count=%{y}<extra></extra>\", \"legendgroup\": \"Beckham\", \"marker\": {\"color\": \"#19d3f3\"}, \"name\": \"Beckham\", \"offsetgroup\": \"Beckham\", \"orientation\": \"v\", \"showlegend\": false, \"textposition\": \"auto\", \"type\": \"bar\", \"x\": [\"Beckham\"], \"xaxis\": \"x5\", \"y\": [95], \"yaxis\": \"y5\"}, {\"alignmentgroup\": \"True\", \"hovertemplate\": \"entity=%{x}<br>month=2004-06<br>count=%{y}<extra></extra>\", \"legendgroup\": \"Beckham\", \"marker\": {\"color\": \"#19d3f3\"}, \"name\": \"Beckham\", \"offsetgroup\": \"Beckham\", \"orientation\": \"v\", \"showlegend\": false, \"textposition\": \"auto\", \"type\": \"bar\", \"x\": [\"Beckham\"], \"xaxis\": \"x3\", \"y\": [34], \"yaxis\": \"y3\"}, {\"alignmentgroup\": \"True\", \"hovertemplate\": \"entity=%{x}<br>month=2002-07<br>count=%{y}<extra></extra>\", \"legendgroup\": \"Ronaldo\", \"marker\": {\"color\": \"#FF6692\"}, \"name\": \"Ronaldo\", \"offsetgroup\": \"Ronaldo\", \"orientation\": \"v\", \"showlegend\": true, \"textposition\": \"auto\", \"type\": \"bar\", \"x\": [\"Ronaldo\"], \"xaxis\": \"x6\", \"y\": [54], \"yaxis\": \"y6\"}, {\"alignmentgroup\": \"True\", \"hovertemplate\": \"entity=%{x}<br>month=2002-07<br>count=%{y}<extra></extra>\", \"legendgroup\": \"American\", \"marker\": {\"color\": \"#B6E880\"}, \"name\": \"American\", \"offsetgroup\": \"American\", \"orientation\": \"v\", \"showlegend\": true, \"textposition\": \"auto\", \"type\": \"bar\", \"x\": [\"American\"], \"xaxis\": \"x6\", \"y\": [42], \"yaxis\": \"y6\"}, {\"alignmentgroup\": \"True\", \"hovertemplate\": \"entity=%{x}<br>month=2003-06<br>count=%{y}<extra></extra>\", \"legendgroup\": \"American\", \"marker\": {\"color\": \"#B6E880\"}, \"name\": \"American\", \"offsetgroup\": \"American\", \"orientation\": \"v\", \"showlegend\": false, \"textposition\": \"auto\", \"type\": \"bar\", \"x\": [\"American\"], \"xaxis\": \"x5\", \"y\": [31], \"yaxis\": \"y5\"}, {\"alignmentgroup\": \"True\", \"hovertemplate\": \"entity=%{x}<br>month=2003-07<br>count=%{y}<extra></extra>\", \"legendgroup\": \"American\", \"marker\": {\"color\": \"#B6E880\"}, \"name\": \"American\", \"offsetgroup\": \"American\", \"orientation\": \"v\", \"showlegend\": false, \"textposition\": \"auto\", \"type\": \"bar\", \"x\": [\"American\"], \"xaxis\": \"x4\", \"y\": [55], \"yaxis\": \"y4\"}, {\"alignmentgroup\": \"True\", \"hovertemplate\": \"entity=%{x}<br>month=2004-06<br>count=%{y}<extra></extra>\", \"legendgroup\": \"American\", \"marker\": {\"color\": \"#B6E880\"}, \"name\": \"American\", \"offsetgroup\": \"American\", \"orientation\": \"v\", \"showlegend\": false, \"textposition\": \"auto\", \"type\": \"bar\", \"x\": [\"American\"], \"xaxis\": \"x3\", \"y\": [33], \"yaxis\": \"y3\"}, {\"alignmentgroup\": \"True\", \"hovertemplate\": \"entity=%{x}<br>month=2006-06<br>count=%{y}<extra></extra>\", \"legendgroup\": \"American\", \"marker\": {\"color\": \"#B6E880\"}, \"name\": \"American\", \"offsetgroup\": \"American\", \"orientation\": \"v\", \"showlegend\": false, \"textposition\": \"auto\", \"type\": \"bar\", \"x\": [\"American\"], \"xaxis\": \"x2\", \"y\": [25], \"yaxis\": \"y2\"}, {\"alignmentgroup\": \"True\", \"hovertemplate\": \"entity=%{x}<br>month=2002-07<br>count=%{y}<extra></extra>\", \"legendgroup\": \"India\", \"marker\": {\"color\": \"#FF97FF\"}, \"name\": \"India\", \"offsetgroup\": \"India\", \"orientation\": \"v\", \"showlegend\": true, \"textposition\": \"auto\", \"type\": \"bar\", \"x\": [\"India\"], \"xaxis\": \"x6\", \"y\": [40], \"yaxis\": \"y6\"}, {\"alignmentgroup\": \"True\", \"hovertemplate\": \"entity=%{x}<br>month=2002-07<br>count=%{y}<extra></extra>\", \"legendgroup\": \"Australia\", \"marker\": {\"color\": \"#FECB52\"}, \"name\": \"Australia\", \"offsetgroup\": \"Australia\", \"orientation\": \"v\", \"showlegend\": true, \"textposition\": \"auto\", \"type\": \"bar\", \"x\": [\"Australia\"], \"xaxis\": \"x6\", \"y\": [36], \"yaxis\": \"y6\"}, {\"alignmentgroup\": \"True\", \"hovertemplate\": \"entity=%{x}<br>month=2003-07<br>count=%{y}<extra></extra>\", \"legendgroup\": \"Australia\", \"marker\": {\"color\": \"#FECB52\"}, \"name\": \"Australia\", \"offsetgroup\": \"Australia\", \"orientation\": \"v\", \"showlegend\": false, \"textposition\": \"auto\", \"type\": \"bar\", \"x\": [\"Australia\"], \"xaxis\": \"x4\", \"y\": [33], \"yaxis\": \"y4\"}, {\"alignmentgroup\": \"True\", \"hovertemplate\": \"entity=%{x}<br>month=2002-07<br>count=%{y}<extra></extra>\", \"legendgroup\": \"Tour\", \"marker\": {\"color\": \"#636efa\"}, \"name\": \"Tour\", \"offsetgroup\": \"Tour\", \"orientation\": \"v\", \"showlegend\": true, \"textposition\": \"auto\", \"type\": \"bar\", \"x\": [\"Tour\"], \"xaxis\": \"x6\", \"y\": [31], \"yaxis\": \"y6\"}, {\"alignmentgroup\": \"True\", \"hovertemplate\": \"entity=%{x}<br>month=2002-07<br>count=%{y}<extra></extra>\", \"legendgroup\": \"Gates\", \"marker\": {\"color\": \"#EF553B\"}, \"name\": \"Gates\", \"offsetgroup\": \"Gates\", \"orientation\": \"v\", \"showlegend\": true, \"textposition\": \"auto\", \"type\": \"bar\", \"x\": [\"Gates\"], \"xaxis\": \"x6\", \"y\": [29], \"yaxis\": \"y6\"}, {\"alignmentgroup\": \"True\", \"hovertemplate\": \"entity=%{x}<br>month=2002-07<br>count=%{y}<extra></extra>\", \"legendgroup\": \"New Zealand\", \"marker\": {\"color\": \"#00cc96\"}, \"name\": \"New Zealand\", \"offsetgroup\": \"New Zealand\", \"orientation\": \"v\", \"showlegend\": true, \"textposition\": \"auto\", \"type\": \"bar\", \"x\": [\"New Zealand\"], \"xaxis\": \"x6\", \"y\": [28], \"yaxis\": \"y6\"}, {\"alignmentgroup\": \"True\", \"hovertemplate\": \"entity=%{x}<br>month=2002-07<br>count=%{y}<extra></extra>\", \"legendgroup\": \"Ferdinand\", \"marker\": {\"color\": \"#ab63fa\"}, \"name\": \"Ferdinand\", \"offsetgroup\": \"Ferdinand\", \"orientation\": \"v\", \"showlegend\": true, \"textposition\": \"auto\", \"type\": \"bar\", \"x\": [\"Ferdinand\"], \"xaxis\": \"x6\", \"y\": [26], \"yaxis\": \"y6\"}, {\"alignmentgroup\": \"True\", \"hovertemplate\": \"entity=%{x}<br>month=2003-06<br>count=%{y}<extra></extra>\", \"legendgroup\": \"Pakistan\", \"marker\": {\"color\": \"#FFA15A\"}, \"name\": \"Pakistan\", \"offsetgroup\": \"Pakistan\", \"orientation\": \"v\", \"showlegend\": true, \"textposition\": \"auto\", \"type\": \"bar\", \"x\": [\"Pakistan\"], \"xaxis\": \"x5\", \"y\": [65], \"yaxis\": \"y5\"}, {\"alignmentgroup\": \"True\", \"hovertemplate\": \"entity=%{x}<br>month=2003-06<br>count=%{y}<extra></extra>\", \"legendgroup\": \"Times\", \"marker\": {\"color\": \"#19d3f3\"}, \"name\": \"Times\", \"offsetgroup\": \"Times\", \"orientation\": \"v\", \"showlegend\": true, \"textposition\": \"auto\", \"type\": \"bar\", \"x\": [\"Times\"], \"xaxis\": \"x5\", \"y\": [56], \"yaxis\": \"y5\"}, {\"alignmentgroup\": \"True\", \"hovertemplate\": \"entity=%{x}<br>month=2003-06<br>count=%{y}<extra></extra>\", \"legendgroup\": \"United\", \"marker\": {\"color\": \"#FF6692\"}, \"name\": \"United\", \"offsetgroup\": \"United\", \"orientation\": \"v\", \"showlegend\": true, \"textposition\": \"auto\", \"type\": \"bar\", \"x\": [\"United\"], \"xaxis\": \"x5\", \"y\": [44], \"yaxis\": \"y5\"}, {\"alignmentgroup\": \"True\", \"hovertemplate\": \"entity=%{x}<br>month=2003-06<br>count=%{y}<extra></extra>\", \"legendgroup\": \"European\", \"marker\": {\"color\": \"#B6E880\"}, \"name\": \"European\", \"offsetgroup\": \"European\", \"orientation\": \"v\", \"showlegend\": true, \"textposition\": \"auto\", \"type\": \"bar\", \"x\": [\"European\"], \"xaxis\": \"x5\", \"y\": [40], \"yaxis\": \"y5\"}, {\"alignmentgroup\": \"True\", \"hovertemplate\": \"entity=%{x}<br>month=2003-07<br>count=%{y}<extra></extra>\", \"legendgroup\": \"European\", \"marker\": {\"color\": \"#B6E880\"}, \"name\": \"European\", \"offsetgroup\": \"European\", \"orientation\": \"v\", \"showlegend\": false, \"textposition\": \"auto\", \"type\": \"bar\", \"x\": [\"European\"], \"xaxis\": \"x4\", \"y\": [32], \"yaxis\": \"y4\"}, {\"alignmentgroup\": \"True\", \"hovertemplate\": \"entity=%{x}<br>month=2010-06<br>count=%{y}<extra></extra>\", \"legendgroup\": \"European\", \"marker\": {\"color\": \"#B6E880\"}, \"name\": \"European\", \"offsetgroup\": \"European\", \"orientation\": \"v\", \"showlegend\": false, \"textposition\": \"auto\", \"type\": \"bar\", \"x\": [\"European\"], \"xaxis\": \"x\", \"y\": [30], \"yaxis\": \"y\"}, {\"alignmentgroup\": \"True\", \"hovertemplate\": \"entity=%{x}<br>month=2003-06<br>count=%{y}<extra></extra>\", \"legendgroup\": \"Madrid\", \"marker\": {\"color\": \"#FF97FF\"}, \"name\": \"Madrid\", \"offsetgroup\": \"Madrid\", \"orientation\": \"v\", \"showlegend\": true, \"textposition\": \"auto\", \"type\": \"bar\", \"x\": [\"Madrid\"], \"xaxis\": \"x5\", \"y\": [39], \"yaxis\": \"y5\"}, {\"alignmentgroup\": \"True\", \"hovertemplate\": \"entity=%{x}<br>month=2003-06<br>count=%{y}<extra></extra>\", \"legendgroup\": \"EU\", \"marker\": {\"color\": \"#FECB52\"}, \"name\": \"EU\", \"offsetgroup\": \"EU\", \"orientation\": \"v\", \"showlegend\": true, \"textposition\": \"auto\", \"type\": \"bar\", \"x\": [\"EU\"], \"xaxis\": \"x5\", \"y\": [37], \"yaxis\": \"y5\"}, {\"alignmentgroup\": \"True\", \"hovertemplate\": \"entity=%{x}<br>month=2003-06<br>count=%{y}<extra></extra>\", \"legendgroup\": \"Blair\", \"marker\": {\"color\": \"#636efa\"}, \"name\": \"Blair\", \"offsetgroup\": \"Blair\", \"orientation\": \"v\", \"showlegend\": true, \"textposition\": \"auto\", \"type\": \"bar\", \"x\": [\"Blair\"], \"xaxis\": \"x5\", \"y\": [35], \"yaxis\": \"y5\"}, {\"alignmentgroup\": \"True\", \"hovertemplate\": \"entity=%{x}<br>month=2003-07<br>count=%{y}<extra></extra>\", \"legendgroup\": \"Blair\", \"marker\": {\"color\": \"#636efa\"}, \"name\": \"Blair\", \"offsetgroup\": \"Blair\", \"orientation\": \"v\", \"showlegend\": false, \"textposition\": \"auto\", \"type\": \"bar\", \"x\": [\"Blair\"], \"xaxis\": \"x4\", \"y\": [66], \"yaxis\": \"y4\"}, {\"alignmentgroup\": \"True\", \"hovertemplate\": \"entity=%{x}<br>month=2003-06<br>count=%{y}<extra></extra>\", \"legendgroup\": \"Labour\", \"marker\": {\"color\": \"#EF553B\"}, \"name\": \"Labour\", \"offsetgroup\": \"Labour\", \"orientation\": \"v\", \"showlegend\": true, \"textposition\": \"auto\", \"type\": \"bar\", \"x\": [\"Labour\"], \"xaxis\": \"x5\", \"y\": [31], \"yaxis\": \"y5\"}, {\"alignmentgroup\": \"True\", \"hovertemplate\": \"entity=%{x}<br>month=2004-06<br>count=%{y}<extra></extra>\", \"legendgroup\": \"Labour\", \"marker\": {\"color\": \"#EF553B\"}, \"name\": \"Labour\", \"offsetgroup\": \"Labour\", \"orientation\": \"v\", \"showlegend\": false, \"textposition\": \"auto\", \"type\": \"bar\", \"x\": [\"Labour\"], \"xaxis\": \"x3\", \"y\": [58], \"yaxis\": \"y3\"}, {\"alignmentgroup\": \"True\", \"hovertemplate\": \"entity=%{x}<br>month=2006-06<br>count=%{y}<extra></extra>\", \"legendgroup\": \"Labour\", \"marker\": {\"color\": \"#EF553B\"}, \"name\": \"Labour\", \"offsetgroup\": \"Labour\", \"orientation\": \"v\", \"showlegend\": false, \"textposition\": \"auto\", \"type\": \"bar\", \"x\": [\"Labour\"], \"xaxis\": \"x2\", \"y\": [45], \"yaxis\": \"y2\"}, {\"alignmentgroup\": \"True\", \"hovertemplate\": \"entity=%{x}<br>month=2010-06<br>count=%{y}<extra></extra>\", \"legendgroup\": \"Labour\", \"marker\": {\"color\": \"#EF553B\"}, \"name\": \"Labour\", \"offsetgroup\": \"Labour\", \"orientation\": \"v\", \"showlegend\": false, \"textposition\": \"auto\", \"type\": \"bar\", \"x\": [\"Labour\"], \"xaxis\": \"x\", \"y\": [41], \"yaxis\": \"y\"}, {\"alignmentgroup\": \"True\", \"hovertemplate\": \"entity=%{x}<br>month=2003-07<br>count=%{y}<extra></extra>\", \"legendgroup\": \"South Africa\", \"marker\": {\"color\": \"#00cc96\"}, \"name\": \"South Africa\", \"offsetgroup\": \"South Africa\", \"orientation\": \"v\", \"showlegend\": true, \"textposition\": \"auto\", \"type\": \"bar\", \"x\": [\"South Africa\"], \"xaxis\": \"x4\", \"y\": [86], \"yaxis\": \"y4\"}, {\"alignmentgroup\": \"True\", \"hovertemplate\": \"entity=%{x}<br>month=2010-06<br>count=%{y}<extra></extra>\", \"legendgroup\": \"South Africa\", \"marker\": {\"color\": \"#00cc96\"}, \"name\": \"South Africa\", \"offsetgroup\": \"South Africa\", \"orientation\": \"v\", \"showlegend\": false, \"textposition\": \"auto\", \"type\": \"bar\", \"x\": [\"South Africa\"], \"xaxis\": \"x\", \"y\": [81], \"yaxis\": \"y\"}, {\"alignmentgroup\": \"True\", \"hovertemplate\": \"entity=%{x}<br>month=2003-07<br>count=%{y}<extra></extra>\", \"legendgroup\": \"Smith\", \"marker\": {\"color\": \"#ab63fa\"}, \"name\": \"Smith\", \"offsetgroup\": \"Smith\", \"orientation\": \"v\", \"showlegend\": true, \"textposition\": \"auto\", \"type\": \"bar\", \"x\": [\"Smith\"], \"xaxis\": \"x4\", \"y\": [54], \"yaxis\": \"y4\"}, {\"alignmentgroup\": \"True\", \"hovertemplate\": \"entity=%{x}<br>month=2003-07<br>count=%{y}<extra></extra>\", \"legendgroup\": \"Iraq\", \"marker\": {\"color\": \"#FFA15A\"}, \"name\": \"Iraq\", \"offsetgroup\": \"Iraq\", \"orientation\": \"v\", \"showlegend\": true, \"textposition\": \"auto\", \"type\": \"bar\", \"x\": [\"Iraq\"], \"xaxis\": \"x4\", \"y\": [50], \"yaxis\": \"y4\"}, {\"alignmentgroup\": \"True\", \"hovertemplate\": \"entity=%{x}<br>month=2004-06<br>count=%{y}<extra></extra>\", \"legendgroup\": \"Iraq\", \"marker\": {\"color\": \"#FFA15A\"}, \"name\": \"Iraq\", \"offsetgroup\": \"Iraq\", \"orientation\": \"v\", \"showlegend\": false, \"textposition\": \"auto\", \"type\": \"bar\", \"x\": [\"Iraq\"], \"xaxis\": \"x3\", \"y\": [60], \"yaxis\": \"y3\"}, {\"alignmentgroup\": \"True\", \"hovertemplate\": \"entity=%{x}<br>month=2003-07<br>count=%{y}<extra></extra>\", \"legendgroup\": \"Australian\", \"marker\": {\"color\": \"#19d3f3\"}, \"name\": \"Australian\", \"offsetgroup\": \"Australian\", \"orientation\": \"v\", \"showlegend\": true, \"textposition\": \"auto\", \"type\": \"bar\", \"x\": [\"Australian\"], \"xaxis\": \"x4\", \"y\": [32], \"yaxis\": \"y4\"}, {\"alignmentgroup\": \"True\", \"hovertemplate\": \"entity=%{x}<br>month=2003-07<br>count=%{y}<extra></extra>\", \"legendgroup\": \"Williams\", \"marker\": {\"color\": \"#FF6692\"}, \"name\": \"Williams\", \"offsetgroup\": \"Williams\", \"orientation\": \"v\", \"showlegend\": true, \"textposition\": \"auto\", \"type\": \"bar\", \"x\": [\"Williams\"], \"xaxis\": \"x4\", \"y\": [30], \"yaxis\": \"y4\"}, {\"alignmentgroup\": \"True\", \"hovertemplate\": \"entity=%{x}<br>month=2003-07<br>count=%{y}<extra></extra>\", \"legendgroup\": \"ATP\", \"marker\": {\"color\": \"#B6E880\"}, \"name\": \"ATP\", \"offsetgroup\": \"ATP\", \"orientation\": \"v\", \"showlegend\": true, \"textposition\": \"auto\", \"type\": \"bar\", \"x\": [\"ATP\"], \"xaxis\": \"x4\", \"y\": [26], \"yaxis\": \"y4\"}, {\"alignmentgroup\": \"True\", \"hovertemplate\": \"entity=%{x}<br>month=2003-07<br>count=%{y}<extra></extra>\", \"legendgroup\": \"Russian\", \"marker\": {\"color\": \"#FF97FF\"}, \"name\": \"Russian\", \"offsetgroup\": \"Russian\", \"orientation\": \"v\", \"showlegend\": true, \"textposition\": \"auto\", \"type\": \"bar\", \"x\": [\"Russian\"], \"xaxis\": \"x4\", \"y\": [25], \"yaxis\": \"y4\"}, {\"alignmentgroup\": \"True\", \"hovertemplate\": \"entity=%{x}<br>month=2003-07<br>count=%{y}<extra></extra>\", \"legendgroup\": \"Henman\", \"marker\": {\"color\": \"#FECB52\"}, \"name\": \"Henman\", \"offsetgroup\": \"Henman\", \"orientation\": \"v\", \"showlegend\": true, \"textposition\": \"auto\", \"type\": \"bar\", \"x\": [\"Henman\"], \"xaxis\": \"x4\", \"y\": [24], \"yaxis\": \"y4\"}, {\"alignmentgroup\": \"True\", \"hovertemplate\": \"entity=%{x}<br>month=2004-06<br>count=%{y}<extra></extra>\", \"legendgroup\": \"Henman\", \"marker\": {\"color\": \"#FECB52\"}, \"name\": \"Henman\", \"offsetgroup\": \"Henman\", \"orientation\": \"v\", \"showlegend\": false, \"textposition\": \"auto\", \"type\": \"bar\", \"x\": [\"Henman\"], \"xaxis\": \"x3\", \"y\": [62], \"yaxis\": \"y3\"}, {\"alignmentgroup\": \"True\", \"hovertemplate\": \"entity=%{x}<br>month=2003-07<br>count=%{y}<extra></extra>\", \"legendgroup\": \"Woods\", \"marker\": {\"color\": \"#636efa\"}, \"name\": \"Woods\", \"offsetgroup\": \"Woods\", \"orientation\": \"v\", \"showlegend\": true, \"textposition\": \"auto\", \"type\": \"bar\", \"x\": [\"Woods\"], \"xaxis\": \"x4\", \"y\": [23], \"yaxis\": \"y4\"}, {\"alignmentgroup\": \"True\", \"hovertemplate\": \"entity=%{x}<br>month=2004-06<br>count=%{y}<extra></extra>\", \"legendgroup\": \"Portugal\", \"marker\": {\"color\": \"#EF553B\"}, \"name\": \"Portugal\", \"offsetgroup\": \"Portugal\", \"orientation\": \"v\", \"showlegend\": true, \"textposition\": \"auto\", \"type\": \"bar\", \"x\": [\"Portugal\"], \"xaxis\": \"x3\", \"y\": [138], \"yaxis\": \"y3\"}, {\"alignmentgroup\": \"True\", \"hovertemplate\": \"entity=%{x}<br>month=2010-06<br>count=%{y}<extra></extra>\", \"legendgroup\": \"Portugal\", \"marker\": {\"color\": \"#EF553B\"}, \"name\": \"Portugal\", \"offsetgroup\": \"Portugal\", \"orientation\": \"v\", \"showlegend\": false, \"textposition\": \"auto\", \"type\": \"bar\", \"x\": [\"Portugal\"], \"xaxis\": \"x\", \"y\": [40], \"yaxis\": \"y\"}, {\"alignmentgroup\": \"True\", \"hovertemplate\": \"entity=%{x}<br>month=2004-06<br>count=%{y}<extra></extra>\", \"legendgroup\": \"Russia\", \"marker\": {\"color\": \"#00cc96\"}, \"name\": \"Russia\", \"offsetgroup\": \"Russia\", \"orientation\": \"v\", \"showlegend\": true, \"textposition\": \"auto\", \"type\": \"bar\", \"x\": [\"Russia\"], \"xaxis\": \"x3\", \"y\": [52], \"yaxis\": \"y3\"}, {\"alignmentgroup\": \"True\", \"hovertemplate\": \"entity=%{x}<br>month=2004-06<br>count=%{y}<extra></extra>\", \"legendgroup\": \"Greece\", \"marker\": {\"color\": \"#ab63fa\"}, \"name\": \"Greece\", \"offsetgroup\": \"Greece\", \"orientation\": \"v\", \"showlegend\": true, \"textposition\": \"auto\", \"type\": \"bar\", \"x\": [\"Greece\"], \"xaxis\": \"x3\", \"y\": [48], \"yaxis\": \"y3\"}, {\"alignmentgroup\": \"True\", \"hovertemplate\": \"entity=%{x}<br>month=2004-06<br>count=%{y}<extra></extra>\", \"legendgroup\": \"Euro 2004\", \"marker\": {\"color\": \"#FFA15A\"}, \"name\": \"Euro 2004\", \"offsetgroup\": \"Euro 2004\", \"orientation\": \"v\", \"showlegend\": true, \"textposition\": \"auto\", \"type\": \"bar\", \"x\": [\"Euro 2004\"], \"xaxis\": \"x3\", \"y\": [36], \"yaxis\": \"y3\"}, {\"alignmentgroup\": \"True\", \"hovertemplate\": \"entity=%{x}<br>month=2004-06<br>count=%{y}<extra></extra>\", \"legendgroup\": \"Deco\", \"marker\": {\"color\": \"#19d3f3\"}, \"name\": \"Deco\", \"offsetgroup\": \"Deco\", \"orientation\": \"v\", \"showlegend\": true, \"textposition\": \"auto\", \"type\": \"bar\", \"x\": [\"Deco\"], \"xaxis\": \"x3\", \"y\": [30], \"yaxis\": \"y3\"}, {\"alignmentgroup\": \"True\", \"hovertemplate\": \"entity=%{x}<br>month=2006-06<br>count=%{y}<extra></extra>\", \"legendgroup\": \"NHS\", \"marker\": {\"color\": \"#FF6692\"}, \"name\": \"NHS\", \"offsetgroup\": \"NHS\", \"orientation\": \"v\", \"showlegend\": true, \"textposition\": \"auto\", \"type\": \"bar\", \"x\": [\"NHS\"], \"xaxis\": \"x2\", \"y\": [50], \"yaxis\": \"y2\"}, {\"alignmentgroup\": \"True\", \"hovertemplate\": \"entity=%{x}<br>month=2006-06<br>count=%{y}<extra></extra>\", \"legendgroup\": \"Microsoft\", \"marker\": {\"color\": \"#B6E880\"}, \"name\": \"Microsoft\", \"offsetgroup\": \"Microsoft\", \"orientation\": \"v\", \"showlegend\": true, \"textposition\": \"auto\", \"type\": \"bar\", \"x\": [\"Microsoft\"], \"xaxis\": \"x2\", \"y\": [36], \"yaxis\": \"y2\"}, {\"alignmentgroup\": \"True\", \"hovertemplate\": \"entity=%{x}<br>month=2006-06<br>count=%{y}<extra></extra>\", \"legendgroup\": \"Iran\", \"marker\": {\"color\": \"#FF97FF\"}, \"name\": \"Iran\", \"offsetgroup\": \"Iran\", \"orientation\": \"v\", \"showlegend\": true, \"textposition\": \"auto\", \"type\": \"bar\", \"x\": [\"Iran\"], \"xaxis\": \"x2\", \"y\": [27], \"yaxis\": \"y2\"}, {\"alignmentgroup\": \"True\", \"hovertemplate\": \"entity=%{x}<br>month=2006-06<br>count=%{y}<extra></extra>\", \"legendgroup\": \"WinFS\", \"marker\": {\"color\": \"#FECB52\"}, \"name\": \"WinFS\", \"offsetgroup\": \"WinFS\", \"orientation\": \"v\", \"showlegend\": true, \"textposition\": \"auto\", \"type\": \"bar\", \"x\": [\"WinFS\"], \"xaxis\": \"x2\", \"y\": [23], \"yaxis\": \"y2\"}, {\"alignmentgroup\": \"True\", \"hovertemplate\": \"entity=%{x}<br>month=2010-06<br>count=%{y}<extra></extra>\", \"legendgroup\": \"Capello\", \"marker\": {\"color\": \"#636efa\"}, \"name\": \"Capello\", \"offsetgroup\": \"Capello\", \"orientation\": \"v\", \"showlegend\": true, \"textposition\": \"auto\", \"type\": \"bar\", \"x\": [\"Capello\"], \"xaxis\": \"x\", \"y\": [84], \"yaxis\": \"y\"}, {\"alignmentgroup\": \"True\", \"hovertemplate\": \"entity=%{x}<br>month=2010-06<br>count=%{y}<extra></extra>\", \"legendgroup\": \"Murray\", \"marker\": {\"color\": \"#EF553B\"}, \"name\": \"Murray\", \"offsetgroup\": \"Murray\", \"orientation\": \"v\", \"showlegend\": true, \"textposition\": \"auto\", \"type\": \"bar\", \"x\": [\"Murray\"], \"xaxis\": \"x\", \"y\": [44], \"yaxis\": \"y\"}, {\"alignmentgroup\": \"True\", \"hovertemplate\": \"entity=%{x}<br>month=2010-06<br>count=%{y}<extra></extra>\", \"legendgroup\": \"USA\", \"marker\": {\"color\": \"#00cc96\"}, \"name\": \"USA\", \"offsetgroup\": \"USA\", \"orientation\": \"v\", \"showlegend\": true, \"textposition\": \"auto\", \"type\": \"bar\", \"x\": [\"USA\"], \"xaxis\": \"x\", \"y\": [33], \"yaxis\": \"y\"}],                        {\"annotations\": [{\"showarrow\": false, \"text\": \"2010-06\", \"textangle\": 90, \"x\": 0.98, \"xanchor\": \"left\", \"xref\": \"paper\", \"y\": 0.049375, \"yanchor\": \"middle\", \"yref\": \"paper\"}, {\"showarrow\": false, \"text\": \"2006-06\", \"textangle\": 90, \"x\": 0.98, \"xanchor\": \"left\", \"xref\": \"paper\", \"y\": 0.178125, \"yanchor\": \"middle\", \"yref\": \"paper\"}, {\"showarrow\": false, \"text\": \"2004-06\", \"textangle\": 90, \"x\": 0.98, \"xanchor\": \"left\", \"xref\": \"paper\", \"y\": 0.306875, \"yanchor\": \"middle\", \"yref\": \"paper\"}, {\"showarrow\": false, \"text\": \"2003-07\", \"textangle\": 90, \"x\": 0.98, \"xanchor\": \"left\", \"xref\": \"paper\", \"y\": 0.435625, \"yanchor\": \"middle\", \"yref\": \"paper\"}, {\"showarrow\": false, \"text\": \"2003-06\", \"textangle\": 90, \"x\": 0.98, \"xanchor\": \"left\", \"xref\": \"paper\", \"y\": 0.5643750000000001, \"yanchor\": \"middle\", \"yref\": \"paper\"}, {\"showarrow\": false, \"text\": \"2002-07\", \"textangle\": 90, \"x\": 0.98, \"xanchor\": \"left\", \"xref\": \"paper\", \"y\": 0.693125, \"yanchor\": \"middle\", \"yref\": \"paper\"}, {\"showarrow\": false, \"text\": \"2002-06\", \"textangle\": 90, \"x\": 0.98, \"xanchor\": \"left\", \"xref\": \"paper\", \"y\": 0.8218749999999999, \"yanchor\": \"middle\", \"yref\": \"paper\"}, {\"showarrow\": false, \"text\": \"2002-05\", \"textangle\": 90, \"x\": 0.98, \"xanchor\": \"left\", \"xref\": \"paper\", \"y\": 0.950625, \"yanchor\": \"middle\", \"yref\": \"paper\"}, {\"font\": {\"color\": \"black\", \"size\": 14}, \"showarrow\": false, \"text\": \"Counts\", \"textangle\": -90, \"x\": -0.07, \"xref\": \"paper\", \"y\": 0.5, \"yref\": \"paper\"}, {\"font\": {\"color\": \"black\", \"size\": 14}, \"showarrow\": false, \"text\": \"Entities\", \"textangle\": 0, \"x\": 0.5, \"xref\": \"paper\", \"y\": -0.2, \"yref\": \"paper\"}], \"barmode\": \"relative\", \"font\": {\"size\": 8}, \"legend\": {\"title\": {\"text\": \"entity\"}, \"tracegroupgap\": 0}, \"margin\": {\"t\": 60}, \"showlegend\": false, \"template\": {\"data\": {\"bar\": [{\"error_x\": {\"color\": \"#2a3f5f\"}, \"error_y\": {\"color\": \"#2a3f5f\"}, \"marker\": {\"line\": {\"color\": \"#E5ECF6\", \"width\": 0.5}}, \"type\": \"bar\"}], \"barpolar\": [{\"marker\": {\"line\": {\"color\": \"#E5ECF6\", \"width\": 0.5}}, \"type\": \"barpolar\"}], \"carpet\": [{\"aaxis\": {\"endlinecolor\": \"#2a3f5f\", \"gridcolor\": \"white\", \"linecolor\": \"white\", \"minorgridcolor\": \"white\", \"startlinecolor\": \"#2a3f5f\"}, \"baxis\": {\"endlinecolor\": \"#2a3f5f\", \"gridcolor\": \"white\", \"linecolor\": \"white\", \"minorgridcolor\": \"white\", \"startlinecolor\": \"#2a3f5f\"}, \"type\": \"carpet\"}], \"choropleth\": [{\"colorbar\": {\"outlinewidth\": 0, \"ticks\": \"\"}, \"type\": \"choropleth\"}], \"contour\": [{\"colorbar\": {\"outlinewidth\": 0, \"ticks\": \"\"}, \"colorscale\": [[0.0, \"#0d0887\"], [0.1111111111111111, \"#46039f\"], [0.2222222222222222, \"#7201a8\"], [0.3333333333333333, \"#9c179e\"], [0.4444444444444444, \"#bd3786\"], [0.5555555555555556, \"#d8576b\"], [0.6666666666666666, \"#ed7953\"], [0.7777777777777778, \"#fb9f3a\"], [0.8888888888888888, \"#fdca26\"], [1.0, \"#f0f921\"]], \"type\": \"contour\"}], \"contourcarpet\": [{\"colorbar\": {\"outlinewidth\": 0, \"ticks\": \"\"}, \"type\": \"contourcarpet\"}], \"heatmap\": [{\"colorbar\": {\"outlinewidth\": 0, \"ticks\": \"\"}, \"colorscale\": [[0.0, \"#0d0887\"], [0.1111111111111111, \"#46039f\"], [0.2222222222222222, \"#7201a8\"], [0.3333333333333333, \"#9c179e\"], [0.4444444444444444, \"#bd3786\"], [0.5555555555555556, \"#d8576b\"], [0.6666666666666666, \"#ed7953\"], [0.7777777777777778, \"#fb9f3a\"], [0.8888888888888888, \"#fdca26\"], [1.0, \"#f0f921\"]], \"type\": \"heatmap\"}], \"heatmapgl\": [{\"colorbar\": {\"outlinewidth\": 0, \"ticks\": \"\"}, \"colorscale\": [[0.0, \"#0d0887\"], [0.1111111111111111, \"#46039f\"], [0.2222222222222222, \"#7201a8\"], [0.3333333333333333, \"#9c179e\"], [0.4444444444444444, \"#bd3786\"], [0.5555555555555556, \"#d8576b\"], [0.6666666666666666, \"#ed7953\"], [0.7777777777777778, \"#fb9f3a\"], [0.8888888888888888, \"#fdca26\"], [1.0, \"#f0f921\"]], \"type\": \"heatmapgl\"}], \"histogram\": [{\"marker\": {\"colorbar\": {\"outlinewidth\": 0, \"ticks\": \"\"}}, \"type\": \"histogram\"}], \"histogram2d\": [{\"colorbar\": {\"outlinewidth\": 0, \"ticks\": \"\"}, \"colorscale\": [[0.0, \"#0d0887\"], [0.1111111111111111, \"#46039f\"], [0.2222222222222222, \"#7201a8\"], [0.3333333333333333, \"#9c179e\"], [0.4444444444444444, \"#bd3786\"], [0.5555555555555556, \"#d8576b\"], [0.6666666666666666, \"#ed7953\"], [0.7777777777777778, \"#fb9f3a\"], [0.8888888888888888, \"#fdca26\"], [1.0, \"#f0f921\"]], \"type\": \"histogram2d\"}], \"histogram2dcontour\": [{\"colorbar\": {\"outlinewidth\": 0, \"ticks\": \"\"}, \"colorscale\": [[0.0, \"#0d0887\"], [0.1111111111111111, \"#46039f\"], [0.2222222222222222, \"#7201a8\"], [0.3333333333333333, \"#9c179e\"], [0.4444444444444444, \"#bd3786\"], [0.5555555555555556, \"#d8576b\"], [0.6666666666666666, \"#ed7953\"], [0.7777777777777778, \"#fb9f3a\"], [0.8888888888888888, \"#fdca26\"], [1.0, \"#f0f921\"]], \"type\": \"histogram2dcontour\"}], \"mesh3d\": [{\"colorbar\": {\"outlinewidth\": 0, \"ticks\": \"\"}, \"type\": \"mesh3d\"}], \"parcoords\": [{\"line\": {\"colorbar\": {\"outlinewidth\": 0, \"ticks\": \"\"}}, \"type\": \"parcoords\"}], \"pie\": [{\"automargin\": true, \"type\": \"pie\"}], \"scatter\": [{\"marker\": {\"colorbar\": {\"outlinewidth\": 0, \"ticks\": \"\"}}, \"type\": \"scatter\"}], \"scatter3d\": [{\"line\": {\"colorbar\": {\"outlinewidth\": 0, \"ticks\": \"\"}}, \"marker\": {\"colorbar\": {\"outlinewidth\": 0, \"ticks\": \"\"}}, \"type\": \"scatter3d\"}], \"scattercarpet\": [{\"marker\": {\"colorbar\": {\"outlinewidth\": 0, \"ticks\": \"\"}}, \"type\": \"scattercarpet\"}], \"scattergeo\": [{\"marker\": {\"colorbar\": {\"outlinewidth\": 0, \"ticks\": \"\"}}, \"type\": \"scattergeo\"}], \"scattergl\": [{\"marker\": {\"colorbar\": {\"outlinewidth\": 0, \"ticks\": \"\"}}, \"type\": \"scattergl\"}], \"scattermapbox\": [{\"marker\": {\"colorbar\": {\"outlinewidth\": 0, \"ticks\": \"\"}}, \"type\": \"scattermapbox\"}], \"scatterpolar\": [{\"marker\": {\"colorbar\": {\"outlinewidth\": 0, \"ticks\": \"\"}}, \"type\": \"scatterpolar\"}], \"scatterpolargl\": [{\"marker\": {\"colorbar\": {\"outlinewidth\": 0, \"ticks\": \"\"}}, \"type\": \"scatterpolargl\"}], \"scatterternary\": [{\"marker\": {\"colorbar\": {\"outlinewidth\": 0, \"ticks\": \"\"}}, \"type\": \"scatterternary\"}], \"surface\": [{\"colorbar\": {\"outlinewidth\": 0, \"ticks\": \"\"}, \"colorscale\": [[0.0, \"#0d0887\"], [0.1111111111111111, \"#46039f\"], [0.2222222222222222, \"#7201a8\"], [0.3333333333333333, \"#9c179e\"], [0.4444444444444444, \"#bd3786\"], [0.5555555555555556, \"#d8576b\"], [0.6666666666666666, \"#ed7953\"], [0.7777777777777778, \"#fb9f3a\"], [0.8888888888888888, \"#fdca26\"], [1.0, \"#f0f921\"]], \"type\": \"surface\"}], \"table\": [{\"cells\": {\"fill\": {\"color\": \"#EBF0F8\"}, \"line\": {\"color\": \"white\"}}, \"header\": {\"fill\": {\"color\": \"#C8D4E3\"}, \"line\": {\"color\": \"white\"}}, \"type\": \"table\"}]}, \"layout\": {\"annotationdefaults\": {\"arrowcolor\": \"#2a3f5f\", \"arrowhead\": 0, \"arrowwidth\": 1}, \"autotypenumbers\": \"strict\", \"coloraxis\": {\"colorbar\": {\"outlinewidth\": 0, \"ticks\": \"\"}}, \"colorscale\": {\"diverging\": [[0, \"#8e0152\"], [0.1, \"#c51b7d\"], [0.2, \"#de77ae\"], [0.3, \"#f1b6da\"], [0.4, \"#fde0ef\"], [0.5, \"#f7f7f7\"], [0.6, \"#e6f5d0\"], [0.7, \"#b8e186\"], [0.8, \"#7fbc41\"], [0.9, \"#4d9221\"], [1, \"#276419\"]], \"sequential\": [[0.0, \"#0d0887\"], [0.1111111111111111, \"#46039f\"], [0.2222222222222222, \"#7201a8\"], [0.3333333333333333, \"#9c179e\"], [0.4444444444444444, \"#bd3786\"], [0.5555555555555556, \"#d8576b\"], [0.6666666666666666, \"#ed7953\"], [0.7777777777777778, \"#fb9f3a\"], [0.8888888888888888, \"#fdca26\"], [1.0, \"#f0f921\"]], \"sequentialminus\": [[0.0, \"#0d0887\"], [0.1111111111111111, \"#46039f\"], [0.2222222222222222, \"#7201a8\"], [0.3333333333333333, \"#9c179e\"], [0.4444444444444444, \"#bd3786\"], [0.5555555555555556, \"#d8576b\"], [0.6666666666666666, \"#ed7953\"], [0.7777777777777778, \"#fb9f3a\"], [0.8888888888888888, \"#fdca26\"], [1.0, \"#f0f921\"]]}, \"colorway\": [\"#636efa\", \"#EF553B\", \"#00cc96\", \"#ab63fa\", \"#FFA15A\", \"#19d3f3\", \"#FF6692\", \"#B6E880\", \"#FF97FF\", \"#FECB52\"], \"font\": {\"color\": \"#2a3f5f\"}, \"geo\": {\"bgcolor\": \"white\", \"lakecolor\": \"white\", \"landcolor\": \"#E5ECF6\", \"showlakes\": true, \"showland\": true, \"subunitcolor\": \"white\"}, \"hoverlabel\": {\"align\": \"left\"}, \"hovermode\": \"closest\", \"mapbox\": {\"style\": \"light\"}, \"paper_bgcolor\": \"white\", \"plot_bgcolor\": \"#E5ECF6\", \"polar\": {\"angularaxis\": {\"gridcolor\": \"white\", \"linecolor\": \"white\", \"ticks\": \"\"}, \"bgcolor\": \"#E5ECF6\", \"radialaxis\": {\"gridcolor\": \"white\", \"linecolor\": \"white\", \"ticks\": \"\"}}, \"scene\": {\"xaxis\": {\"backgroundcolor\": \"#E5ECF6\", \"gridcolor\": \"white\", \"gridwidth\": 2, \"linecolor\": \"white\", \"showbackground\": true, \"ticks\": \"\", \"zerolinecolor\": \"white\"}, \"yaxis\": {\"backgroundcolor\": \"#E5ECF6\", \"gridcolor\": \"white\", \"gridwidth\": 2, \"linecolor\": \"white\", \"showbackground\": true, \"ticks\": \"\", \"zerolinecolor\": \"white\"}, \"zaxis\": {\"backgroundcolor\": \"#E5ECF6\", \"gridcolor\": \"white\", \"gridwidth\": 2, \"linecolor\": \"white\", \"showbackground\": true, \"ticks\": \"\", \"zerolinecolor\": \"white\"}}, \"shapedefaults\": {\"line\": {\"color\": \"#2a3f5f\"}}, \"ternary\": {\"aaxis\": {\"gridcolor\": \"white\", \"linecolor\": \"white\", \"ticks\": \"\"}, \"baxis\": {\"gridcolor\": \"white\", \"linecolor\": \"white\", \"ticks\": \"\"}, \"bgcolor\": \"#E5ECF6\", \"caxis\": {\"gridcolor\": \"white\", \"linecolor\": \"white\", \"ticks\": \"\"}}, \"title\": {\"x\": 0.05}, \"xaxis\": {\"automargin\": true, \"gridcolor\": \"white\", \"linecolor\": \"white\", \"ticks\": \"\", \"title\": {\"standoff\": 15}, \"zerolinecolor\": \"white\", \"zerolinewidth\": 2}, \"yaxis\": {\"automargin\": true, \"gridcolor\": \"white\", \"linecolor\": \"white\", \"ticks\": \"\", \"title\": {\"standoff\": 15}, \"zerolinecolor\": \"white\", \"zerolinewidth\": 2}}}, \"xaxis\": {\"anchor\": \"y\", \"categoryarray\": [\"England\", \"London\", \"Scotland\", \"France\", \"Cuba\", \"Europe\", \"Eriksson\", \"BBC\", \"British\", \"World Cup\", \"Edinburgh\", \"Keane\", \"Nintendo\", \"French\", \"Liverpool\", \"Arsenal\", \"UK\", \"Britain\", \"the World Cup\", \"Lords\", \"Roy\", \"Brazil\", \"Argentina\", \"Wimbledon\", \"Japan\", \"US\", \"Spain\", \"Italy\", \"Japanese\", \"English\", \"Germany\", \"Senegal\", \"Lewis\", \"Ireland\", \"Sweden\", \"Beckham\", \"Ronaldo\", \"American\", \"India\", \"Australia\", \"Tour\", \"Gates\", \"New Zealand\", \"Ferdinand\", \"Pakistan\", \"Times\", \"United\", \"European\", \"Madrid\", \"EU\", \"Blair\", \"Labour\", \"South Africa\", \"Smith\", \"Iraq\", \"Australian\", \"Williams\", \"ATP\", \"Russian\", \"Henman\", \"Woods\", \"Portugal\", \"Russia\", \"Greece\", \"Euro 2004\", \"Deco\", \"NHS\", \"Microsoft\", \"Iran\", \"WinFS\", \"Capello\", \"Murray\", \"USA\"], \"categoryorder\": \"array\", \"domain\": [0.0, 0.98], \"title\": {\"text\": \"\"}}, \"xaxis2\": {\"anchor\": \"y2\", \"domain\": [0.0, 0.98], \"matches\": \"x\", \"showticklabels\": false, \"title\": {\"text\": \"\"}}, \"xaxis3\": {\"anchor\": \"y3\", \"domain\": [0.0, 0.98], \"matches\": \"x\", \"showticklabels\": false, \"title\": {\"text\": \"\"}}, \"xaxis4\": {\"anchor\": \"y4\", \"domain\": [0.0, 0.98], \"matches\": \"x\", \"showticklabels\": false, \"title\": {\"text\": \"\"}}, \"xaxis5\": {\"anchor\": \"y5\", \"domain\": [0.0, 0.98], \"matches\": \"x\", \"showticklabels\": false, \"title\": {\"text\": \"\"}}, \"xaxis6\": {\"anchor\": \"y6\", \"domain\": [0.0, 0.98], \"matches\": \"x\", \"showticklabels\": false, \"title\": {\"text\": \"\"}}, \"xaxis7\": {\"anchor\": \"y7\", \"domain\": [0.0, 0.98], \"matches\": \"x\", \"showticklabels\": false, \"title\": {\"text\": \"\"}}, \"xaxis8\": {\"anchor\": \"y8\", \"domain\": [0.0, 0.98], \"matches\": \"x\", \"showticklabels\": false, \"title\": {\"text\": \"\"}}, \"yaxis\": {\"anchor\": \"x\", \"domain\": [0.0, 0.09875], \"title\": {\"text\": \"\"}}, \"yaxis2\": {\"anchor\": \"x2\", \"domain\": [0.12875, 0.2275], \"matches\": \"y\", \"title\": {\"text\": \"\"}}, \"yaxis3\": {\"anchor\": \"x3\", \"domain\": [0.2575, 0.35625], \"matches\": \"y\", \"title\": {\"text\": \"\"}}, \"yaxis4\": {\"anchor\": \"x4\", \"domain\": [0.38625, 0.485], \"matches\": \"y\", \"title\": {\"text\": \"\"}}, \"yaxis5\": {\"anchor\": \"x5\", \"domain\": [0.515, 0.61375], \"matches\": \"y\", \"title\": {\"text\": \"\"}}, \"yaxis6\": {\"anchor\": \"x6\", \"domain\": [0.64375, 0.7425], \"matches\": \"y\", \"title\": {\"text\": \"\"}}, \"yaxis7\": {\"anchor\": \"x7\", \"domain\": [0.7725, 0.87125], \"matches\": \"y\", \"title\": {\"text\": \"\"}}, \"yaxis8\": {\"anchor\": \"x8\", \"domain\": [0.90125, 1.0], \"matches\": \"y\", \"title\": {\"text\": \"\"}}},                        {\"responsive\": true}                    ).then(function(){\n",
       "                            \n",
       "var gd = document.getElementById('9271cd3a-28b6-460f-b8e2-89719379f6f3');\n",
       "var x = new MutationObserver(function (mutations, observer) {{\n",
       "        var display = window.getComputedStyle(gd).display;\n",
       "        if (!display || display === 'none') {{\n",
       "            console.log([gd, 'removed!']);\n",
       "            Plotly.purge(gd);\n",
       "            observer.disconnect();\n",
       "        }}\n",
       "}});\n",
       "\n",
       "// Listen for the removal of the full notebook cells\n",
       "var notebookContainer = gd.closest('#notebook-container');\n",
       "if (notebookContainer) {{\n",
       "    x.observe(notebookContainer, {childList: true});\n",
       "}}\n",
       "\n",
       "// Listen for the clearing of the current output cell\n",
       "var outputEl = gd.closest('.output');\n",
       "if (outputEl) {{\n",
       "    x.observe(outputEl, {childList: true});\n",
       "}}\n",
       "\n",
       "                        })                };                });            </script>        </div>"
      ]
     },
     "metadata": {},
     "output_type": "display_data"
    }
   ],
   "source": [
    "import plotly.express as px\n",
    "import plotly.graph_objects as go\n",
    "#Reference: https://stackoverflow.com/questions/63386812/plotly-how-to-hide-axis-titles-in-a-plotly-express-figure-with-facets, 15.1.2021.\n",
    "\n",
    "fig = px.bar(df_plot[df_plot[\"month\"].isin(in_cluster_list)], x=\"entity\", y=\"count\", color=\"entity\",\n",
    "             facet_row=\"month\")\n",
    "fig.for_each_annotation(lambda a: a.update(text=a.text.split(\"=\")[-1]))\n",
    "# hide subplot y-axis titles and x-axis titles\n",
    "for axis in fig.layout:\n",
    "    if type(fig.layout[axis]) == go.layout.YAxis:\n",
    "        fig.layout[axis].title.text = ''\n",
    "    if type(fig.layout[axis]) == go.layout.XAxis:\n",
    "        fig.layout[axis].title.text = ''\n",
    "        \n",
    "# keep all other annotations and add single y-axis and x-axis title:\n",
    "fig.update_layout(\n",
    "    # keep the original annotations and add a list of new annotations:\n",
    "    annotations = list(fig.layout.annotations) + \n",
    "    [go.layout.Annotation(\n",
    "            x=-0.07,\n",
    "            y=0.5,\n",
    "            font=dict(\n",
    "                size=14, color = 'black'\n",
    "            ),\n",
    "            showarrow=False,\n",
    "            text=\"Counts\",\n",
    "            textangle=-90,\n",
    "            xref=\"paper\",\n",
    "            yref=\"paper\"\n",
    "        )\n",
    "    ] +\n",
    "    [go.layout.Annotation(\n",
    "            x=0.5,\n",
    "            y=-0.2,\n",
    "            font=dict(\n",
    "                size=14, color = 'black'\n",
    "            ),\n",
    "            showarrow=False,\n",
    "            text=\"Entities\",\n",
    "            textangle=-0,\n",
    "            xref=\"paper\",\n",
    "            yref=\"paper\"\n",
    "        )\n",
    "    ]\n",
    ")\n",
    "\n",
    "fig.update_layout(\n",
    "    showlegend=False,\n",
    "    font=dict(size=8)\n",
    ")\n",
    "\n",
    "fig.show()"
   ]
  },
  {
   "cell_type": "code",
   "execution_count": null,
   "metadata": {},
   "outputs": [],
   "source": []
  }
 ],
 "metadata": {
  "kernelspec": {
   "display_name": "Python 3",
   "language": "python",
   "name": "python3"
  },
  "language_info": {
   "codemirror_mode": {
    "name": "ipython",
    "version": 3
   },
   "file_extension": ".py",
   "mimetype": "text/x-python",
   "name": "python",
   "nbconvert_exporter": "python",
   "pygments_lexer": "ipython3",
   "version": "3.7.8"
  }
 },
 "nbformat": 4,
 "nbformat_minor": 4
}
