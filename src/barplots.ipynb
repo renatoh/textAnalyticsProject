{
 "cells": [
  {
   "cell_type": "code",
   "execution_count": 1,
   "metadata": {},
   "outputs": [],
   "source": [
    "import pandas as pd\n",
    "import ast\n",
    "import operator"
   ]
  },
  {
   "cell_type": "code",
   "execution_count": 2,
   "metadata": {},
   "outputs": [],
   "source": [
    "df = pd.read_csv(\"../resources/count_vectors_all.csv\")"
   ]
  },
  {
   "cell_type": "code",
   "execution_count": 77,
   "metadata": {},
   "outputs": [],
   "source": [
    "# Refernce: https://www.tutorialspoint.com/How-to-convert-a-string-to-dictionary-in-Python, 15.1.2021.\n",
    "# Reference: https://stackoverflow.com/questions/20577840/python-dictionary-sorting-in-descending-order-based-on-values, 15.1.2021.\n",
    "# Reference: https://www.stechies.com/valueerror-using-scalar-values-must-pass-index/, 15.1.2021.\n",
    "\n",
    "topN = 10 # select the number of top entities\n",
    "df_list = []\n",
    "for i in range(0,df.shape[0]):\n",
    "    df_tmp = ast.literal_eval(df.iloc[i, 1])\n",
    "    df_tmp = sorted(df_tmp.items(), key=operator.itemgetter(1), reverse=True)\n",
    "    df_tmp = dict(df_tmp)\n",
    "    df_tmp = pd.DataFrame(df_tmp, index=[0])\n",
    "    df_tmp = df_tmp.T\n",
    "    df_tmp.columns = ['count']\n",
    "    df_tmp.reset_index(inplace=True)\n",
    "    df_tmp = df_tmp.rename(columns = {'index':'entity'})\n",
    "    df_tmp[\"month\"] = df.iloc[i, 0]\n",
    "    topN_tmp = df_tmp.iloc[:(topN + 1),]\n",
    "    df_list.append(topN_tmp)\n",
    "df_plot = pd.concat(df_list, sort=False)"
   ]
  },
  {
   "cell_type": "code",
   "execution_count": 79,
   "metadata": {},
   "outputs": [],
   "source": [
    "# define a list of clusters (result from clustering step)\n",
    "BrexitCluster = ['2018-07', '2018-11', '2019-03', '2019-06', '2019-07', '2019-08', '2019-09', '2019-10', '2019-11', '2019-12']\n",
    "TonyBlairCluster = ['2001-02', '2001-03', '2001-05', '2004-10', '2005-04', '2005-05', '2005-10', '2006-09', '2006-10', '2007-05', '2007-06', '2007-07']\n",
    "ObamaCluster = ['2008-02', '2008-10', '2008-11', '2008-12', '2009-01', '2009-02']\n",
    "FootballCluster = ['2011-02', '2011-03', '2011-04', '2011-05']"
   ]
  },
  {
   "cell_type": "code",
   "execution_count": 80,
   "metadata": {},
   "outputs": [],
   "source": [
    "in_cluster_list = FootballCluster"
   ]
  },
  {
   "cell_type": "code",
   "execution_count": 81,
   "metadata": {},
   "outputs": [
    {
     "data": {
      "application/vnd.plotly.v1+json": {
       "config": {
        "plotlyServerURL": "https://plot.ly"
       },
       "data": [
        {
         "alignmentgroup": "True",
         "hovertemplate": "entity=%{x}<br>month=2011-02<br>count=%{y}<extra></extra>",
         "legendgroup": "England",
         "marker": {
          "color": "#636efa"
         },
         "name": "England",
         "offsetgroup": "England",
         "orientation": "v",
         "showlegend": true,
         "textposition": "auto",
         "type": "bar",
         "x": [
          "England"
         ],
         "xaxis": "x4",
         "y": [
          115
         ],
         "yaxis": "y4"
        },
        {
         "alignmentgroup": "True",
         "hovertemplate": "entity=%{x}<br>month=2011-03<br>count=%{y}<extra></extra>",
         "legendgroup": "England",
         "marker": {
          "color": "#636efa"
         },
         "name": "England",
         "offsetgroup": "England",
         "orientation": "v",
         "showlegend": false,
         "textposition": "auto",
         "type": "bar",
         "x": [
          "England"
         ],
         "xaxis": "x3",
         "y": [
          116
         ],
         "yaxis": "y3"
        },
        {
         "alignmentgroup": "True",
         "hovertemplate": "entity=%{x}<br>month=2011-04<br>count=%{y}<extra></extra>",
         "legendgroup": "England",
         "marker": {
          "color": "#636efa"
         },
         "name": "England",
         "offsetgroup": "England",
         "orientation": "v",
         "showlegend": false,
         "textposition": "auto",
         "type": "bar",
         "x": [
          "England"
         ],
         "xaxis": "x2",
         "y": [
          49
         ],
         "yaxis": "y2"
        },
        {
         "alignmentgroup": "True",
         "hovertemplate": "entity=%{x}<br>month=2011-05<br>count=%{y}<extra></extra>",
         "legendgroup": "England",
         "marker": {
          "color": "#636efa"
         },
         "name": "England",
         "offsetgroup": "England",
         "orientation": "v",
         "showlegend": false,
         "textposition": "auto",
         "type": "bar",
         "x": [
          "England"
         ],
         "xaxis": "x",
         "y": [
          63
         ],
         "yaxis": "y"
        },
        {
         "alignmentgroup": "True",
         "hovertemplate": "entity=%{x}<br>month=2011-02<br>count=%{y}<extra></extra>",
         "legendgroup": "US",
         "marker": {
          "color": "#EF553B"
         },
         "name": "US",
         "offsetgroup": "US",
         "orientation": "v",
         "showlegend": true,
         "textposition": "auto",
         "type": "bar",
         "x": [
          "US"
         ],
         "xaxis": "x4",
         "y": [
          72
         ],
         "yaxis": "y4"
        },
        {
         "alignmentgroup": "True",
         "hovertemplate": "entity=%{x}<br>month=2011-03<br>count=%{y}<extra></extra>",
         "legendgroup": "US",
         "marker": {
          "color": "#EF553B"
         },
         "name": "US",
         "offsetgroup": "US",
         "orientation": "v",
         "showlegend": false,
         "textposition": "auto",
         "type": "bar",
         "x": [
          "US"
         ],
         "xaxis": "x3",
         "y": [
          53
         ],
         "yaxis": "y3"
        },
        {
         "alignmentgroup": "True",
         "hovertemplate": "entity=%{x}<br>month=2011-04<br>count=%{y}<extra></extra>",
         "legendgroup": "US",
         "marker": {
          "color": "#EF553B"
         },
         "name": "US",
         "offsetgroup": "US",
         "orientation": "v",
         "showlegend": false,
         "textposition": "auto",
         "type": "bar",
         "x": [
          "US"
         ],
         "xaxis": "x2",
         "y": [
          55
         ],
         "yaxis": "y2"
        },
        {
         "alignmentgroup": "True",
         "hovertemplate": "entity=%{x}<br>month=2011-05<br>count=%{y}<extra></extra>",
         "legendgroup": "US",
         "marker": {
          "color": "#EF553B"
         },
         "name": "US",
         "offsetgroup": "US",
         "orientation": "v",
         "showlegend": false,
         "textposition": "auto",
         "type": "bar",
         "x": [
          "US"
         ],
         "xaxis": "x",
         "y": [
          40
         ],
         "yaxis": "y"
        },
        {
         "alignmentgroup": "True",
         "hovertemplate": "entity=%{x}<br>month=2011-02<br>count=%{y}<extra></extra>",
         "legendgroup": "Chelsea",
         "marker": {
          "color": "#00cc96"
         },
         "name": "Chelsea",
         "offsetgroup": "Chelsea",
         "orientation": "v",
         "showlegend": true,
         "textposition": "auto",
         "type": "bar",
         "x": [
          "Chelsea"
         ],
         "xaxis": "x4",
         "y": [
          68
         ],
         "yaxis": "y4"
        },
        {
         "alignmentgroup": "True",
         "hovertemplate": "entity=%{x}<br>month=2011-03<br>count=%{y}<extra></extra>",
         "legendgroup": "Chelsea",
         "marker": {
          "color": "#00cc96"
         },
         "name": "Chelsea",
         "offsetgroup": "Chelsea",
         "orientation": "v",
         "showlegend": false,
         "textposition": "auto",
         "type": "bar",
         "x": [
          "Chelsea"
         ],
         "xaxis": "x3",
         "y": [
          55
         ],
         "yaxis": "y3"
        },
        {
         "alignmentgroup": "True",
         "hovertemplate": "entity=%{x}<br>month=2011-04<br>count=%{y}<extra></extra>",
         "legendgroup": "Chelsea",
         "marker": {
          "color": "#00cc96"
         },
         "name": "Chelsea",
         "offsetgroup": "Chelsea",
         "orientation": "v",
         "showlegend": false,
         "textposition": "auto",
         "type": "bar",
         "x": [
          "Chelsea"
         ],
         "xaxis": "x2",
         "y": [
          65
         ],
         "yaxis": "y2"
        },
        {
         "alignmentgroup": "True",
         "hovertemplate": "entity=%{x}<br>month=2011-02<br>count=%{y}<extra></extra>",
         "legendgroup": "Britain",
         "marker": {
          "color": "#ab63fa"
         },
         "name": "Britain",
         "offsetgroup": "Britain",
         "orientation": "v",
         "showlegend": true,
         "textposition": "auto",
         "type": "bar",
         "x": [
          "Britain"
         ],
         "xaxis": "x4",
         "y": [
          62
         ],
         "yaxis": "y4"
        },
        {
         "alignmentgroup": "True",
         "hovertemplate": "entity=%{x}<br>month=2011-03<br>count=%{y}<extra></extra>",
         "legendgroup": "Britain",
         "marker": {
          "color": "#ab63fa"
         },
         "name": "Britain",
         "offsetgroup": "Britain",
         "orientation": "v",
         "showlegend": false,
         "textposition": "auto",
         "type": "bar",
         "x": [
          "Britain"
         ],
         "xaxis": "x3",
         "y": [
          52
         ],
         "yaxis": "y3"
        },
        {
         "alignmentgroup": "True",
         "hovertemplate": "entity=%{x}<br>month=2011-04<br>count=%{y}<extra></extra>",
         "legendgroup": "Britain",
         "marker": {
          "color": "#ab63fa"
         },
         "name": "Britain",
         "offsetgroup": "Britain",
         "orientation": "v",
         "showlegend": false,
         "textposition": "auto",
         "type": "bar",
         "x": [
          "Britain"
         ],
         "xaxis": "x2",
         "y": [
          47
         ],
         "yaxis": "y2"
        },
        {
         "alignmentgroup": "True",
         "hovertemplate": "entity=%{x}<br>month=2011-05<br>count=%{y}<extra></extra>",
         "legendgroup": "Britain",
         "marker": {
          "color": "#ab63fa"
         },
         "name": "Britain",
         "offsetgroup": "Britain",
         "orientation": "v",
         "showlegend": false,
         "textposition": "auto",
         "type": "bar",
         "x": [
          "Britain"
         ],
         "xaxis": "x",
         "y": [
          47
         ],
         "yaxis": "y"
        },
        {
         "alignmentgroup": "True",
         "hovertemplate": "entity=%{x}<br>month=2011-02<br>count=%{y}<extra></extra>",
         "legendgroup": "British",
         "marker": {
          "color": "#FFA15A"
         },
         "name": "British",
         "offsetgroup": "British",
         "orientation": "v",
         "showlegend": true,
         "textposition": "auto",
         "type": "bar",
         "x": [
          "British"
         ],
         "xaxis": "x4",
         "y": [
          62
         ],
         "yaxis": "y4"
        },
        {
         "alignmentgroup": "True",
         "hovertemplate": "entity=%{x}<br>month=2011-03<br>count=%{y}<extra></extra>",
         "legendgroup": "British",
         "marker": {
          "color": "#FFA15A"
         },
         "name": "British",
         "offsetgroup": "British",
         "orientation": "v",
         "showlegend": false,
         "textposition": "auto",
         "type": "bar",
         "x": [
          "British"
         ],
         "xaxis": "x3",
         "y": [
          57
         ],
         "yaxis": "y3"
        },
        {
         "alignmentgroup": "True",
         "hovertemplate": "entity=%{x}<br>month=2011-04<br>count=%{y}<extra></extra>",
         "legendgroup": "British",
         "marker": {
          "color": "#FFA15A"
         },
         "name": "British",
         "offsetgroup": "British",
         "orientation": "v",
         "showlegend": false,
         "textposition": "auto",
         "type": "bar",
         "x": [
          "British"
         ],
         "xaxis": "x2",
         "y": [
          53
         ],
         "yaxis": "y2"
        },
        {
         "alignmentgroup": "True",
         "hovertemplate": "entity=%{x}<br>month=2011-05<br>count=%{y}<extra></extra>",
         "legendgroup": "British",
         "marker": {
          "color": "#FFA15A"
         },
         "name": "British",
         "offsetgroup": "British",
         "orientation": "v",
         "showlegend": false,
         "textposition": "auto",
         "type": "bar",
         "x": [
          "British"
         ],
         "xaxis": "x",
         "y": [
          47
         ],
         "yaxis": "y"
        },
        {
         "alignmentgroup": "True",
         "hovertemplate": "entity=%{x}<br>month=2011-02<br>count=%{y}<extra></extra>",
         "legendgroup": "UK",
         "marker": {
          "color": "#19d3f3"
         },
         "name": "UK",
         "offsetgroup": "UK",
         "orientation": "v",
         "showlegend": true,
         "textposition": "auto",
         "type": "bar",
         "x": [
          "UK"
         ],
         "xaxis": "x4",
         "y": [
          58
         ],
         "yaxis": "y4"
        },
        {
         "alignmentgroup": "True",
         "hovertemplate": "entity=%{x}<br>month=2011-03<br>count=%{y}<extra></extra>",
         "legendgroup": "UK",
         "marker": {
          "color": "#19d3f3"
         },
         "name": "UK",
         "offsetgroup": "UK",
         "orientation": "v",
         "showlegend": false,
         "textposition": "auto",
         "type": "bar",
         "x": [
          "UK"
         ],
         "xaxis": "x3",
         "y": [
          62
         ],
         "yaxis": "y3"
        },
        {
         "alignmentgroup": "True",
         "hovertemplate": "entity=%{x}<br>month=2011-04<br>count=%{y}<extra></extra>",
         "legendgroup": "UK",
         "marker": {
          "color": "#19d3f3"
         },
         "name": "UK",
         "offsetgroup": "UK",
         "orientation": "v",
         "showlegend": false,
         "textposition": "auto",
         "type": "bar",
         "x": [
          "UK"
         ],
         "xaxis": "x2",
         "y": [
          66
         ],
         "yaxis": "y2"
        },
        {
         "alignmentgroup": "True",
         "hovertemplate": "entity=%{x}<br>month=2011-05<br>count=%{y}<extra></extra>",
         "legendgroup": "UK",
         "marker": {
          "color": "#19d3f3"
         },
         "name": "UK",
         "offsetgroup": "UK",
         "orientation": "v",
         "showlegend": false,
         "textposition": "auto",
         "type": "bar",
         "x": [
          "UK"
         ],
         "xaxis": "x",
         "y": [
          59
         ],
         "yaxis": "y"
        },
        {
         "alignmentgroup": "True",
         "hovertemplate": "entity=%{x}<br>month=2011-02<br>count=%{y}<extra></extra>",
         "legendgroup": "London",
         "marker": {
          "color": "#FF6692"
         },
         "name": "London",
         "offsetgroup": "London",
         "orientation": "v",
         "showlegend": true,
         "textposition": "auto",
         "type": "bar",
         "x": [
          "London"
         ],
         "xaxis": "x4",
         "y": [
          54
         ],
         "yaxis": "y4"
        },
        {
         "alignmentgroup": "True",
         "hovertemplate": "entity=%{x}<br>month=2011-04<br>count=%{y}<extra></extra>",
         "legendgroup": "London",
         "marker": {
          "color": "#FF6692"
         },
         "name": "London",
         "offsetgroup": "London",
         "orientation": "v",
         "showlegend": false,
         "textposition": "auto",
         "type": "bar",
         "x": [
          "London"
         ],
         "xaxis": "x2",
         "y": [
          89
         ],
         "yaxis": "y2"
        },
        {
         "alignmentgroup": "True",
         "hovertemplate": "entity=%{x}<br>month=2011-05<br>count=%{y}<extra></extra>",
         "legendgroup": "London",
         "marker": {
          "color": "#FF6692"
         },
         "name": "London",
         "offsetgroup": "London",
         "orientation": "v",
         "showlegend": false,
         "textposition": "auto",
         "type": "bar",
         "x": [
          "London"
         ],
         "xaxis": "x",
         "y": [
          96
         ],
         "yaxis": "y"
        },
        {
         "alignmentgroup": "True",
         "hovertemplate": "entity=%{x}<br>month=2011-02<br>count=%{y}<extra></extra>",
         "legendgroup": "Arsenal",
         "marker": {
          "color": "#B6E880"
         },
         "name": "Arsenal",
         "offsetgroup": "Arsenal",
         "orientation": "v",
         "showlegend": true,
         "textposition": "auto",
         "type": "bar",
         "x": [
          "Arsenal"
         ],
         "xaxis": "x4",
         "y": [
          52
         ],
         "yaxis": "y4"
        },
        {
         "alignmentgroup": "True",
         "hovertemplate": "entity=%{x}<br>month=2011-04<br>count=%{y}<extra></extra>",
         "legendgroup": "Arsenal",
         "marker": {
          "color": "#B6E880"
         },
         "name": "Arsenal",
         "offsetgroup": "Arsenal",
         "orientation": "v",
         "showlegend": false,
         "textposition": "auto",
         "type": "bar",
         "x": [
          "Arsenal"
         ],
         "xaxis": "x2",
         "y": [
          42
         ],
         "yaxis": "y2"
        },
        {
         "alignmentgroup": "True",
         "hovertemplate": "entity=%{x}<br>month=2011-02<br>count=%{y}<extra></extra>",
         "legendgroup": "Labour",
         "marker": {
          "color": "#FF97FF"
         },
         "name": "Labour",
         "offsetgroup": "Labour",
         "orientation": "v",
         "showlegend": true,
         "textposition": "auto",
         "type": "bar",
         "x": [
          "Labour"
         ],
         "xaxis": "x4",
         "y": [
          45
         ],
         "yaxis": "y4"
        },
        {
         "alignmentgroup": "True",
         "hovertemplate": "entity=%{x}<br>month=2011-05<br>count=%{y}<extra></extra>",
         "legendgroup": "Labour",
         "marker": {
          "color": "#FF97FF"
         },
         "name": "Labour",
         "offsetgroup": "Labour",
         "orientation": "v",
         "showlegend": false,
         "textposition": "auto",
         "type": "bar",
         "x": [
          "Labour"
         ],
         "xaxis": "x",
         "y": [
          46
         ],
         "yaxis": "y"
        },
        {
         "alignmentgroup": "True",
         "hovertemplate": "entity=%{x}<br>month=2011-02<br>count=%{y}<extra></extra>",
         "legendgroup": "Barcelona",
         "marker": {
          "color": "#FECB52"
         },
         "name": "Barcelona",
         "offsetgroup": "Barcelona",
         "orientation": "v",
         "showlegend": true,
         "textposition": "auto",
         "type": "bar",
         "x": [
          "Barcelona"
         ],
         "xaxis": "x4",
         "y": [
          39
         ],
         "yaxis": "y4"
        },
        {
         "alignmentgroup": "True",
         "hovertemplate": "entity=%{x}<br>month=2011-05<br>count=%{y}<extra></extra>",
         "legendgroup": "Barcelona",
         "marker": {
          "color": "#FECB52"
         },
         "name": "Barcelona",
         "offsetgroup": "Barcelona",
         "orientation": "v",
         "showlegend": false,
         "textposition": "auto",
         "type": "bar",
         "x": [
          "Barcelona"
         ],
         "xaxis": "x",
         "y": [
          40
         ],
         "yaxis": "y"
        },
        {
         "alignmentgroup": "True",
         "hovertemplate": "entity=%{x}<br>month=2011-02<br>count=%{y}<extra></extra>",
         "legendgroup": "Liverpool",
         "marker": {
          "color": "#636efa"
         },
         "name": "Liverpool",
         "offsetgroup": "Liverpool",
         "orientation": "v",
         "showlegend": true,
         "textposition": "auto",
         "type": "bar",
         "x": [
          "Liverpool"
         ],
         "xaxis": "x4",
         "y": [
          39
         ],
         "yaxis": "y4"
        },
        {
         "alignmentgroup": "True",
         "hovertemplate": "entity=%{x}<br>month=2011-04<br>count=%{y}<extra></extra>",
         "legendgroup": "Liverpool",
         "marker": {
          "color": "#636efa"
         },
         "name": "Liverpool",
         "offsetgroup": "Liverpool",
         "orientation": "v",
         "showlegend": false,
         "textposition": "auto",
         "type": "bar",
         "x": [
          "Liverpool"
         ],
         "xaxis": "x2",
         "y": [
          56
         ],
         "yaxis": "y2"
        },
        {
         "alignmentgroup": "True",
         "hovertemplate": "entity=%{x}<br>month=2011-03<br>count=%{y}<extra></extra>",
         "legendgroup": "Libya",
         "marker": {
          "color": "#EF553B"
         },
         "name": "Libya",
         "offsetgroup": "Libya",
         "orientation": "v",
         "showlegend": true,
         "textposition": "auto",
         "type": "bar",
         "x": [
          "Libya"
         ],
         "xaxis": "x3",
         "y": [
          63
         ],
         "yaxis": "y3"
        },
        {
         "alignmentgroup": "True",
         "hovertemplate": "entity=%{x}<br>month=2011-03<br>count=%{y}<extra></extra>",
         "legendgroup": "Gaddafi",
         "marker": {
          "color": "#00cc96"
         },
         "name": "Gaddafi",
         "offsetgroup": "Gaddafi",
         "orientation": "v",
         "showlegend": true,
         "textposition": "auto",
         "type": "bar",
         "x": [
          "Gaddafi"
         ],
         "xaxis": "x3",
         "y": [
          58
         ],
         "yaxis": "y3"
        },
        {
         "alignmentgroup": "True",
         "hovertemplate": "entity=%{x}<br>month=2011-03<br>count=%{y}<extra></extra>",
         "legendgroup": "France",
         "marker": {
          "color": "#ab63fa"
         },
         "name": "France",
         "offsetgroup": "France",
         "orientation": "v",
         "showlegend": true,
         "textposition": "auto",
         "type": "bar",
         "x": [
          "France"
         ],
         "xaxis": "x3",
         "y": [
          48
         ],
         "yaxis": "y3"
        },
        {
         "alignmentgroup": "True",
         "hovertemplate": "entity=%{x}<br>month=2011-03<br>count=%{y}<extra></extra>",
         "legendgroup": "United",
         "marker": {
          "color": "#FFA15A"
         },
         "name": "United",
         "offsetgroup": "United",
         "orientation": "v",
         "showlegend": true,
         "textposition": "auto",
         "type": "bar",
         "x": [
          "United"
         ],
         "xaxis": "x3",
         "y": [
          47
         ],
         "yaxis": "y3"
        },
        {
         "alignmentgroup": "True",
         "hovertemplate": "entity=%{x}<br>month=2011-04<br>count=%{y}<extra></extra>",
         "legendgroup": "United",
         "marker": {
          "color": "#FFA15A"
         },
         "name": "United",
         "offsetgroup": "United",
         "orientation": "v",
         "showlegend": false,
         "textposition": "auto",
         "type": "bar",
         "x": [
          "United"
         ],
         "xaxis": "x2",
         "y": [
          40
         ],
         "yaxis": "y2"
        },
        {
         "alignmentgroup": "True",
         "hovertemplate": "entity=%{x}<br>month=2011-03<br>count=%{y}<extra></extra>",
         "legendgroup": "Berlin",
         "marker": {
          "color": "#19d3f3"
         },
         "name": "Berlin",
         "offsetgroup": "Berlin",
         "orientation": "v",
         "showlegend": true,
         "textposition": "auto",
         "type": "bar",
         "x": [
          "Berlin"
         ],
         "xaxis": "x3",
         "y": [
          44
         ],
         "yaxis": "y3"
        },
        {
         "alignmentgroup": "True",
         "hovertemplate": "entity=%{x}<br>month=2011-04<br>count=%{y}<extra></extra>",
         "legendgroup": "Watson",
         "marker": {
          "color": "#FF6692"
         },
         "name": "Watson",
         "offsetgroup": "Watson",
         "orientation": "v",
         "showlegend": true,
         "textposition": "auto",
         "type": "bar",
         "x": [
          "Watson"
         ],
         "xaxis": "x2",
         "y": [
          74
         ],
         "yaxis": "y2"
        },
        {
         "alignmentgroup": "True",
         "hovertemplate": "entity=%{x}<br>month=2011-05<br>count=%{y}<extra></extra>",
         "legendgroup": "Scotland",
         "marker": {
          "color": "#B6E880"
         },
         "name": "Scotland",
         "offsetgroup": "Scotland",
         "orientation": "v",
         "showlegend": true,
         "textposition": "auto",
         "type": "bar",
         "x": [
          "Scotland"
         ],
         "xaxis": "x",
         "y": [
          62
         ],
         "yaxis": "y"
        },
        {
         "alignmentgroup": "True",
         "hovertemplate": "entity=%{x}<br>month=2011-05<br>count=%{y}<extra></extra>",
         "legendgroup": "Métro",
         "marker": {
          "color": "#FF97FF"
         },
         "name": "Métro",
         "offsetgroup": "Métro",
         "orientation": "v",
         "showlegend": true,
         "textposition": "auto",
         "type": "bar",
         "x": [
          "Métro"
         ],
         "xaxis": "x",
         "y": [
          45
         ],
         "yaxis": "y"
        },
        {
         "alignmentgroup": "True",
         "hovertemplate": "entity=%{x}<br>month=2011-05<br>count=%{y}<extra></extra>",
         "legendgroup": "English",
         "marker": {
          "color": "#FECB52"
         },
         "name": "English",
         "offsetgroup": "English",
         "orientation": "v",
         "showlegend": true,
         "textposition": "auto",
         "type": "bar",
         "x": [
          "English"
         ],
         "xaxis": "x",
         "y": [
          41
         ],
         "yaxis": "y"
        }
       ],
       "layout": {
        "annotations": [
         {
          "showarrow": false,
          "text": "2011-05",
          "textangle": 90,
          "x": 0.98,
          "xanchor": "left",
          "xref": "paper",
          "y": 0.11375,
          "yanchor": "middle",
          "yref": "paper"
         },
         {
          "showarrow": false,
          "text": "2011-04",
          "textangle": 90,
          "x": 0.98,
          "xanchor": "left",
          "xref": "paper",
          "y": 0.37124999999999997,
          "yanchor": "middle",
          "yref": "paper"
         },
         {
          "showarrow": false,
          "text": "2011-03",
          "textangle": 90,
          "x": 0.98,
          "xanchor": "left",
          "xref": "paper",
          "y": 0.62875,
          "yanchor": "middle",
          "yref": "paper"
         },
         {
          "showarrow": false,
          "text": "2011-02",
          "textangle": 90,
          "x": 0.98,
          "xanchor": "left",
          "xref": "paper",
          "y": 0.88625,
          "yanchor": "middle",
          "yref": "paper"
         },
         {
          "font": {
           "color": "black",
           "size": 14
          },
          "showarrow": false,
          "text": "Counts",
          "textangle": -90,
          "x": -0.07,
          "xref": "paper",
          "y": 0.5,
          "yref": "paper"
         },
         {
          "font": {
           "color": "black",
           "size": 14
          },
          "showarrow": false,
          "text": "Entities",
          "textangle": 0,
          "x": 0.5,
          "xref": "paper",
          "y": -0.2,
          "yref": "paper"
         }
        ],
        "barmode": "relative",
        "font": {
         "size": 8
        },
        "legend": {
         "title": {
          "text": "entity"
         },
         "tracegroupgap": 0
        },
        "margin": {
         "t": 60
        },
        "showlegend": false,
        "template": {
         "data": {
          "bar": [
           {
            "error_x": {
             "color": "#2a3f5f"
            },
            "error_y": {
             "color": "#2a3f5f"
            },
            "marker": {
             "line": {
              "color": "#E5ECF6",
              "width": 0.5
             }
            },
            "type": "bar"
           }
          ],
          "barpolar": [
           {
            "marker": {
             "line": {
              "color": "#E5ECF6",
              "width": 0.5
             }
            },
            "type": "barpolar"
           }
          ],
          "carpet": [
           {
            "aaxis": {
             "endlinecolor": "#2a3f5f",
             "gridcolor": "white",
             "linecolor": "white",
             "minorgridcolor": "white",
             "startlinecolor": "#2a3f5f"
            },
            "baxis": {
             "endlinecolor": "#2a3f5f",
             "gridcolor": "white",
             "linecolor": "white",
             "minorgridcolor": "white",
             "startlinecolor": "#2a3f5f"
            },
            "type": "carpet"
           }
          ],
          "choropleth": [
           {
            "colorbar": {
             "outlinewidth": 0,
             "ticks": ""
            },
            "type": "choropleth"
           }
          ],
          "contour": [
           {
            "colorbar": {
             "outlinewidth": 0,
             "ticks": ""
            },
            "colorscale": [
             [
              0,
              "#0d0887"
             ],
             [
              0.1111111111111111,
              "#46039f"
             ],
             [
              0.2222222222222222,
              "#7201a8"
             ],
             [
              0.3333333333333333,
              "#9c179e"
             ],
             [
              0.4444444444444444,
              "#bd3786"
             ],
             [
              0.5555555555555556,
              "#d8576b"
             ],
             [
              0.6666666666666666,
              "#ed7953"
             ],
             [
              0.7777777777777778,
              "#fb9f3a"
             ],
             [
              0.8888888888888888,
              "#fdca26"
             ],
             [
              1,
              "#f0f921"
             ]
            ],
            "type": "contour"
           }
          ],
          "contourcarpet": [
           {
            "colorbar": {
             "outlinewidth": 0,
             "ticks": ""
            },
            "type": "contourcarpet"
           }
          ],
          "heatmap": [
           {
            "colorbar": {
             "outlinewidth": 0,
             "ticks": ""
            },
            "colorscale": [
             [
              0,
              "#0d0887"
             ],
             [
              0.1111111111111111,
              "#46039f"
             ],
             [
              0.2222222222222222,
              "#7201a8"
             ],
             [
              0.3333333333333333,
              "#9c179e"
             ],
             [
              0.4444444444444444,
              "#bd3786"
             ],
             [
              0.5555555555555556,
              "#d8576b"
             ],
             [
              0.6666666666666666,
              "#ed7953"
             ],
             [
              0.7777777777777778,
              "#fb9f3a"
             ],
             [
              0.8888888888888888,
              "#fdca26"
             ],
             [
              1,
              "#f0f921"
             ]
            ],
            "type": "heatmap"
           }
          ],
          "heatmapgl": [
           {
            "colorbar": {
             "outlinewidth": 0,
             "ticks": ""
            },
            "colorscale": [
             [
              0,
              "#0d0887"
             ],
             [
              0.1111111111111111,
              "#46039f"
             ],
             [
              0.2222222222222222,
              "#7201a8"
             ],
             [
              0.3333333333333333,
              "#9c179e"
             ],
             [
              0.4444444444444444,
              "#bd3786"
             ],
             [
              0.5555555555555556,
              "#d8576b"
             ],
             [
              0.6666666666666666,
              "#ed7953"
             ],
             [
              0.7777777777777778,
              "#fb9f3a"
             ],
             [
              0.8888888888888888,
              "#fdca26"
             ],
             [
              1,
              "#f0f921"
             ]
            ],
            "type": "heatmapgl"
           }
          ],
          "histogram": [
           {
            "marker": {
             "colorbar": {
              "outlinewidth": 0,
              "ticks": ""
             }
            },
            "type": "histogram"
           }
          ],
          "histogram2d": [
           {
            "colorbar": {
             "outlinewidth": 0,
             "ticks": ""
            },
            "colorscale": [
             [
              0,
              "#0d0887"
             ],
             [
              0.1111111111111111,
              "#46039f"
             ],
             [
              0.2222222222222222,
              "#7201a8"
             ],
             [
              0.3333333333333333,
              "#9c179e"
             ],
             [
              0.4444444444444444,
              "#bd3786"
             ],
             [
              0.5555555555555556,
              "#d8576b"
             ],
             [
              0.6666666666666666,
              "#ed7953"
             ],
             [
              0.7777777777777778,
              "#fb9f3a"
             ],
             [
              0.8888888888888888,
              "#fdca26"
             ],
             [
              1,
              "#f0f921"
             ]
            ],
            "type": "histogram2d"
           }
          ],
          "histogram2dcontour": [
           {
            "colorbar": {
             "outlinewidth": 0,
             "ticks": ""
            },
            "colorscale": [
             [
              0,
              "#0d0887"
             ],
             [
              0.1111111111111111,
              "#46039f"
             ],
             [
              0.2222222222222222,
              "#7201a8"
             ],
             [
              0.3333333333333333,
              "#9c179e"
             ],
             [
              0.4444444444444444,
              "#bd3786"
             ],
             [
              0.5555555555555556,
              "#d8576b"
             ],
             [
              0.6666666666666666,
              "#ed7953"
             ],
             [
              0.7777777777777778,
              "#fb9f3a"
             ],
             [
              0.8888888888888888,
              "#fdca26"
             ],
             [
              1,
              "#f0f921"
             ]
            ],
            "type": "histogram2dcontour"
           }
          ],
          "mesh3d": [
           {
            "colorbar": {
             "outlinewidth": 0,
             "ticks": ""
            },
            "type": "mesh3d"
           }
          ],
          "parcoords": [
           {
            "line": {
             "colorbar": {
              "outlinewidth": 0,
              "ticks": ""
             }
            },
            "type": "parcoords"
           }
          ],
          "pie": [
           {
            "automargin": true,
            "type": "pie"
           }
          ],
          "scatter": [
           {
            "marker": {
             "colorbar": {
              "outlinewidth": 0,
              "ticks": ""
             }
            },
            "type": "scatter"
           }
          ],
          "scatter3d": [
           {
            "line": {
             "colorbar": {
              "outlinewidth": 0,
              "ticks": ""
             }
            },
            "marker": {
             "colorbar": {
              "outlinewidth": 0,
              "ticks": ""
             }
            },
            "type": "scatter3d"
           }
          ],
          "scattercarpet": [
           {
            "marker": {
             "colorbar": {
              "outlinewidth": 0,
              "ticks": ""
             }
            },
            "type": "scattercarpet"
           }
          ],
          "scattergeo": [
           {
            "marker": {
             "colorbar": {
              "outlinewidth": 0,
              "ticks": ""
             }
            },
            "type": "scattergeo"
           }
          ],
          "scattergl": [
           {
            "marker": {
             "colorbar": {
              "outlinewidth": 0,
              "ticks": ""
             }
            },
            "type": "scattergl"
           }
          ],
          "scattermapbox": [
           {
            "marker": {
             "colorbar": {
              "outlinewidth": 0,
              "ticks": ""
             }
            },
            "type": "scattermapbox"
           }
          ],
          "scatterpolar": [
           {
            "marker": {
             "colorbar": {
              "outlinewidth": 0,
              "ticks": ""
             }
            },
            "type": "scatterpolar"
           }
          ],
          "scatterpolargl": [
           {
            "marker": {
             "colorbar": {
              "outlinewidth": 0,
              "ticks": ""
             }
            },
            "type": "scatterpolargl"
           }
          ],
          "scatterternary": [
           {
            "marker": {
             "colorbar": {
              "outlinewidth": 0,
              "ticks": ""
             }
            },
            "type": "scatterternary"
           }
          ],
          "surface": [
           {
            "colorbar": {
             "outlinewidth": 0,
             "ticks": ""
            },
            "colorscale": [
             [
              0,
              "#0d0887"
             ],
             [
              0.1111111111111111,
              "#46039f"
             ],
             [
              0.2222222222222222,
              "#7201a8"
             ],
             [
              0.3333333333333333,
              "#9c179e"
             ],
             [
              0.4444444444444444,
              "#bd3786"
             ],
             [
              0.5555555555555556,
              "#d8576b"
             ],
             [
              0.6666666666666666,
              "#ed7953"
             ],
             [
              0.7777777777777778,
              "#fb9f3a"
             ],
             [
              0.8888888888888888,
              "#fdca26"
             ],
             [
              1,
              "#f0f921"
             ]
            ],
            "type": "surface"
           }
          ],
          "table": [
           {
            "cells": {
             "fill": {
              "color": "#EBF0F8"
             },
             "line": {
              "color": "white"
             }
            },
            "header": {
             "fill": {
              "color": "#C8D4E3"
             },
             "line": {
              "color": "white"
             }
            },
            "type": "table"
           }
          ]
         },
         "layout": {
          "annotationdefaults": {
           "arrowcolor": "#2a3f5f",
           "arrowhead": 0,
           "arrowwidth": 1
          },
          "autotypenumbers": "strict",
          "coloraxis": {
           "colorbar": {
            "outlinewidth": 0,
            "ticks": ""
           }
          },
          "colorscale": {
           "diverging": [
            [
             0,
             "#8e0152"
            ],
            [
             0.1,
             "#c51b7d"
            ],
            [
             0.2,
             "#de77ae"
            ],
            [
             0.3,
             "#f1b6da"
            ],
            [
             0.4,
             "#fde0ef"
            ],
            [
             0.5,
             "#f7f7f7"
            ],
            [
             0.6,
             "#e6f5d0"
            ],
            [
             0.7,
             "#b8e186"
            ],
            [
             0.8,
             "#7fbc41"
            ],
            [
             0.9,
             "#4d9221"
            ],
            [
             1,
             "#276419"
            ]
           ],
           "sequential": [
            [
             0,
             "#0d0887"
            ],
            [
             0.1111111111111111,
             "#46039f"
            ],
            [
             0.2222222222222222,
             "#7201a8"
            ],
            [
             0.3333333333333333,
             "#9c179e"
            ],
            [
             0.4444444444444444,
             "#bd3786"
            ],
            [
             0.5555555555555556,
             "#d8576b"
            ],
            [
             0.6666666666666666,
             "#ed7953"
            ],
            [
             0.7777777777777778,
             "#fb9f3a"
            ],
            [
             0.8888888888888888,
             "#fdca26"
            ],
            [
             1,
             "#f0f921"
            ]
           ],
           "sequentialminus": [
            [
             0,
             "#0d0887"
            ],
            [
             0.1111111111111111,
             "#46039f"
            ],
            [
             0.2222222222222222,
             "#7201a8"
            ],
            [
             0.3333333333333333,
             "#9c179e"
            ],
            [
             0.4444444444444444,
             "#bd3786"
            ],
            [
             0.5555555555555556,
             "#d8576b"
            ],
            [
             0.6666666666666666,
             "#ed7953"
            ],
            [
             0.7777777777777778,
             "#fb9f3a"
            ],
            [
             0.8888888888888888,
             "#fdca26"
            ],
            [
             1,
             "#f0f921"
            ]
           ]
          },
          "colorway": [
           "#636efa",
           "#EF553B",
           "#00cc96",
           "#ab63fa",
           "#FFA15A",
           "#19d3f3",
           "#FF6692",
           "#B6E880",
           "#FF97FF",
           "#FECB52"
          ],
          "font": {
           "color": "#2a3f5f"
          },
          "geo": {
           "bgcolor": "white",
           "lakecolor": "white",
           "landcolor": "#E5ECF6",
           "showlakes": true,
           "showland": true,
           "subunitcolor": "white"
          },
          "hoverlabel": {
           "align": "left"
          },
          "hovermode": "closest",
          "mapbox": {
           "style": "light"
          },
          "paper_bgcolor": "white",
          "plot_bgcolor": "#E5ECF6",
          "polar": {
           "angularaxis": {
            "gridcolor": "white",
            "linecolor": "white",
            "ticks": ""
           },
           "bgcolor": "#E5ECF6",
           "radialaxis": {
            "gridcolor": "white",
            "linecolor": "white",
            "ticks": ""
           }
          },
          "scene": {
           "xaxis": {
            "backgroundcolor": "#E5ECF6",
            "gridcolor": "white",
            "gridwidth": 2,
            "linecolor": "white",
            "showbackground": true,
            "ticks": "",
            "zerolinecolor": "white"
           },
           "yaxis": {
            "backgroundcolor": "#E5ECF6",
            "gridcolor": "white",
            "gridwidth": 2,
            "linecolor": "white",
            "showbackground": true,
            "ticks": "",
            "zerolinecolor": "white"
           },
           "zaxis": {
            "backgroundcolor": "#E5ECF6",
            "gridcolor": "white",
            "gridwidth": 2,
            "linecolor": "white",
            "showbackground": true,
            "ticks": "",
            "zerolinecolor": "white"
           }
          },
          "shapedefaults": {
           "line": {
            "color": "#2a3f5f"
           }
          },
          "ternary": {
           "aaxis": {
            "gridcolor": "white",
            "linecolor": "white",
            "ticks": ""
           },
           "baxis": {
            "gridcolor": "white",
            "linecolor": "white",
            "ticks": ""
           },
           "bgcolor": "#E5ECF6",
           "caxis": {
            "gridcolor": "white",
            "linecolor": "white",
            "ticks": ""
           }
          },
          "title": {
           "x": 0.05
          },
          "xaxis": {
           "automargin": true,
           "gridcolor": "white",
           "linecolor": "white",
           "ticks": "",
           "title": {
            "standoff": 15
           },
           "zerolinecolor": "white",
           "zerolinewidth": 2
          },
          "yaxis": {
           "automargin": true,
           "gridcolor": "white",
           "linecolor": "white",
           "ticks": "",
           "title": {
            "standoff": 15
           },
           "zerolinecolor": "white",
           "zerolinewidth": 2
          }
         }
        },
        "xaxis": {
         "anchor": "y",
         "categoryarray": [
          "England",
          "US",
          "Chelsea",
          "Britain",
          "British",
          "UK",
          "London",
          "Arsenal",
          "Labour",
          "Barcelona",
          "Liverpool",
          "Libya",
          "Gaddafi",
          "France",
          "United",
          "Berlin",
          "Watson",
          "Scotland",
          "Métro",
          "English"
         ],
         "categoryorder": "array",
         "domain": [
          0,
          0.98
         ],
         "title": {
          "text": ""
         }
        },
        "xaxis2": {
         "anchor": "y2",
         "domain": [
          0,
          0.98
         ],
         "matches": "x",
         "showticklabels": false,
         "title": {
          "text": ""
         }
        },
        "xaxis3": {
         "anchor": "y3",
         "domain": [
          0,
          0.98
         ],
         "matches": "x",
         "showticklabels": false,
         "title": {
          "text": ""
         }
        },
        "xaxis4": {
         "anchor": "y4",
         "domain": [
          0,
          0.98
         ],
         "matches": "x",
         "showticklabels": false,
         "title": {
          "text": ""
         }
        },
        "yaxis": {
         "anchor": "x",
         "domain": [
          0,
          0.2275
         ],
         "title": {
          "text": ""
         }
        },
        "yaxis2": {
         "anchor": "x2",
         "domain": [
          0.2575,
          0.485
         ],
         "matches": "y",
         "title": {
          "text": ""
         }
        },
        "yaxis3": {
         "anchor": "x3",
         "domain": [
          0.515,
          0.7425
         ],
         "matches": "y",
         "title": {
          "text": ""
         }
        },
        "yaxis4": {
         "anchor": "x4",
         "domain": [
          0.7725,
          1
         ],
         "matches": "y",
         "title": {
          "text": ""
         }
        }
       }
      },
      "text/html": [
       "<div>                            <div id=\"10988f4b-54dc-4614-9e13-019f3bf40d5e\" class=\"plotly-graph-div\" style=\"height:525px; width:100%;\"></div>            <script type=\"text/javascript\">                require([\"plotly\"], function(Plotly) {                    window.PLOTLYENV=window.PLOTLYENV || {};                                    if (document.getElementById(\"10988f4b-54dc-4614-9e13-019f3bf40d5e\")) {                    Plotly.newPlot(                        \"10988f4b-54dc-4614-9e13-019f3bf40d5e\",                        [{\"alignmentgroup\": \"True\", \"hovertemplate\": \"entity=%{x}<br>month=2011-02<br>count=%{y}<extra></extra>\", \"legendgroup\": \"England\", \"marker\": {\"color\": \"#636efa\"}, \"name\": \"England\", \"offsetgroup\": \"England\", \"orientation\": \"v\", \"showlegend\": true, \"textposition\": \"auto\", \"type\": \"bar\", \"x\": [\"England\"], \"xaxis\": \"x4\", \"y\": [115], \"yaxis\": \"y4\"}, {\"alignmentgroup\": \"True\", \"hovertemplate\": \"entity=%{x}<br>month=2011-03<br>count=%{y}<extra></extra>\", \"legendgroup\": \"England\", \"marker\": {\"color\": \"#636efa\"}, \"name\": \"England\", \"offsetgroup\": \"England\", \"orientation\": \"v\", \"showlegend\": false, \"textposition\": \"auto\", \"type\": \"bar\", \"x\": [\"England\"], \"xaxis\": \"x3\", \"y\": [116], \"yaxis\": \"y3\"}, {\"alignmentgroup\": \"True\", \"hovertemplate\": \"entity=%{x}<br>month=2011-04<br>count=%{y}<extra></extra>\", \"legendgroup\": \"England\", \"marker\": {\"color\": \"#636efa\"}, \"name\": \"England\", \"offsetgroup\": \"England\", \"orientation\": \"v\", \"showlegend\": false, \"textposition\": \"auto\", \"type\": \"bar\", \"x\": [\"England\"], \"xaxis\": \"x2\", \"y\": [49], \"yaxis\": \"y2\"}, {\"alignmentgroup\": \"True\", \"hovertemplate\": \"entity=%{x}<br>month=2011-05<br>count=%{y}<extra></extra>\", \"legendgroup\": \"England\", \"marker\": {\"color\": \"#636efa\"}, \"name\": \"England\", \"offsetgroup\": \"England\", \"orientation\": \"v\", \"showlegend\": false, \"textposition\": \"auto\", \"type\": \"bar\", \"x\": [\"England\"], \"xaxis\": \"x\", \"y\": [63], \"yaxis\": \"y\"}, {\"alignmentgroup\": \"True\", \"hovertemplate\": \"entity=%{x}<br>month=2011-02<br>count=%{y}<extra></extra>\", \"legendgroup\": \"US\", \"marker\": {\"color\": \"#EF553B\"}, \"name\": \"US\", \"offsetgroup\": \"US\", \"orientation\": \"v\", \"showlegend\": true, \"textposition\": \"auto\", \"type\": \"bar\", \"x\": [\"US\"], \"xaxis\": \"x4\", \"y\": [72], \"yaxis\": \"y4\"}, {\"alignmentgroup\": \"True\", \"hovertemplate\": \"entity=%{x}<br>month=2011-03<br>count=%{y}<extra></extra>\", \"legendgroup\": \"US\", \"marker\": {\"color\": \"#EF553B\"}, \"name\": \"US\", \"offsetgroup\": \"US\", \"orientation\": \"v\", \"showlegend\": false, \"textposition\": \"auto\", \"type\": \"bar\", \"x\": [\"US\"], \"xaxis\": \"x3\", \"y\": [53], \"yaxis\": \"y3\"}, {\"alignmentgroup\": \"True\", \"hovertemplate\": \"entity=%{x}<br>month=2011-04<br>count=%{y}<extra></extra>\", \"legendgroup\": \"US\", \"marker\": {\"color\": \"#EF553B\"}, \"name\": \"US\", \"offsetgroup\": \"US\", \"orientation\": \"v\", \"showlegend\": false, \"textposition\": \"auto\", \"type\": \"bar\", \"x\": [\"US\"], \"xaxis\": \"x2\", \"y\": [55], \"yaxis\": \"y2\"}, {\"alignmentgroup\": \"True\", \"hovertemplate\": \"entity=%{x}<br>month=2011-05<br>count=%{y}<extra></extra>\", \"legendgroup\": \"US\", \"marker\": {\"color\": \"#EF553B\"}, \"name\": \"US\", \"offsetgroup\": \"US\", \"orientation\": \"v\", \"showlegend\": false, \"textposition\": \"auto\", \"type\": \"bar\", \"x\": [\"US\"], \"xaxis\": \"x\", \"y\": [40], \"yaxis\": \"y\"}, {\"alignmentgroup\": \"True\", \"hovertemplate\": \"entity=%{x}<br>month=2011-02<br>count=%{y}<extra></extra>\", \"legendgroup\": \"Chelsea\", \"marker\": {\"color\": \"#00cc96\"}, \"name\": \"Chelsea\", \"offsetgroup\": \"Chelsea\", \"orientation\": \"v\", \"showlegend\": true, \"textposition\": \"auto\", \"type\": \"bar\", \"x\": [\"Chelsea\"], \"xaxis\": \"x4\", \"y\": [68], \"yaxis\": \"y4\"}, {\"alignmentgroup\": \"True\", \"hovertemplate\": \"entity=%{x}<br>month=2011-03<br>count=%{y}<extra></extra>\", \"legendgroup\": \"Chelsea\", \"marker\": {\"color\": \"#00cc96\"}, \"name\": \"Chelsea\", \"offsetgroup\": \"Chelsea\", \"orientation\": \"v\", \"showlegend\": false, \"textposition\": \"auto\", \"type\": \"bar\", \"x\": [\"Chelsea\"], \"xaxis\": \"x3\", \"y\": [55], \"yaxis\": \"y3\"}, {\"alignmentgroup\": \"True\", \"hovertemplate\": \"entity=%{x}<br>month=2011-04<br>count=%{y}<extra></extra>\", \"legendgroup\": \"Chelsea\", \"marker\": {\"color\": \"#00cc96\"}, \"name\": \"Chelsea\", \"offsetgroup\": \"Chelsea\", \"orientation\": \"v\", \"showlegend\": false, \"textposition\": \"auto\", \"type\": \"bar\", \"x\": [\"Chelsea\"], \"xaxis\": \"x2\", \"y\": [65], \"yaxis\": \"y2\"}, {\"alignmentgroup\": \"True\", \"hovertemplate\": \"entity=%{x}<br>month=2011-02<br>count=%{y}<extra></extra>\", \"legendgroup\": \"Britain\", \"marker\": {\"color\": \"#ab63fa\"}, \"name\": \"Britain\", \"offsetgroup\": \"Britain\", \"orientation\": \"v\", \"showlegend\": true, \"textposition\": \"auto\", \"type\": \"bar\", \"x\": [\"Britain\"], \"xaxis\": \"x4\", \"y\": [62], \"yaxis\": \"y4\"}, {\"alignmentgroup\": \"True\", \"hovertemplate\": \"entity=%{x}<br>month=2011-03<br>count=%{y}<extra></extra>\", \"legendgroup\": \"Britain\", \"marker\": {\"color\": \"#ab63fa\"}, \"name\": \"Britain\", \"offsetgroup\": \"Britain\", \"orientation\": \"v\", \"showlegend\": false, \"textposition\": \"auto\", \"type\": \"bar\", \"x\": [\"Britain\"], \"xaxis\": \"x3\", \"y\": [52], \"yaxis\": \"y3\"}, {\"alignmentgroup\": \"True\", \"hovertemplate\": \"entity=%{x}<br>month=2011-04<br>count=%{y}<extra></extra>\", \"legendgroup\": \"Britain\", \"marker\": {\"color\": \"#ab63fa\"}, \"name\": \"Britain\", \"offsetgroup\": \"Britain\", \"orientation\": \"v\", \"showlegend\": false, \"textposition\": \"auto\", \"type\": \"bar\", \"x\": [\"Britain\"], \"xaxis\": \"x2\", \"y\": [47], \"yaxis\": \"y2\"}, {\"alignmentgroup\": \"True\", \"hovertemplate\": \"entity=%{x}<br>month=2011-05<br>count=%{y}<extra></extra>\", \"legendgroup\": \"Britain\", \"marker\": {\"color\": \"#ab63fa\"}, \"name\": \"Britain\", \"offsetgroup\": \"Britain\", \"orientation\": \"v\", \"showlegend\": false, \"textposition\": \"auto\", \"type\": \"bar\", \"x\": [\"Britain\"], \"xaxis\": \"x\", \"y\": [47], \"yaxis\": \"y\"}, {\"alignmentgroup\": \"True\", \"hovertemplate\": \"entity=%{x}<br>month=2011-02<br>count=%{y}<extra></extra>\", \"legendgroup\": \"British\", \"marker\": {\"color\": \"#FFA15A\"}, \"name\": \"British\", \"offsetgroup\": \"British\", \"orientation\": \"v\", \"showlegend\": true, \"textposition\": \"auto\", \"type\": \"bar\", \"x\": [\"British\"], \"xaxis\": \"x4\", \"y\": [62], \"yaxis\": \"y4\"}, {\"alignmentgroup\": \"True\", \"hovertemplate\": \"entity=%{x}<br>month=2011-03<br>count=%{y}<extra></extra>\", \"legendgroup\": \"British\", \"marker\": {\"color\": \"#FFA15A\"}, \"name\": \"British\", \"offsetgroup\": \"British\", \"orientation\": \"v\", \"showlegend\": false, \"textposition\": \"auto\", \"type\": \"bar\", \"x\": [\"British\"], \"xaxis\": \"x3\", \"y\": [57], \"yaxis\": \"y3\"}, {\"alignmentgroup\": \"True\", \"hovertemplate\": \"entity=%{x}<br>month=2011-04<br>count=%{y}<extra></extra>\", \"legendgroup\": \"British\", \"marker\": {\"color\": \"#FFA15A\"}, \"name\": \"British\", \"offsetgroup\": \"British\", \"orientation\": \"v\", \"showlegend\": false, \"textposition\": \"auto\", \"type\": \"bar\", \"x\": [\"British\"], \"xaxis\": \"x2\", \"y\": [53], \"yaxis\": \"y2\"}, {\"alignmentgroup\": \"True\", \"hovertemplate\": \"entity=%{x}<br>month=2011-05<br>count=%{y}<extra></extra>\", \"legendgroup\": \"British\", \"marker\": {\"color\": \"#FFA15A\"}, \"name\": \"British\", \"offsetgroup\": \"British\", \"orientation\": \"v\", \"showlegend\": false, \"textposition\": \"auto\", \"type\": \"bar\", \"x\": [\"British\"], \"xaxis\": \"x\", \"y\": [47], \"yaxis\": \"y\"}, {\"alignmentgroup\": \"True\", \"hovertemplate\": \"entity=%{x}<br>month=2011-02<br>count=%{y}<extra></extra>\", \"legendgroup\": \"UK\", \"marker\": {\"color\": \"#19d3f3\"}, \"name\": \"UK\", \"offsetgroup\": \"UK\", \"orientation\": \"v\", \"showlegend\": true, \"textposition\": \"auto\", \"type\": \"bar\", \"x\": [\"UK\"], \"xaxis\": \"x4\", \"y\": [58], \"yaxis\": \"y4\"}, {\"alignmentgroup\": \"True\", \"hovertemplate\": \"entity=%{x}<br>month=2011-03<br>count=%{y}<extra></extra>\", \"legendgroup\": \"UK\", \"marker\": {\"color\": \"#19d3f3\"}, \"name\": \"UK\", \"offsetgroup\": \"UK\", \"orientation\": \"v\", \"showlegend\": false, \"textposition\": \"auto\", \"type\": \"bar\", \"x\": [\"UK\"], \"xaxis\": \"x3\", \"y\": [62], \"yaxis\": \"y3\"}, {\"alignmentgroup\": \"True\", \"hovertemplate\": \"entity=%{x}<br>month=2011-04<br>count=%{y}<extra></extra>\", \"legendgroup\": \"UK\", \"marker\": {\"color\": \"#19d3f3\"}, \"name\": \"UK\", \"offsetgroup\": \"UK\", \"orientation\": \"v\", \"showlegend\": false, \"textposition\": \"auto\", \"type\": \"bar\", \"x\": [\"UK\"], \"xaxis\": \"x2\", \"y\": [66], \"yaxis\": \"y2\"}, {\"alignmentgroup\": \"True\", \"hovertemplate\": \"entity=%{x}<br>month=2011-05<br>count=%{y}<extra></extra>\", \"legendgroup\": \"UK\", \"marker\": {\"color\": \"#19d3f3\"}, \"name\": \"UK\", \"offsetgroup\": \"UK\", \"orientation\": \"v\", \"showlegend\": false, \"textposition\": \"auto\", \"type\": \"bar\", \"x\": [\"UK\"], \"xaxis\": \"x\", \"y\": [59], \"yaxis\": \"y\"}, {\"alignmentgroup\": \"True\", \"hovertemplate\": \"entity=%{x}<br>month=2011-02<br>count=%{y}<extra></extra>\", \"legendgroup\": \"London\", \"marker\": {\"color\": \"#FF6692\"}, \"name\": \"London\", \"offsetgroup\": \"London\", \"orientation\": \"v\", \"showlegend\": true, \"textposition\": \"auto\", \"type\": \"bar\", \"x\": [\"London\"], \"xaxis\": \"x4\", \"y\": [54], \"yaxis\": \"y4\"}, {\"alignmentgroup\": \"True\", \"hovertemplate\": \"entity=%{x}<br>month=2011-04<br>count=%{y}<extra></extra>\", \"legendgroup\": \"London\", \"marker\": {\"color\": \"#FF6692\"}, \"name\": \"London\", \"offsetgroup\": \"London\", \"orientation\": \"v\", \"showlegend\": false, \"textposition\": \"auto\", \"type\": \"bar\", \"x\": [\"London\"], \"xaxis\": \"x2\", \"y\": [89], \"yaxis\": \"y2\"}, {\"alignmentgroup\": \"True\", \"hovertemplate\": \"entity=%{x}<br>month=2011-05<br>count=%{y}<extra></extra>\", \"legendgroup\": \"London\", \"marker\": {\"color\": \"#FF6692\"}, \"name\": \"London\", \"offsetgroup\": \"London\", \"orientation\": \"v\", \"showlegend\": false, \"textposition\": \"auto\", \"type\": \"bar\", \"x\": [\"London\"], \"xaxis\": \"x\", \"y\": [96], \"yaxis\": \"y\"}, {\"alignmentgroup\": \"True\", \"hovertemplate\": \"entity=%{x}<br>month=2011-02<br>count=%{y}<extra></extra>\", \"legendgroup\": \"Arsenal\", \"marker\": {\"color\": \"#B6E880\"}, \"name\": \"Arsenal\", \"offsetgroup\": \"Arsenal\", \"orientation\": \"v\", \"showlegend\": true, \"textposition\": \"auto\", \"type\": \"bar\", \"x\": [\"Arsenal\"], \"xaxis\": \"x4\", \"y\": [52], \"yaxis\": \"y4\"}, {\"alignmentgroup\": \"True\", \"hovertemplate\": \"entity=%{x}<br>month=2011-04<br>count=%{y}<extra></extra>\", \"legendgroup\": \"Arsenal\", \"marker\": {\"color\": \"#B6E880\"}, \"name\": \"Arsenal\", \"offsetgroup\": \"Arsenal\", \"orientation\": \"v\", \"showlegend\": false, \"textposition\": \"auto\", \"type\": \"bar\", \"x\": [\"Arsenal\"], \"xaxis\": \"x2\", \"y\": [42], \"yaxis\": \"y2\"}, {\"alignmentgroup\": \"True\", \"hovertemplate\": \"entity=%{x}<br>month=2011-02<br>count=%{y}<extra></extra>\", \"legendgroup\": \"Labour\", \"marker\": {\"color\": \"#FF97FF\"}, \"name\": \"Labour\", \"offsetgroup\": \"Labour\", \"orientation\": \"v\", \"showlegend\": true, \"textposition\": \"auto\", \"type\": \"bar\", \"x\": [\"Labour\"], \"xaxis\": \"x4\", \"y\": [45], \"yaxis\": \"y4\"}, {\"alignmentgroup\": \"True\", \"hovertemplate\": \"entity=%{x}<br>month=2011-05<br>count=%{y}<extra></extra>\", \"legendgroup\": \"Labour\", \"marker\": {\"color\": \"#FF97FF\"}, \"name\": \"Labour\", \"offsetgroup\": \"Labour\", \"orientation\": \"v\", \"showlegend\": false, \"textposition\": \"auto\", \"type\": \"bar\", \"x\": [\"Labour\"], \"xaxis\": \"x\", \"y\": [46], \"yaxis\": \"y\"}, {\"alignmentgroup\": \"True\", \"hovertemplate\": \"entity=%{x}<br>month=2011-02<br>count=%{y}<extra></extra>\", \"legendgroup\": \"Barcelona\", \"marker\": {\"color\": \"#FECB52\"}, \"name\": \"Barcelona\", \"offsetgroup\": \"Barcelona\", \"orientation\": \"v\", \"showlegend\": true, \"textposition\": \"auto\", \"type\": \"bar\", \"x\": [\"Barcelona\"], \"xaxis\": \"x4\", \"y\": [39], \"yaxis\": \"y4\"}, {\"alignmentgroup\": \"True\", \"hovertemplate\": \"entity=%{x}<br>month=2011-05<br>count=%{y}<extra></extra>\", \"legendgroup\": \"Barcelona\", \"marker\": {\"color\": \"#FECB52\"}, \"name\": \"Barcelona\", \"offsetgroup\": \"Barcelona\", \"orientation\": \"v\", \"showlegend\": false, \"textposition\": \"auto\", \"type\": \"bar\", \"x\": [\"Barcelona\"], \"xaxis\": \"x\", \"y\": [40], \"yaxis\": \"y\"}, {\"alignmentgroup\": \"True\", \"hovertemplate\": \"entity=%{x}<br>month=2011-02<br>count=%{y}<extra></extra>\", \"legendgroup\": \"Liverpool\", \"marker\": {\"color\": \"#636efa\"}, \"name\": \"Liverpool\", \"offsetgroup\": \"Liverpool\", \"orientation\": \"v\", \"showlegend\": true, \"textposition\": \"auto\", \"type\": \"bar\", \"x\": [\"Liverpool\"], \"xaxis\": \"x4\", \"y\": [39], \"yaxis\": \"y4\"}, {\"alignmentgroup\": \"True\", \"hovertemplate\": \"entity=%{x}<br>month=2011-04<br>count=%{y}<extra></extra>\", \"legendgroup\": \"Liverpool\", \"marker\": {\"color\": \"#636efa\"}, \"name\": \"Liverpool\", \"offsetgroup\": \"Liverpool\", \"orientation\": \"v\", \"showlegend\": false, \"textposition\": \"auto\", \"type\": \"bar\", \"x\": [\"Liverpool\"], \"xaxis\": \"x2\", \"y\": [56], \"yaxis\": \"y2\"}, {\"alignmentgroup\": \"True\", \"hovertemplate\": \"entity=%{x}<br>month=2011-03<br>count=%{y}<extra></extra>\", \"legendgroup\": \"Libya\", \"marker\": {\"color\": \"#EF553B\"}, \"name\": \"Libya\", \"offsetgroup\": \"Libya\", \"orientation\": \"v\", \"showlegend\": true, \"textposition\": \"auto\", \"type\": \"bar\", \"x\": [\"Libya\"], \"xaxis\": \"x3\", \"y\": [63], \"yaxis\": \"y3\"}, {\"alignmentgroup\": \"True\", \"hovertemplate\": \"entity=%{x}<br>month=2011-03<br>count=%{y}<extra></extra>\", \"legendgroup\": \"Gaddafi\", \"marker\": {\"color\": \"#00cc96\"}, \"name\": \"Gaddafi\", \"offsetgroup\": \"Gaddafi\", \"orientation\": \"v\", \"showlegend\": true, \"textposition\": \"auto\", \"type\": \"bar\", \"x\": [\"Gaddafi\"], \"xaxis\": \"x3\", \"y\": [58], \"yaxis\": \"y3\"}, {\"alignmentgroup\": \"True\", \"hovertemplate\": \"entity=%{x}<br>month=2011-03<br>count=%{y}<extra></extra>\", \"legendgroup\": \"France\", \"marker\": {\"color\": \"#ab63fa\"}, \"name\": \"France\", \"offsetgroup\": \"France\", \"orientation\": \"v\", \"showlegend\": true, \"textposition\": \"auto\", \"type\": \"bar\", \"x\": [\"France\"], \"xaxis\": \"x3\", \"y\": [48], \"yaxis\": \"y3\"}, {\"alignmentgroup\": \"True\", \"hovertemplate\": \"entity=%{x}<br>month=2011-03<br>count=%{y}<extra></extra>\", \"legendgroup\": \"United\", \"marker\": {\"color\": \"#FFA15A\"}, \"name\": \"United\", \"offsetgroup\": \"United\", \"orientation\": \"v\", \"showlegend\": true, \"textposition\": \"auto\", \"type\": \"bar\", \"x\": [\"United\"], \"xaxis\": \"x3\", \"y\": [47], \"yaxis\": \"y3\"}, {\"alignmentgroup\": \"True\", \"hovertemplate\": \"entity=%{x}<br>month=2011-04<br>count=%{y}<extra></extra>\", \"legendgroup\": \"United\", \"marker\": {\"color\": \"#FFA15A\"}, \"name\": \"United\", \"offsetgroup\": \"United\", \"orientation\": \"v\", \"showlegend\": false, \"textposition\": \"auto\", \"type\": \"bar\", \"x\": [\"United\"], \"xaxis\": \"x2\", \"y\": [40], \"yaxis\": \"y2\"}, {\"alignmentgroup\": \"True\", \"hovertemplate\": \"entity=%{x}<br>month=2011-03<br>count=%{y}<extra></extra>\", \"legendgroup\": \"Berlin\", \"marker\": {\"color\": \"#19d3f3\"}, \"name\": \"Berlin\", \"offsetgroup\": \"Berlin\", \"orientation\": \"v\", \"showlegend\": true, \"textposition\": \"auto\", \"type\": \"bar\", \"x\": [\"Berlin\"], \"xaxis\": \"x3\", \"y\": [44], \"yaxis\": \"y3\"}, {\"alignmentgroup\": \"True\", \"hovertemplate\": \"entity=%{x}<br>month=2011-04<br>count=%{y}<extra></extra>\", \"legendgroup\": \"Watson\", \"marker\": {\"color\": \"#FF6692\"}, \"name\": \"Watson\", \"offsetgroup\": \"Watson\", \"orientation\": \"v\", \"showlegend\": true, \"textposition\": \"auto\", \"type\": \"bar\", \"x\": [\"Watson\"], \"xaxis\": \"x2\", \"y\": [74], \"yaxis\": \"y2\"}, {\"alignmentgroup\": \"True\", \"hovertemplate\": \"entity=%{x}<br>month=2011-05<br>count=%{y}<extra></extra>\", \"legendgroup\": \"Scotland\", \"marker\": {\"color\": \"#B6E880\"}, \"name\": \"Scotland\", \"offsetgroup\": \"Scotland\", \"orientation\": \"v\", \"showlegend\": true, \"textposition\": \"auto\", \"type\": \"bar\", \"x\": [\"Scotland\"], \"xaxis\": \"x\", \"y\": [62], \"yaxis\": \"y\"}, {\"alignmentgroup\": \"True\", \"hovertemplate\": \"entity=%{x}<br>month=2011-05<br>count=%{y}<extra></extra>\", \"legendgroup\": \"M\\u00e9tro\", \"marker\": {\"color\": \"#FF97FF\"}, \"name\": \"M\\u00e9tro\", \"offsetgroup\": \"M\\u00e9tro\", \"orientation\": \"v\", \"showlegend\": true, \"textposition\": \"auto\", \"type\": \"bar\", \"x\": [\"M\\u00e9tro\"], \"xaxis\": \"x\", \"y\": [45], \"yaxis\": \"y\"}, {\"alignmentgroup\": \"True\", \"hovertemplate\": \"entity=%{x}<br>month=2011-05<br>count=%{y}<extra></extra>\", \"legendgroup\": \"English\", \"marker\": {\"color\": \"#FECB52\"}, \"name\": \"English\", \"offsetgroup\": \"English\", \"orientation\": \"v\", \"showlegend\": true, \"textposition\": \"auto\", \"type\": \"bar\", \"x\": [\"English\"], \"xaxis\": \"x\", \"y\": [41], \"yaxis\": \"y\"}],                        {\"annotations\": [{\"showarrow\": false, \"text\": \"2011-05\", \"textangle\": 90, \"x\": 0.98, \"xanchor\": \"left\", \"xref\": \"paper\", \"y\": 0.11375, \"yanchor\": \"middle\", \"yref\": \"paper\"}, {\"showarrow\": false, \"text\": \"2011-04\", \"textangle\": 90, \"x\": 0.98, \"xanchor\": \"left\", \"xref\": \"paper\", \"y\": 0.37124999999999997, \"yanchor\": \"middle\", \"yref\": \"paper\"}, {\"showarrow\": false, \"text\": \"2011-03\", \"textangle\": 90, \"x\": 0.98, \"xanchor\": \"left\", \"xref\": \"paper\", \"y\": 0.62875, \"yanchor\": \"middle\", \"yref\": \"paper\"}, {\"showarrow\": false, \"text\": \"2011-02\", \"textangle\": 90, \"x\": 0.98, \"xanchor\": \"left\", \"xref\": \"paper\", \"y\": 0.88625, \"yanchor\": \"middle\", \"yref\": \"paper\"}, {\"font\": {\"color\": \"black\", \"size\": 14}, \"showarrow\": false, \"text\": \"Counts\", \"textangle\": -90, \"x\": -0.07, \"xref\": \"paper\", \"y\": 0.5, \"yref\": \"paper\"}, {\"font\": {\"color\": \"black\", \"size\": 14}, \"showarrow\": false, \"text\": \"Entities\", \"textangle\": 0, \"x\": 0.5, \"xref\": \"paper\", \"y\": -0.2, \"yref\": \"paper\"}], \"barmode\": \"relative\", \"font\": {\"size\": 8}, \"legend\": {\"title\": {\"text\": \"entity\"}, \"tracegroupgap\": 0}, \"margin\": {\"t\": 60}, \"showlegend\": false, \"template\": {\"data\": {\"bar\": [{\"error_x\": {\"color\": \"#2a3f5f\"}, \"error_y\": {\"color\": \"#2a3f5f\"}, \"marker\": {\"line\": {\"color\": \"#E5ECF6\", \"width\": 0.5}}, \"type\": \"bar\"}], \"barpolar\": [{\"marker\": {\"line\": {\"color\": \"#E5ECF6\", \"width\": 0.5}}, \"type\": \"barpolar\"}], \"carpet\": [{\"aaxis\": {\"endlinecolor\": \"#2a3f5f\", \"gridcolor\": \"white\", \"linecolor\": \"white\", \"minorgridcolor\": \"white\", \"startlinecolor\": \"#2a3f5f\"}, \"baxis\": {\"endlinecolor\": \"#2a3f5f\", \"gridcolor\": \"white\", \"linecolor\": \"white\", \"minorgridcolor\": \"white\", \"startlinecolor\": \"#2a3f5f\"}, \"type\": \"carpet\"}], \"choropleth\": [{\"colorbar\": {\"outlinewidth\": 0, \"ticks\": \"\"}, \"type\": \"choropleth\"}], \"contour\": [{\"colorbar\": {\"outlinewidth\": 0, \"ticks\": \"\"}, \"colorscale\": [[0.0, \"#0d0887\"], [0.1111111111111111, \"#46039f\"], [0.2222222222222222, \"#7201a8\"], [0.3333333333333333, \"#9c179e\"], [0.4444444444444444, \"#bd3786\"], [0.5555555555555556, \"#d8576b\"], [0.6666666666666666, \"#ed7953\"], [0.7777777777777778, \"#fb9f3a\"], [0.8888888888888888, \"#fdca26\"], [1.0, \"#f0f921\"]], \"type\": \"contour\"}], \"contourcarpet\": [{\"colorbar\": {\"outlinewidth\": 0, \"ticks\": \"\"}, \"type\": \"contourcarpet\"}], \"heatmap\": [{\"colorbar\": {\"outlinewidth\": 0, \"ticks\": \"\"}, \"colorscale\": [[0.0, \"#0d0887\"], [0.1111111111111111, \"#46039f\"], [0.2222222222222222, \"#7201a8\"], [0.3333333333333333, \"#9c179e\"], [0.4444444444444444, \"#bd3786\"], [0.5555555555555556, \"#d8576b\"], [0.6666666666666666, \"#ed7953\"], [0.7777777777777778, \"#fb9f3a\"], [0.8888888888888888, \"#fdca26\"], [1.0, \"#f0f921\"]], \"type\": \"heatmap\"}], \"heatmapgl\": [{\"colorbar\": {\"outlinewidth\": 0, \"ticks\": \"\"}, \"colorscale\": [[0.0, \"#0d0887\"], [0.1111111111111111, \"#46039f\"], [0.2222222222222222, \"#7201a8\"], [0.3333333333333333, \"#9c179e\"], [0.4444444444444444, \"#bd3786\"], [0.5555555555555556, \"#d8576b\"], [0.6666666666666666, \"#ed7953\"], [0.7777777777777778, \"#fb9f3a\"], [0.8888888888888888, \"#fdca26\"], [1.0, \"#f0f921\"]], \"type\": \"heatmapgl\"}], \"histogram\": [{\"marker\": {\"colorbar\": {\"outlinewidth\": 0, \"ticks\": \"\"}}, \"type\": \"histogram\"}], \"histogram2d\": [{\"colorbar\": {\"outlinewidth\": 0, \"ticks\": \"\"}, \"colorscale\": [[0.0, \"#0d0887\"], [0.1111111111111111, \"#46039f\"], [0.2222222222222222, \"#7201a8\"], [0.3333333333333333, \"#9c179e\"], [0.4444444444444444, \"#bd3786\"], [0.5555555555555556, \"#d8576b\"], [0.6666666666666666, \"#ed7953\"], [0.7777777777777778, \"#fb9f3a\"], [0.8888888888888888, \"#fdca26\"], [1.0, \"#f0f921\"]], \"type\": \"histogram2d\"}], \"histogram2dcontour\": [{\"colorbar\": {\"outlinewidth\": 0, \"ticks\": \"\"}, \"colorscale\": [[0.0, \"#0d0887\"], [0.1111111111111111, \"#46039f\"], [0.2222222222222222, \"#7201a8\"], [0.3333333333333333, \"#9c179e\"], [0.4444444444444444, \"#bd3786\"], [0.5555555555555556, \"#d8576b\"], [0.6666666666666666, \"#ed7953\"], [0.7777777777777778, \"#fb9f3a\"], [0.8888888888888888, \"#fdca26\"], [1.0, \"#f0f921\"]], \"type\": \"histogram2dcontour\"}], \"mesh3d\": [{\"colorbar\": {\"outlinewidth\": 0, \"ticks\": \"\"}, \"type\": \"mesh3d\"}], \"parcoords\": [{\"line\": {\"colorbar\": {\"outlinewidth\": 0, \"ticks\": \"\"}}, \"type\": \"parcoords\"}], \"pie\": [{\"automargin\": true, \"type\": \"pie\"}], \"scatter\": [{\"marker\": {\"colorbar\": {\"outlinewidth\": 0, \"ticks\": \"\"}}, \"type\": \"scatter\"}], \"scatter3d\": [{\"line\": {\"colorbar\": {\"outlinewidth\": 0, \"ticks\": \"\"}}, \"marker\": {\"colorbar\": {\"outlinewidth\": 0, \"ticks\": \"\"}}, \"type\": \"scatter3d\"}], \"scattercarpet\": [{\"marker\": {\"colorbar\": {\"outlinewidth\": 0, \"ticks\": \"\"}}, \"type\": \"scattercarpet\"}], \"scattergeo\": [{\"marker\": {\"colorbar\": {\"outlinewidth\": 0, \"ticks\": \"\"}}, \"type\": \"scattergeo\"}], \"scattergl\": [{\"marker\": {\"colorbar\": {\"outlinewidth\": 0, \"ticks\": \"\"}}, \"type\": \"scattergl\"}], \"scattermapbox\": [{\"marker\": {\"colorbar\": {\"outlinewidth\": 0, \"ticks\": \"\"}}, \"type\": \"scattermapbox\"}], \"scatterpolar\": [{\"marker\": {\"colorbar\": {\"outlinewidth\": 0, \"ticks\": \"\"}}, \"type\": \"scatterpolar\"}], \"scatterpolargl\": [{\"marker\": {\"colorbar\": {\"outlinewidth\": 0, \"ticks\": \"\"}}, \"type\": \"scatterpolargl\"}], \"scatterternary\": [{\"marker\": {\"colorbar\": {\"outlinewidth\": 0, \"ticks\": \"\"}}, \"type\": \"scatterternary\"}], \"surface\": [{\"colorbar\": {\"outlinewidth\": 0, \"ticks\": \"\"}, \"colorscale\": [[0.0, \"#0d0887\"], [0.1111111111111111, \"#46039f\"], [0.2222222222222222, \"#7201a8\"], [0.3333333333333333, \"#9c179e\"], [0.4444444444444444, \"#bd3786\"], [0.5555555555555556, \"#d8576b\"], [0.6666666666666666, \"#ed7953\"], [0.7777777777777778, \"#fb9f3a\"], [0.8888888888888888, \"#fdca26\"], [1.0, \"#f0f921\"]], \"type\": \"surface\"}], \"table\": [{\"cells\": {\"fill\": {\"color\": \"#EBF0F8\"}, \"line\": {\"color\": \"white\"}}, \"header\": {\"fill\": {\"color\": \"#C8D4E3\"}, \"line\": {\"color\": \"white\"}}, \"type\": \"table\"}]}, \"layout\": {\"annotationdefaults\": {\"arrowcolor\": \"#2a3f5f\", \"arrowhead\": 0, \"arrowwidth\": 1}, \"autotypenumbers\": \"strict\", \"coloraxis\": {\"colorbar\": {\"outlinewidth\": 0, \"ticks\": \"\"}}, \"colorscale\": {\"diverging\": [[0, \"#8e0152\"], [0.1, \"#c51b7d\"], [0.2, \"#de77ae\"], [0.3, \"#f1b6da\"], [0.4, \"#fde0ef\"], [0.5, \"#f7f7f7\"], [0.6, \"#e6f5d0\"], [0.7, \"#b8e186\"], [0.8, \"#7fbc41\"], [0.9, \"#4d9221\"], [1, \"#276419\"]], \"sequential\": [[0.0, \"#0d0887\"], [0.1111111111111111, \"#46039f\"], [0.2222222222222222, \"#7201a8\"], [0.3333333333333333, \"#9c179e\"], [0.4444444444444444, \"#bd3786\"], [0.5555555555555556, \"#d8576b\"], [0.6666666666666666, \"#ed7953\"], [0.7777777777777778, \"#fb9f3a\"], [0.8888888888888888, \"#fdca26\"], [1.0, \"#f0f921\"]], \"sequentialminus\": [[0.0, \"#0d0887\"], [0.1111111111111111, \"#46039f\"], [0.2222222222222222, \"#7201a8\"], [0.3333333333333333, \"#9c179e\"], [0.4444444444444444, \"#bd3786\"], [0.5555555555555556, \"#d8576b\"], [0.6666666666666666, \"#ed7953\"], [0.7777777777777778, \"#fb9f3a\"], [0.8888888888888888, \"#fdca26\"], [1.0, \"#f0f921\"]]}, \"colorway\": [\"#636efa\", \"#EF553B\", \"#00cc96\", \"#ab63fa\", \"#FFA15A\", \"#19d3f3\", \"#FF6692\", \"#B6E880\", \"#FF97FF\", \"#FECB52\"], \"font\": {\"color\": \"#2a3f5f\"}, \"geo\": {\"bgcolor\": \"white\", \"lakecolor\": \"white\", \"landcolor\": \"#E5ECF6\", \"showlakes\": true, \"showland\": true, \"subunitcolor\": \"white\"}, \"hoverlabel\": {\"align\": \"left\"}, \"hovermode\": \"closest\", \"mapbox\": {\"style\": \"light\"}, \"paper_bgcolor\": \"white\", \"plot_bgcolor\": \"#E5ECF6\", \"polar\": {\"angularaxis\": {\"gridcolor\": \"white\", \"linecolor\": \"white\", \"ticks\": \"\"}, \"bgcolor\": \"#E5ECF6\", \"radialaxis\": {\"gridcolor\": \"white\", \"linecolor\": \"white\", \"ticks\": \"\"}}, \"scene\": {\"xaxis\": {\"backgroundcolor\": \"#E5ECF6\", \"gridcolor\": \"white\", \"gridwidth\": 2, \"linecolor\": \"white\", \"showbackground\": true, \"ticks\": \"\", \"zerolinecolor\": \"white\"}, \"yaxis\": {\"backgroundcolor\": \"#E5ECF6\", \"gridcolor\": \"white\", \"gridwidth\": 2, \"linecolor\": \"white\", \"showbackground\": true, \"ticks\": \"\", \"zerolinecolor\": \"white\"}, \"zaxis\": {\"backgroundcolor\": \"#E5ECF6\", \"gridcolor\": \"white\", \"gridwidth\": 2, \"linecolor\": \"white\", \"showbackground\": true, \"ticks\": \"\", \"zerolinecolor\": \"white\"}}, \"shapedefaults\": {\"line\": {\"color\": \"#2a3f5f\"}}, \"ternary\": {\"aaxis\": {\"gridcolor\": \"white\", \"linecolor\": \"white\", \"ticks\": \"\"}, \"baxis\": {\"gridcolor\": \"white\", \"linecolor\": \"white\", \"ticks\": \"\"}, \"bgcolor\": \"#E5ECF6\", \"caxis\": {\"gridcolor\": \"white\", \"linecolor\": \"white\", \"ticks\": \"\"}}, \"title\": {\"x\": 0.05}, \"xaxis\": {\"automargin\": true, \"gridcolor\": \"white\", \"linecolor\": \"white\", \"ticks\": \"\", \"title\": {\"standoff\": 15}, \"zerolinecolor\": \"white\", \"zerolinewidth\": 2}, \"yaxis\": {\"automargin\": true, \"gridcolor\": \"white\", \"linecolor\": \"white\", \"ticks\": \"\", \"title\": {\"standoff\": 15}, \"zerolinecolor\": \"white\", \"zerolinewidth\": 2}}}, \"xaxis\": {\"anchor\": \"y\", \"categoryarray\": [\"England\", \"US\", \"Chelsea\", \"Britain\", \"British\", \"UK\", \"London\", \"Arsenal\", \"Labour\", \"Barcelona\", \"Liverpool\", \"Libya\", \"Gaddafi\", \"France\", \"United\", \"Berlin\", \"Watson\", \"Scotland\", \"M\\u00e9tro\", \"English\"], \"categoryorder\": \"array\", \"domain\": [0.0, 0.98], \"title\": {\"text\": \"\"}}, \"xaxis2\": {\"anchor\": \"y2\", \"domain\": [0.0, 0.98], \"matches\": \"x\", \"showticklabels\": false, \"title\": {\"text\": \"\"}}, \"xaxis3\": {\"anchor\": \"y3\", \"domain\": [0.0, 0.98], \"matches\": \"x\", \"showticklabels\": false, \"title\": {\"text\": \"\"}}, \"xaxis4\": {\"anchor\": \"y4\", \"domain\": [0.0, 0.98], \"matches\": \"x\", \"showticklabels\": false, \"title\": {\"text\": \"\"}}, \"yaxis\": {\"anchor\": \"x\", \"domain\": [0.0, 0.2275], \"title\": {\"text\": \"\"}}, \"yaxis2\": {\"anchor\": \"x2\", \"domain\": [0.2575, 0.485], \"matches\": \"y\", \"title\": {\"text\": \"\"}}, \"yaxis3\": {\"anchor\": \"x3\", \"domain\": [0.515, 0.7425], \"matches\": \"y\", \"title\": {\"text\": \"\"}}, \"yaxis4\": {\"anchor\": \"x4\", \"domain\": [0.7725, 1.0], \"matches\": \"y\", \"title\": {\"text\": \"\"}}},                        {\"responsive\": true}                    ).then(function(){\n",
       "                            \n",
       "var gd = document.getElementById('10988f4b-54dc-4614-9e13-019f3bf40d5e');\n",
       "var x = new MutationObserver(function (mutations, observer) {{\n",
       "        var display = window.getComputedStyle(gd).display;\n",
       "        if (!display || display === 'none') {{\n",
       "            console.log([gd, 'removed!']);\n",
       "            Plotly.purge(gd);\n",
       "            observer.disconnect();\n",
       "        }}\n",
       "}});\n",
       "\n",
       "// Listen for the removal of the full notebook cells\n",
       "var notebookContainer = gd.closest('#notebook-container');\n",
       "if (notebookContainer) {{\n",
       "    x.observe(notebookContainer, {childList: true});\n",
       "}}\n",
       "\n",
       "// Listen for the clearing of the current output cell\n",
       "var outputEl = gd.closest('.output');\n",
       "if (outputEl) {{\n",
       "    x.observe(outputEl, {childList: true});\n",
       "}}\n",
       "\n",
       "                        })                };                });            </script>        </div>"
      ]
     },
     "metadata": {},
     "output_type": "display_data"
    }
   ],
   "source": [
    "import plotly.express as px\n",
    "import plotly.graph_objects as go\n",
    "#Reference: https://stackoverflow.com/questions/63386812/plotly-how-to-hide-axis-titles-in-a-plotly-express-figure-with-facets, 15.1.2021.\n",
    "\n",
    "fig = px.bar(df_plot[df_plot[\"month\"].isin(in_cluster_list)], x=\"entity\", y=\"count\", color=\"entity\",\n",
    "             facet_row=\"month\")\n",
    "fig.for_each_annotation(lambda a: a.update(text=a.text.split(\"=\")[-1]))\n",
    "# hide subplot y-axis titles and x-axis titles\n",
    "for axis in fig.layout:\n",
    "    if type(fig.layout[axis]) == go.layout.YAxis:\n",
    "        fig.layout[axis].title.text = ''\n",
    "    if type(fig.layout[axis]) == go.layout.XAxis:\n",
    "        fig.layout[axis].title.text = ''\n",
    "        \n",
    "# keep all other annotations and add single y-axis and x-axis title:\n",
    "fig.update_layout(\n",
    "    # keep the original annotations and add a list of new annotations:\n",
    "    annotations = list(fig.layout.annotations) + \n",
    "    [go.layout.Annotation(\n",
    "            x=-0.07,\n",
    "            y=0.5,\n",
    "            font=dict(\n",
    "                size=14, color = 'black'\n",
    "            ),\n",
    "            showarrow=False,\n",
    "            text=\"Counts\",\n",
    "            textangle=-90,\n",
    "            xref=\"paper\",\n",
    "            yref=\"paper\"\n",
    "        )\n",
    "    ] +\n",
    "    [go.layout.Annotation(\n",
    "            x=0.5,\n",
    "            y=-0.2,\n",
    "            font=dict(\n",
    "                size=14, color = 'black'\n",
    "            ),\n",
    "            showarrow=False,\n",
    "            text=\"Entities\",\n",
    "            textangle=-0,\n",
    "            xref=\"paper\",\n",
    "            yref=\"paper\"\n",
    "        )\n",
    "    ]\n",
    ")\n",
    "\n",
    "fig.update_layout(\n",
    "    showlegend=False,\n",
    "    font=dict(size=8)\n",
    ")\n",
    "\n",
    "fig.show()"
   ]
  },
  {
   "cell_type": "code",
   "execution_count": null,
   "metadata": {},
   "outputs": [],
   "source": []
  }
 ],
 "metadata": {
  "kernelspec": {
   "display_name": "Python 3",
   "language": "python",
   "name": "python3"
  },
  "language_info": {
   "codemirror_mode": {
    "name": "ipython",
    "version": 3
   },
   "file_extension": ".py",
   "mimetype": "text/x-python",
   "name": "python",
   "nbconvert_exporter": "python",
   "pygments_lexer": "ipython3",
   "version": "3.7.8"
  }
 },
 "nbformat": 4,
 "nbformat_minor": 4
}
